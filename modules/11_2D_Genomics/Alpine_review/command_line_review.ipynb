{
 "cells": [
  {
   "cell_type": "markdown",
   "metadata": {},
   "source": [
    "## Follow along and execute the cells one at a time, filling in the blanks.\n",
    "\n",
    "These exercises will show the general form of a command and ask you to modify or replace the text to complete the question being asked."
   ]
  },
  {
   "cell_type": "markdown",
   "metadata": {},
   "source": [
    "## File/folder navigation"
   ]
  },
  {
   "cell_type": "markdown",
   "metadata": {},
   "source": [
    "##### **1) In the code cell below,** replace the `___`  in the command `cd ___` to get to your home directory.\n",
    "\n",
    "There may be more than one way to do this."
   ]
  },
  {
   "cell_type": "code",
   "execution_count": null,
   "metadata": {},
   "outputs": [],
   "source": [
    "# complete the following command\n",
    "cd __"
   ]
  },
  {
   "cell_type": "code",
   "execution_count": 1,
   "metadata": {},
   "outputs": [
    {
     "name": "stdout",
     "output_type": "stream",
     "text": [
      "/projects/dcking@colostate.edu/CM515-course-2025/modules/07_Command_Line\n"
     ]
    }
   ],
   "source": [
    "# run this to check that you're in the right place\n",
    "pwd"
   ]
  },
  {
   "cell_type": "markdown",
   "metadata": {},
   "source": [
    "##### **2) Change to your projects directory.** It has the form: `cd /projects/your_username`. David's is `/projects/dcking@colostate.edu`."
   ]
  },
  {
   "cell_type": "code",
   "execution_count": null,
   "metadata": {},
   "outputs": [],
   "source": [
    "cd /projects/_____"
   ]
  },
  {
   "cell_type": "code",
   "execution_count": null,
   "metadata": {},
   "outputs": [],
   "source": [
    "# run this to check that you're in the right place\n",
    "pwd"
   ]
  },
  {
   "cell_type": "markdown",
   "metadata": {},
   "source": [
    "Rerun from **2)** if `pwd` doesn't show your projects directory. "
   ]
  },
  {
   "cell_type": "markdown",
   "metadata": {},
   "source": [
    "##### **3a)** Change to the course repo\n",
    "\n",
    "Provided you are in your projects directory, the class repository directory should exist. It is called *CM515-course-2025*"
   ]
  },
  {
   "cell_type": "code",
   "execution_count": null,
   "metadata": {},
   "outputs": [],
   "source": [
    "cd ___"
   ]
  },
  {
   "cell_type": "code",
   "execution_count": null,
   "metadata": {},
   "outputs": [],
   "source": [
    "pwd"
   ]
  },
  {
   "cell_type": "markdown",
   "metadata": {},
   "source": [
    "##### **3b)** Change directories to the module 07_Command_Line.\n",
    "\n",
    "<mark>Hint:</mark> *there is an intervening directory!* "
   ]
  },
  {
   "cell_type": "code",
   "execution_count": null,
   "metadata": {},
   "outputs": [],
   "source": [
    "# take a look at the files in your current directory\n",
    "ls"
   ]
  },
  {
   "cell_type": "code",
   "execution_count": null,
   "metadata": {},
   "outputs": [],
   "source": [
    "# change to the intervening directory\n",
    "cd _____\n",
    "pwd"
   ]
  },
  {
   "cell_type": "code",
   "execution_count": null,
   "metadata": {},
   "outputs": [],
   "source": [
    "# change to the Command line module (07...)\n",
    "cd ____\n",
    "pwd"
   ]
  },
  {
   "cell_type": "markdown",
   "metadata": {},
   "source": [
    "##### **3c)** Find the directory **animal-counts** and change to it\n",
    "\n",
    "Use `cd`, `ls`, `pwd` in the empty cell below to find and navigate to \"animal-counts\". "
   ]
  },
  {
   "cell_type": "code",
   "execution_count": null,
   "metadata": {},
   "outputs": [],
   "source": []
  },
  {
   "cell_type": "markdown",
   "metadata": {},
   "source": [
    "Check that you're in the right directory using `pwd` and `ls`. There should be a file there called *animals.csv*.\n",
    "\n",
    "<mark>Make sure you're in this directory before proceeding to the next section!</mark>"
   ]
  },
  {
   "cell_type": "markdown",
   "metadata": {},
   "source": [
    "---"
   ]
  },
  {
   "cell_type": "markdown",
   "metadata": {},
   "source": [
    "## Working with tabular files\n",
    "\n",
    "You must be in *07_Command_Line/ ... /animal-counts* to proceed. *...* means intervening directories.\n",
    "\n",
    "### File format\n",
    "\n",
    "Tabular files have a regular, columnar format and are ideally *tidy*, meaning that every column can be mapped to a variable. In this section, we will explore a *csv*, which stands for **comma-separated values.**"
   ]
  },
  {
   "cell_type": "code",
   "execution_count": 7,
   "metadata": {},
   "outputs": [
    {
     "name": "stdout",
     "output_type": "stream",
     "text": [
      "animals.csv\n"
     ]
    }
   ],
   "source": [
    "# confirm that you have animals.csv\n",
    "ls animals.csv"
   ]
  },
  {
   "cell_type": "markdown",
   "metadata": {},
   "source": [
    "If you got a pink error that says *ls: cannot access 'animals.csv': No such file or directory*, go back to 3c in the previous section."
   ]
  },
  {
   "cell_type": "markdown",
   "metadata": {},
   "source": [
    "### **1) use various commands** get information about the file\n",
    "\n",
    "To get more information about how to use a command, use `man command`. For example, to learn the usage for the word count program, do `man wc` in a terminal or code cell."
   ]
  },
  {
   "cell_type": "code",
   "execution_count": null,
   "metadata": {},
   "outputs": [],
   "source": [
    "# get the first 10 lines of animals.csv. Hint: this command is the same as in R\n",
    "______ animals.csv"
   ]
  },
  {
   "cell_type": "markdown",
   "metadata": {},
   "source": [
    "Why didn't we get 10 lines?"
   ]
  },
  {
   "cell_type": "code",
   "execution_count": null,
   "metadata": {},
   "outputs": [],
   "source": [
    "# get the number of lines by using an option/argument to the command 'wc'. Replace '__' with the argument.\n",
    "wc __ animals.csv"
   ]
  },
  {
   "cell_type": "markdown",
   "metadata": {},
   "source": [
    "### 2) Extracting columns\n",
    "\n",
    "This section will demonstrate how you work with columnar files on the command line. This has similarities to R, but also differs in significant ways."
   ]
  },
  {
   "cell_type": "markdown",
   "metadata": {},
   "source": [
    "#### Extract the animal name.\n",
    "\n",
    "We'll use `cut` to get a the second column of a csv, but we have to look at parameters."
   ]
  },
  {
   "cell_type": "markdown",
   "metadata": {},
   "source": [
    "##### `cut` usage message\n",
    "\n",
    "Here is some truncated output from running `cut --help`\n",
    "\n",
    "```\n",
    "Usage: cut OPTION... [FILE]...\n",
    "Print selected parts of lines from each FILE to standard output.\n",
    "\n",
    "With no FILE, or when FILE is -, read standard input.\n",
    "\n",
    "Mandatory arguments to long options are mandatory for short options too.\n",
    "  -b, --bytes=LIST        select only these bytes\n",
    "  -c, --characters=LIST   select only these characters\n",
    "  -d, --delimiter=DELIM   use DELIM instead of TAB for field delimiter\n",
    "  -f, --fields=LIST       select only these fields;  also print any line\n",
    "                            that contains no delimiter character, unless\n",
    "                            the -s option is specified\n",
    "  -n                      with -b: don't split multibyte characters\n",
    "      --complement        complement the set of selected bytes, characters\n",
    "                            or fields\n",
    "  -s, --only-delimited    do not print lines not containing delimiters\n",
    "      --output-delimiter=STRING  use STRING as the output delimiter\n",
    "                            the default is to use the input delimiter\n",
    "  -z, --zero-terminated    line delimiter is NUL, not newline\n",
    "      --help     display this help and exit\n",
    "      --version  output version information and exit\n",
    "```\n",
    "\n",
    "We need to change the deliminator (*delim*) to a comma.\n",
    "\n",
    "`-d, --delimiter=DELIM   use DELIM instead of TAB for field delimiter`"
   ]
  },
  {
   "cell_type": "markdown",
   "metadata": {},
   "source": [
    "&nbsp;\n",
    "\n",
    "Let's use the long form the the parameters, (double dashes), to make our work more explicitly readable.\n",
    "\n",
    "&nbsp;"
   ]
  },
  {
   "cell_type": "code",
   "execution_count": 14,
   "metadata": {},
   "outputs": [
    {
     "name": "stdout",
     "output_type": "stream",
     "text": [
      "deer\n",
      "rabbit\n",
      "raccoon\n",
      "rabbit\n",
      "deer\n",
      "fox\n",
      "rabbit\n",
      "bear\n"
     ]
    }
   ],
   "source": [
    "cut --delimiter=, --fields=2 animals.csv"
   ]
  },
  {
   "cell_type": "markdown",
   "metadata": {},
   "source": [
    "&nbsp;\n",
    "\n",
    "You can use the shorter form of the command for brevity. E.g. `-d` instead of `--delimiter=`\n",
    "\n",
    "&nbsp;"
   ]
  },
  {
   "cell_type": "code",
   "execution_count": 15,
   "metadata": {},
   "outputs": [
    {
     "name": "stdout",
     "output_type": "stream",
     "text": [
      "deer\n",
      "rabbit\n",
      "raccoon\n",
      "rabbit\n",
      "deer\n",
      "fox\n",
      "rabbit\n",
      "bear\n"
     ]
    }
   ],
   "source": [
    "cut -d, -f2 animals.csv"
   ]
  },
  {
   "cell_type": "markdown",
   "metadata": {},
   "source": [
    "##### What questions can we answer with pipes?\n",
    "\n",
    "Using `sort`, and `uniq`, we can see : \n",
    "- how many different days were recorded, and \n",
    "- how many different animals."
   ]
  },
  {
   "cell_type": "code",
   "execution_count": 17,
   "metadata": {},
   "outputs": [
    {
     "name": "stdout",
     "output_type": "stream",
     "text": [
      "      1 bear\n",
      "      2 deer\n",
      "      1 fox\n",
      "      3 rabbit\n",
      "      1 raccoon\n"
     ]
    }
   ],
   "source": [
    "cut -d, -f2 animals.csv | sort | uniq -c"
   ]
  },
  {
   "cell_type": "markdown",
   "metadata": {},
   "source": [
    "&nbsp;\n",
    "\n",
    "Now, complete the `fields` argument to count the number of observations taken on each day.\n",
    "\n",
    "&nbsp;"
   ]
  },
  {
   "cell_type": "code",
   "execution_count": null,
   "metadata": {},
   "outputs": [],
   "source": [
    "cut --delimiter=, --fields=___  animals.csv | sort | uniq -c"
   ]
  },
  {
   "cell_type": "markdown",
   "metadata": {},
   "source": [
    "##### Selecting more than one column"
   ]
  },
  {
   "cell_type": "code",
   "execution_count": 24,
   "metadata": {},
   "outputs": [
    {
     "name": "stdout",
     "output_type": "stream",
     "text": [
      "2012-11-05,5\n",
      "2012-11-05,22\n",
      "2012-11-05,7\n",
      "2012-11-06,19\n",
      "2012-11-06,2\n",
      "2012-11-06,4\n",
      "2012-11-07,16\n",
      "2012-11-07,1\n"
     ]
    }
   ],
   "source": [
    "# date and count\n",
    "cut -f1,3 -d, animals.csv"
   ]
  },
  {
   "cell_type": "code",
   "execution_count": null,
   "metadata": {},
   "outputs": [],
   "source": [
    "# there are two more pairwise combinations: date and animal, animal and count specify them below:\n",
    "\n",
    "# date and animal\n",
    "cut --fields=____ --delimiter=____ animals.csv\n",
    "\n",
    "# animal and count\n",
    "cut --fields=____ --delimiter=____ animals.csv"
   ]
  },
  {
   "cell_type": "markdown",
   "metadata": {},
   "source": [
    "**Things to note.**\n",
    "\n",
    "- The order of the dash arguments doesn't matter\n",
    "- output has the same delimiter as input"
   ]
  },
  {
   "cell_type": "markdown",
   "metadata": {},
   "source": [
    "**Pitfalls, dealing with errors**\n",
    "\n",
    "What happens if you forget the input file? ***animals.csv***  <br> The kernel will hang because it's waiting for input you didn't supply *(and will not be able to in jupyter notebooks)*. \n",
    "\n",
    "Get ready to **interupt the kernel** by: \n",
    "1. going to the menu at the top, \n",
    "2. selecting *Kernel* between *Run* and *Tabs* and then \n",
    "3. selecting the first option. *Interupt Kernel*. \n",
    "\n",
    "Shortcut is just typing *i,i*."
   ]
  },
  {
   "cell_type": "code",
   "execution_count": 1,
   "metadata": {},
   "outputs": [
    {
     "name": "stdout",
     "output_type": "stream",
     "text": [
      "\n"
     ]
    }
   ],
   "source": [
    "# animals.csv is omitted on purpose to show what happens if the command is waiting for input\n",
    "# interupt the kernel to get out of it\n",
    "cut -d, -f1 | sort | uniq -c"
   ]
  },
  {
   "cell_type": "markdown",
   "metadata": {},
   "source": [
    "### 3) Find the mistake!\n",
    "\n",
    "This section will give you some practice on \n",
    "- fixing errors, \n",
    "- correcting missing or incomplete syntax/commands. \n",
    "- troubleshooting arguments to commands\n",
    "\n",
    "The objective is to get some practice troubleshooting different aspects of code."
   ]
  },
  {
   "cell_type": "code",
   "execution_count": null,
   "metadata": {},
   "outputs": [],
   "source": [
    "cd /projects/USER/CM515-course/modules/07_Command_Line"
   ]
  },
  {
   "cell_type": "code",
   "execution_count": null,
   "metadata": {},
   "outputs": [],
   "source": [
    "cd shell_lesson_data                         # Get to the data from module 07"
   ]
  },
  {
   "cell_type": "code",
   "execution_count": null,
   "metadata": {},
   "outputs": [],
   "source": [
    "head north-pacific-gyre/NENEO*Z.txt         # Get the first 10 lines of data files that end in Z.txt "
   ]
  },
  {
   "cell_type": "code",
   "execution_count": null,
   "metadata": {},
   "outputs": [],
   "source": [
    "head - 2 north-pacific-gyre/NENE01729A.txt  # Go to Kernel->Interrupt Kernel if you run this unchanged"
   ]
  },
  {
   "cell_type": "code",
   "execution_count": null,
   "metadata": {},
   "outputs": [],
   "source": [
    "touc newfile.txt                            # Make a new empty file"
   ]
  },
  {
   "cell_type": "code",
   "execution_count": null,
   "metadata": {},
   "outputs": [],
   "source": [
    "make dir my_directory                       # Make a new empty directory"
   ]
  },
  {
   "cell_type": "code",
   "execution_count": null,
   "metadata": {},
   "outputs": [],
   "source": [
    "rename my_directory my_dir                  # Rename directory  "
   ]
  },
  {
   "cell_type": "code",
   "execution_count": null,
   "metadata": {},
   "outputs": [],
   "source": [
    "Move newfile.txt my_dir                     # Move newfile.txt to my_dir"
   ]
  },
  {
   "cell_type": "code",
   "execution_count": null,
   "metadata": {},
   "outputs": [],
   "source": [
    "Move my_dir/newfile.txt                     # Move newfile.txt back to the current directory"
   ]
  }
 ],
 "metadata": {
  "kernelspec": {
   "display_name": "Custom Bash Environment",
   "language": "bash",
   "name": "conda_bash_kernel"
  },
  "language_info": {
   "codemirror_mode": "shell",
   "file_extension": ".sh",
   "mimetype": "text/x-sh",
   "name": "bash"
  }
 },
 "nbformat": 4,
 "nbformat_minor": 4
}
