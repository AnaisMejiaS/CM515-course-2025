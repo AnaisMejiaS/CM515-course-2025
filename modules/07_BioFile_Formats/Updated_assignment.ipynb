{
 "cells": [
  {
   "cell_type": "markdown",
   "id": "4e55e4fe",
   "metadata": {},
   "source": [
    "## Command Line Bioinformatics: Exploring File Formats\n",
    "**Duration**: 2 hours\n",
    "**Goals**:\n",
    "- Learn to explore bioinformatics file formats without memorizing their structures.\n",
    "- Master basic command-line tools like `grep`, `awk`, `sort`, and `less` for data exploration.\n",
    "- Develop skills in checking documentation (e.g., `man`, `--help`) and piping commands efficiently.\n",
    "\n",
    "This notebook is designed for new bioinformatics students. You’ll use pre-installed tools to investigate common file formats: FASTA, FASTQ, GFF, and BED. No additional installations are required for the main exercises.\n",
    "\n"
   ]
  },
  {
   "cell_type": "markdown",
   "id": "9a0dad5d",
   "metadata": {},
   "source": [
    "## Setup\n",
    "\n",
    "Before starting, ensure you have:\n",
    "- Access to a \"Data\" directory containing example files: `*.fasta`, `*.fastq`, `*.gff`, `*.bed`.\n",
    "- A terminal or Jupyter notebook environment with standard UNIX tools installed (`cat`, `grep`, `awk`, etc.).\n",
    "Let’s verify the example files are present:\n",
    "\n"
   ]
  },
  {
   "cell_type": "code",
   "execution_count": 6,
   "id": "56d27698",
   "metadata": {
    "vscode": {
     "languageId": "shellscript"
    }
   },
   "outputs": [
    {
     "name": "stdout",
     "output_type": "stream",
     "text": [
      " Animals.fasta\n",
      " Bio_data\n",
      " Biology_protein_data.fasta\n",
      " Covid_1.fastq\n",
      " Covid_2.fastq\n",
      "\u001b[38;5;4m\u001b[1m fasterq.tmp.archlinux.15709\u001b[0m\n",
      "\u001b[38;5;4m\u001b[1m Mystery_Data\u001b[0m\n",
      " Pan_paniscus.cds.fa\n",
      " Pan_paniscus.panpan1.1.113.gff3\n",
      " Pan_paniscus.panpan1.1.113.gtf\n",
      " Pan_paniscus.panpan1.1.cds.all.fa\n",
      " Pan_paniscus.panpan1.1.dna.chromosome.1.fa.gz\n",
      " SARS_CoV_2_ref.fasta\n",
      "\u001b[38;5;4m\u001b[1m SRR22903825\u001b[0m\n",
      " Twist_Exome_Core_Covered_Targets_hg19_liftover.bed\n",
      " Twist_Exome_Core_Covered_Targets_hg38.bed\n"
     ]
    }
   ],
   "source": [
    "# List the contents of the Data directory\n",
    "ls Data/"
   ]
  },
  {
   "cell_type": "markdown",
   "id": "8a24e31b",
   "metadata": {},
   "source": [
    "## **Task**: Run the command above. Do you see files ending in `.fasta`, `.fastq`, `.gff`, and `.bed`? If not, let your instructor know\n",
    "\n"
   ]
  },
  {
   "cell_type": "markdown",
   "id": "800e7957",
   "metadata": {},
   "source": [
    "## Resources\n",
    "\n",
    "Here are the command-line tools we’ll use (all standard and pre-installed):\n",
    "- `cat`: Concatenates and displays file contents.\n",
    "- `less`: Views files page by page (use `q` to quit).\n",
    "- `grep`: Searches for patterns in files.\n",
    "- `sort`: Sorts lines alphabetically or numerically.\n",
    "- `uniq`: Removes or counts duplicate lines (use with `sort`).\n",
    "- `file`: Identifies file types.\n",
    "- `awk`: Processes text and extracts fields.\n",
    "- `head`: Shows the first few lines of a file.\n",
    "- `tail`: Shows the last few lines of a file.\n",
    "- `wc`: Counts lines, words, or characters.\n",
    "- `gzip`/`gunzip`: Compresses or decompresses files (e.g., `.gz`).\n",
    "\n",
    "**External Resources**:\n",
    "- [BED Format FAQ](https://genome.ucsc.edu/FAQ/FAQformat.html)\n",
    "- [Learning Bioinformatics at Home](https://github.com/harvardinformatics/learning-bioinformatics-at-home)\n",
    "\n"
   ]
  },
  {
   "cell_type": "markdown",
   "id": "1368b812",
   "metadata": {},
   "source": [
    "## Workflow: Using Command-Line Tools\n",
    "\n",
    "Let’s build a workflow for exploring files. Try these commands step-by-step:"
   ]
  },
  {
   "cell_type": "markdown",
   "id": "71cf645f",
   "metadata": {},
   "source": [
    "## 1. Check Documentation"
   ]
  },
  {
   "cell_type": "code",
   "execution_count": null,
   "id": "5c7d722a",
   "metadata": {
    "vscode": {
     "languageId": "shellscript"
    }
   },
   "outputs": [],
   "source": [
    "man grep  #Shows the manual for grep"
   ]
  },
  {
   "cell_type": "code",
   "execution_count": null,
   "id": "18efd82a",
   "metadata": {
    "vscode": {
     "languageId": "shellscript"
    }
   },
   "outputs": [],
   "source": [
    "ls --help  #Displays help for ls"
   ]
  },
  {
   "cell_type": "markdown",
   "id": "3ebb6979",
   "metadata": {},
   "source": [
    "## 2. Navigate Directories\n",
    "Check your location and move around:\n",
    " * you want to be here: \"/home/user/CM515-course-2025/modules/07_BioFile_Formats\" * "
   ]
  },
  {
   "cell_type": "code",
   "execution_count": null,
   "id": "804816a5",
   "metadata": {
    "vscode": {
     "languageId": "shellscript"
    }
   },
   "outputs": [],
   "source": [
    "pwd       #Confirm your location"
   ]
  },
  {
   "cell_type": "code",
   "execution_count": null,
   "id": "d2eb0b3a",
   "metadata": {
    "vscode": {
     "languageId": "shellscript"
    }
   },
   "outputs": [],
   "source": [
    "cd Data/  #Enter the Data directory"
   ]
  },
  {
   "cell_type": "markdown",
   "id": "259b61b6",
   "metadata": {},
   "source": [
    "## 3. List Files\n",
    "Explore the \"Data\" directory:"
   ]
  },
  {
   "cell_type": "code",
   "execution_count": null,
   "id": "e9ad05e9",
   "metadata": {
    "vscode": {
     "languageId": "shellscript"
    }
   },
   "outputs": [],
   "source": [
    "ls Data/          #List filess"
   ]
  },
  {
   "cell_type": "code",
   "execution_count": null,
   "id": "9df8b77d",
   "metadata": {
    "vscode": {
     "languageId": "shellscript"
    }
   },
   "outputs": [],
   "source": [
    "ls Data/ -lh      #List with sizes and human-readable format"
   ]
  },
  {
   "cell_type": "code",
   "execution_count": null,
   "id": "64ce8610",
   "metadata": {
    "vscode": {
     "languageId": "shellscript"
    }
   },
   "outputs": [],
   "source": [
    "ls Data/ -lt      #Sort by modification time"
   ]
  },
  {
   "cell_type": "markdown",
   "id": "2565fedb",
   "metadata": {},
   "source": [
    "## 4. Check File Types\n",
    "Identify what kind of files you’re working with:"
   ]
  },
  {
   "cell_type": "code",
   "execution_count": null,
   "id": "39842d29",
   "metadata": {
    "vscode": {
     "languageId": "shellscript"
    }
   },
   "outputs": [],
   "source": [
    "file Data/Animals.fasta  #Example output: ASCII text"
   ]
  },
  {
   "cell_type": "markdown",
   "id": "d43d18bc",
   "metadata": {},
   "source": [
    "## 5. Check File Sizes\n",
    "Assess file sizes to understand your data:"
   ]
  },
  {
   "cell_type": "code",
   "execution_count": 7,
   "id": "8c217470",
   "metadata": {
    "vscode": {
     "languageId": "shellscript"
    }
   },
   "outputs": [
    {
     "name": "stdout",
     "output_type": "stream",
     "text": [
      ".\u001b[38;5;2mr\u001b[39m\u001b[38;5;3mw\u001b[39m\u001b[38;5;245m-\u001b[39m\u001b[38;5;2mr\u001b[39m\u001b[38;5;245m-\u001b[39m\u001b[38;5;245m-\u001b[39m\u001b[38;5;2mr\u001b[39m\u001b[38;5;245m-\u001b[39m\u001b[38;5;245m-\u001b[39m\u001b[38;5;6m\u001b[39m \u001b[38;5;230mjake\u001b[39m \u001b[38;5;187mjake\u001b[39m  \u001b[38;5;229m13\u001b[39m \u001b[38;5;229mKB\u001b[39m \u001b[38;5;36mSat Feb  1 21:13:34 2025\u001b[39m  Animals.fasta\n",
      ".\u001b[38;5;2mr\u001b[39m\u001b[38;5;3mw\u001b[39m\u001b[38;5;245m-\u001b[39m\u001b[38;5;2mr\u001b[39m\u001b[38;5;245m-\u001b[39m\u001b[38;5;245m-\u001b[39m\u001b[38;5;2mr\u001b[39m\u001b[38;5;245m-\u001b[39m\u001b[38;5;245m-\u001b[39m\u001b[38;5;6m\u001b[39m \u001b[38;5;230mjake\u001b[39m \u001b[38;5;187mjake\u001b[39m  \u001b[38;5;229m28\u001b[39m \u001b[38;5;229mKB\u001b[39m \u001b[38;5;36mWed Jan 29 11:24:21 2025\u001b[39m  Bio_data\n",
      ".\u001b[38;5;2mr\u001b[39m\u001b[38;5;3mw\u001b[39m\u001b[38;5;245m-\u001b[39m\u001b[38;5;2mr\u001b[39m\u001b[38;5;245m-\u001b[39m\u001b[38;5;245m-\u001b[39m\u001b[38;5;2mr\u001b[39m\u001b[38;5;245m-\u001b[39m\u001b[38;5;245m-\u001b[39m\u001b[38;5;6m\u001b[39m \u001b[38;5;230mjake\u001b[39m \u001b[38;5;187mjake\u001b[39m  \u001b[38;5;229m28\u001b[39m \u001b[38;5;229mKB\u001b[39m \u001b[38;5;36mSat Feb  1 22:20:24 2025\u001b[39m  Biology_protein_data.fasta\n",
      ".\u001b[38;5;2mr\u001b[39m\u001b[38;5;3mw\u001b[39m\u001b[38;5;245m-\u001b[39m\u001b[38;5;2mr\u001b[39m\u001b[38;5;245m-\u001b[39m\u001b[38;5;245m-\u001b[39m\u001b[38;5;2mr\u001b[39m\u001b[38;5;245m-\u001b[39m\u001b[38;5;245m-\u001b[39m\u001b[38;5;6m\u001b[39m \u001b[38;5;230mjake\u001b[39m \u001b[38;5;187mjake\u001b[39m \u001b[38;5;229m242\u001b[39m \u001b[38;5;229mKB\u001b[39m \u001b[38;5;36mWed Jan 29 13:41:32 2025\u001b[39m  Covid_1.fastq\n",
      ".\u001b[38;5;2mr\u001b[39m\u001b[38;5;3mw\u001b[39m\u001b[38;5;245m-\u001b[39m\u001b[38;5;2mr\u001b[39m\u001b[38;5;245m-\u001b[39m\u001b[38;5;245m-\u001b[39m\u001b[38;5;2mr\u001b[39m\u001b[38;5;245m-\u001b[39m\u001b[38;5;245m-\u001b[39m\u001b[38;5;6m\u001b[39m \u001b[38;5;230mjake\u001b[39m \u001b[38;5;187mjake\u001b[39m \u001b[38;5;229m242\u001b[39m \u001b[38;5;229mKB\u001b[39m \u001b[38;5;36mWed Jan 29 13:41:58 2025\u001b[39m  Covid_2.fastq\n",
      "\u001b[38;5;4m\u001b[1md\u001b[0m\u001b[38;5;2mr\u001b[39m\u001b[38;5;3mw\u001b[39m\u001b[38;5;1mx\u001b[39m\u001b[38;5;2mr\u001b[39m\u001b[38;5;245m-\u001b[39m\u001b[38;5;1mx\u001b[39m\u001b[38;5;2mr\u001b[39m\u001b[38;5;245m-\u001b[39m\u001b[38;5;1mx\u001b[39m\u001b[38;5;6m\u001b[39m \u001b[38;5;230mjake\u001b[39m \u001b[38;5;187mjake\u001b[39m \u001b[38;5;229m816\u001b[39m \u001b[38;5;229mB\u001b[39m  \u001b[38;5;36mWed Jan 29 12:23:22 2025\u001b[39m \u001b[38;5;4m\u001b[1m fasterq.tmp.archlinux.15709\u001b[0m\n",
      "\u001b[38;5;4m\u001b[1md\u001b[0m\u001b[38;5;2mr\u001b[39m\u001b[38;5;3mw\u001b[39m\u001b[38;5;1mx\u001b[39m\u001b[38;5;2mr\u001b[39m\u001b[38;5;245m-\u001b[39m\u001b[38;5;1mx\u001b[39m\u001b[38;5;2mr\u001b[39m\u001b[38;5;245m-\u001b[39m\u001b[38;5;1mx\u001b[39m\u001b[38;5;6m\u001b[39m \u001b[38;5;230mjake\u001b[39m \u001b[38;5;187mjake\u001b[39m   \u001b[38;5;229m0\u001b[39m \u001b[38;5;229mB\u001b[39m  \u001b[38;5;36mTue Jan 28 14:04:30 2025\u001b[39m \u001b[38;5;4m\u001b[1m Mystery_Data\u001b[0m\n",
      ".\u001b[38;5;2mr\u001b[39m\u001b[38;5;3mw\u001b[39m\u001b[38;5;245m-\u001b[39m\u001b[38;5;2mr\u001b[39m\u001b[38;5;245m-\u001b[39m\u001b[38;5;245m-\u001b[39m\u001b[38;5;2mr\u001b[39m\u001b[38;5;245m-\u001b[39m\u001b[38;5;245m-\u001b[39m\u001b[38;5;6m\u001b[39m \u001b[38;5;230mjake\u001b[39m \u001b[38;5;187mjake\u001b[39m \u001b[38;5;216m1.8\u001b[39m \u001b[38;5;216mMB\u001b[39m \u001b[38;5;36mSat Feb  1 22:27:33 2025\u001b[39m  Pan_paniscus.cds.fa\n",
      ".\u001b[38;5;2mr\u001b[39m\u001b[38;5;3mw\u001b[39m\u001b[38;5;245m-\u001b[39m\u001b[38;5;2mr\u001b[39m\u001b[38;5;245m-\u001b[39m\u001b[38;5;245m-\u001b[39m\u001b[38;5;2mr\u001b[39m\u001b[38;5;245m-\u001b[39m\u001b[38;5;245m-\u001b[39m\u001b[38;5;6m\u001b[39m \u001b[38;5;230mjake\u001b[39m \u001b[38;5;187mjake\u001b[39m \u001b[38;5;216m168\u001b[39m \u001b[38;5;216mMB\u001b[39m \u001b[38;5;36mWed Jan 29 10:39:05 2025\u001b[39m  Pan_paniscus.panpan1.1.113.gff3\n",
      ".\u001b[38;5;2mr\u001b[39m\u001b[38;5;3mw\u001b[39m\u001b[38;5;245m-\u001b[39m\u001b[38;5;2mr\u001b[39m\u001b[38;5;245m-\u001b[39m\u001b[38;5;245m-\u001b[39m\u001b[38;5;2mr\u001b[39m\u001b[38;5;245m-\u001b[39m\u001b[38;5;245m-\u001b[39m\u001b[38;5;6m\u001b[39m \u001b[38;5;230mjake\u001b[39m \u001b[38;5;187mjake\u001b[39m \u001b[38;5;216m409\u001b[39m \u001b[38;5;216mMB\u001b[39m \u001b[38;5;36mWed Jan 29 10:38:28 2025\u001b[39m  Pan_paniscus.panpan1.1.113.gtf\n",
      ".\u001b[38;5;2mr\u001b[39m\u001b[38;5;3mw\u001b[39m\u001b[38;5;245m-\u001b[39m\u001b[38;5;2mr\u001b[39m\u001b[38;5;245m-\u001b[39m\u001b[38;5;245m-\u001b[39m\u001b[38;5;2mr\u001b[39m\u001b[38;5;245m-\u001b[39m\u001b[38;5;245m-\u001b[39m\u001b[38;5;6m\u001b[39m \u001b[38;5;230mjake\u001b[39m \u001b[38;5;187mjake\u001b[39m  \u001b[38;5;216m76\u001b[39m \u001b[38;5;216mMB\u001b[39m \u001b[38;5;36mWed Jan 29 10:39:57 2025\u001b[39m  Pan_paniscus.panpan1.1.cds.all.fa\n",
      ".\u001b[38;5;2mr\u001b[39m\u001b[38;5;3mw\u001b[39m\u001b[38;5;245m-\u001b[39m\u001b[38;5;2mr\u001b[39m\u001b[38;5;245m-\u001b[39m\u001b[38;5;245m-\u001b[39m\u001b[38;5;2mr\u001b[39m\u001b[38;5;245m-\u001b[39m\u001b[38;5;245m-\u001b[39m\u001b[38;5;6m\u001b[39m \u001b[38;5;230mjake\u001b[39m \u001b[38;5;187mjake\u001b[39m  \u001b[38;5;216m62\u001b[39m \u001b[38;5;216mMB\u001b[39m \u001b[38;5;36mWed Jan 29 10:41:59 2025\u001b[39m  Pan_paniscus.panpan1.1.dna.chromosome.1.fa.gz\n",
      ".\u001b[38;5;2mr\u001b[39m\u001b[38;5;3mw\u001b[39m\u001b[38;5;245m-\u001b[39m\u001b[38;5;245m-\u001b[39m\u001b[38;5;245m-\u001b[39m\u001b[38;5;245m-\u001b[39m\u001b[38;5;245m-\u001b[39m\u001b[38;5;245m-\u001b[39m\u001b[38;5;245m-\u001b[39m\u001b[38;5;6m\u001b[39m \u001b[38;5;230mjake\u001b[39m \u001b[38;5;187mjake\u001b[39m  \u001b[38;5;229m30\u001b[39m \u001b[38;5;229mKB\u001b[39m \u001b[38;5;36mTue Jan 28 15:59:30 2025\u001b[39m  SARS_CoV_2_ref.fasta\n",
      "\u001b[38;5;4m\u001b[1md\u001b[0m\u001b[38;5;2mr\u001b[39m\u001b[38;5;3mw\u001b[39m\u001b[38;5;1mx\u001b[39m\u001b[38;5;2mr\u001b[39m\u001b[38;5;245m-\u001b[39m\u001b[38;5;1mx\u001b[39m\u001b[38;5;2mr\u001b[39m\u001b[38;5;245m-\u001b[39m\u001b[38;5;1mx\u001b[39m\u001b[38;5;6m\u001b[39m \u001b[38;5;230mjake\u001b[39m \u001b[38;5;187mjake\u001b[39m  \u001b[38;5;229m30\u001b[39m \u001b[38;5;229mB\u001b[39m  \u001b[38;5;36mWed Jan 29 13:28:43 2025\u001b[39m \u001b[38;5;4m\u001b[1m SRR22903825\u001b[0m\n",
      ".\u001b[38;5;2mr\u001b[39m\u001b[38;5;3mw\u001b[39m\u001b[38;5;245m-\u001b[39m\u001b[38;5;2mr\u001b[39m\u001b[38;5;245m-\u001b[39m\u001b[38;5;245m-\u001b[39m\u001b[38;5;2mr\u001b[39m\u001b[38;5;245m-\u001b[39m\u001b[38;5;245m-\u001b[39m\u001b[38;5;6m\u001b[39m \u001b[38;5;230mjake\u001b[39m \u001b[38;5;187mjake\u001b[39m \u001b[38;5;216m4.4\u001b[39m \u001b[38;5;216mMB\u001b[39m \u001b[38;5;36mWed Jan 29 10:36:25 2025\u001b[39m  Twist_Exome_Core_Covered_Targets_hg19_liftover.bed\n",
      ".\u001b[38;5;2mr\u001b[39m\u001b[38;5;3mw\u001b[39m\u001b[38;5;245m-\u001b[39m\u001b[38;5;2mr\u001b[39m\u001b[38;5;245m-\u001b[39m\u001b[38;5;245m-\u001b[39m\u001b[38;5;2mr\u001b[39m\u001b[38;5;245m-\u001b[39m\u001b[38;5;245m-\u001b[39m\u001b[38;5;6m\u001b[39m \u001b[38;5;230mjake\u001b[39m \u001b[38;5;187mjake\u001b[39m \u001b[38;5;216m4.4\u001b[39m \u001b[38;5;216mMB\u001b[39m \u001b[38;5;36mWed Jan 29 10:37:01 2025\u001b[39m  Twist_Exome_Core_Covered_Targets_hg38.bed\n",
      "16K\tData/Animals.fasta\n"
     ]
    }
   ],
   "source": [
    "ls Data/ -lh  #Human-readable sizes"
   ]
  },
  {
   "cell_type": "code",
   "execution_count": 8,
   "id": "d32c277b",
   "metadata": {
    "vscode": {
     "languageId": "shellscript"
    }
   },
   "outputs": [
    {
     "name": "stdout",
     "output_type": "stream",
     "text": [
      "16K\tData/Animals.fasta\n"
     ]
    }
   ],
   "source": [
    "du -h Data/Animals.fasta  #Specific file size"
   ]
  },
  {
   "cell_type": "markdown",
   "id": "5599902c",
   "metadata": {},
   "source": [
    "**Task**: Write a command to list files in \"Data/\" sorted by reverse modification time. Run it below:"
   ]
  },
  {
   "cell_type": "code",
   "execution_count": null,
   "id": "bdef799c",
   "metadata": {
    "vscode": {
     "languageId": "shellscript"
    }
   },
   "outputs": [],
   "source": [
    "# Your command here\n",
    "\n",
    "\n"
   ]
  },
  {
   "cell_type": "markdown",
   "id": "a68feaa6",
   "metadata": {},
   "source": [
    "## Task 1: Describe the Tools\n",
    "\n",
    "Use `man` or `--help` to write a short sentence describing each tool’s purpose. Example:\n",
    "- `cat`: \"Displays the entire contents of a file to the screen.\"\n",
    "\n",
    "Fill in the rest:\n",
    "\n"
   ]
  },
  {
   "cell_type": "code",
   "execution_count": null,
   "id": "a212feac",
   "metadata": {
    "vscode": {
     "languageId": "shellscript"
    }
   },
   "outputs": [],
   "source": [
    "# cat - \"Displays the entire contents of a file to the screen.\"\n",
    "# grep -\n",
    "# less -\n",
    "# head -\n",
    "# tail -\n",
    "# file -\n",
    "# awk -\n",
    "# wc -\n",
    "# sort -\n",
    "# uniq -\n",
    "# gzip -\n",
    "# gunzip -\n",
    "\n"
   ]
  },
  {
   "cell_type": "markdown",
   "id": "df665e96",
   "metadata": {},
   "source": [
    "# **Hint**: Run `man grep` or `grep --help` to get started. After completing this, compare with a classmate\n",
    "\n"
   ]
  },
  {
   "cell_type": "markdown",
   "id": "9bc5af71",
   "metadata": {},
   "source": [
    "## Piping Commands Together\n",
    "\n",
    "Piping (`|`) lets you chain commands. Here’s an example with a FASTA file:\n",
    "\n"
   ]
  },
  {
   "cell_type": "code",
   "execution_count": null,
   "id": "d92fe11b",
   "metadata": {
    "vscode": {
     "languageId": "shellscript"
    }
   },
   "outputs": [],
   "source": [
    "# Example: Exploring FASTA Headers\n",
    "\n",
    "grep \"^>\" Data/Animals.fasta  # Extract headers (lines starting with \">\")"
   ]
  },
  {
   "cell_type": "code",
   "execution_count": null,
   "id": "a34c5f32",
   "metadata": {
    "vscode": {
     "languageId": "shellscript"
    }
   },
   "outputs": [],
   "source": [
    "# - Count sequences:\n",
    "\n",
    "grep \"^>\" Data/Animals.fasta | wc -l"
   ]
  },
  {
   "cell_type": "code",
   "execution_count": null,
   "id": "e86c439d",
   "metadata": {
    "vscode": {
     "languageId": "shellscript"
    }
   },
   "outputs": [],
   "source": [
    "# - Sort headers alphabetically:\n",
    "\n",
    "grep \"^>\" Data/Animals.fasta | sort"
   ]
  },
  {
   "cell_type": "code",
   "execution_count": null,
   "id": "976fdd60",
   "metadata": {
    "vscode": {
     "languageId": "shellscript"
    }
   },
   "outputs": [],
   "source": [
    "# - Count unique headers:\n",
    "\n",
    "grep \"^>\" Data/Animals.fasta | sort | uniq -c"
   ]
  },
  {
   "cell_type": "markdown",
   "id": "6af86168",
   "metadata": {},
   "source": [
    "# **Task**: Run the commands above. What do the outputs tell you about `Animals.fasta`?\n",
    "\n"
   ]
  },
  {
   "cell_type": "markdown",
   "id": "3d3e7841",
   "metadata": {},
   "source": [
    "## Exploring Bioinformatics File Formats\n",
    "\n",
    "Now, let’s dive into specific file formats. We’ll check if files are compressed, peek at their contents, and extract useful information.\n",
    "\n"
   ]
  },
  {
   "cell_type": "markdown",
   "id": "bb36ad7b",
   "metadata": {},
   "source": [
    "### FASTA Files (e.g., `*.fasta`, `*.fa`, `*.fna`)\n",
    "\n",
    "FASTA files store sequences (DNA, RNA, or protein) with headers starting with `>`.\n",
    "\n",
    "\n",
    "\n",
    "#### Example:\n",
    "```\n",
    ">Gene1_danio_rerio\n",
    "atcgtagctcagcagacatcgtagctcagcagacatcgtagctcagcagacatcgtagctcagcagacatcgtagctcagcagac\n",
    "```"
   ]
  },
  {
   "cell_type": "code",
   "execution_count": 11,
   "id": "01c43ee6",
   "metadata": {
    "vscode": {
     "languageId": "shellscript"
    }
   },
   "outputs": [
    {
     "name": "stdout",
     "output_type": "stream",
     "text": [
      "Data/Pan_paniscus.cds.fa.gz: cannot open `Data/Pan_paniscus.cds.fa.gz' (No such file or directory)\n"
     ]
    }
   ],
   "source": [
    "#Step 1: Check the File\n",
    "\n",
    "file Data/Pan_paniscus.cds.fa.gz"
   ]
  },
  {
   "cell_type": "code",
   "execution_count": null,
   "id": "9ac44f38",
   "metadata": {
    "vscode": {
     "languageId": "shellscript"
    }
   },
   "outputs": [
    {
     "name": "stdout",
     "output_type": "stream",
     "text": [
      "gzip: Data/Pan_paniscus.cds.fa.gz: No such file or directory\n"
     ]
    },
    {
     "ename": "",
     "evalue": "1",
     "output_type": "error",
     "traceback": []
    }
   ],
   "source": [
    "# Output might say \"gzip compressed data,\" so unzip it:\n",
    "gunzip Data/Pan_paniscus.cds.fa.gz"
   ]
  },
  {
   "cell_type": "code",
   "execution_count": null,
   "id": "5b042e22",
   "metadata": {
    "vscode": {
     "languageId": "shellscript"
    }
   },
   "outputs": [],
   "source": [
    "head -n 10 Data/Pan_paniscus.cds.fa"
   ]
  },
  {
   "cell_type": "code",
   "execution_count": null,
   "id": "78c8e333",
   "metadata": {
    "vscode": {
     "languageId": "shellscript"
    }
   },
   "outputs": [],
   "source": [
    "# Step 2: Peek at the Contents\n",
    "\n",
    "head -n 10 Data/Pan_paniscus.cds.fa\n",
    "\n",
    "# Notice the `>` headers and sequence lines. Are they wrapped (broken into fixed-length lines)?"
   ]
  },
  {
   "cell_type": "code",
   "execution_count": null,
   "id": "b65c9068",
   "metadata": {
    "vscode": {
     "languageId": "shellscript"
    }
   },
   "outputs": [],
   "source": [
    "# Step 3: Count Sequences\n",
    "\n",
    "grep -c \"^>\" Data/Pan_paniscus.cds.fa"
   ]
  },
  {
   "cell_type": "code",
   "execution_count": null,
   "id": "e5c56fff",
   "metadata": {
    "vscode": {
     "languageId": "shellscript"
    }
   },
   "outputs": [
    {
     "name": "stdout",
     "output_type": "stream",
     "text": [
      "grep -r \"flutter_secure_storage\" --include=\"*.dart\" . -v \"^>\" Data/Pan_paniscus.cds.fa | awk '{print length($0)}' -v \"^>\" Data/Pan_paniscus.cds.fa | awk '{print length($0)}'\n",
      "grep: ^>: No such file or directory\n",
      "awk: fatal: cannot open file `-v' for reading: No such file or directory\n"
     ]
    }
   ],
   "source": [
    "# Step 5: Calculate Sequence Lengths\n",
    "\n",
    "# Try calculating sequence lengths on the data file\n",
    "grep -v \"^>\" Data/Pan_paniscus.cds.fa | awk '{print length($0)}'"
   ]
  },
  {
   "cell_type": "markdown",
   "id": "9b87a751",
   "metadata": {},
   "source": [
    "# **Task**: What’s the longest sequence in this file? Modify the command above to find out.\n"
   ]
  },
  {
   "cell_type": "code",
   "execution_count": 3,
   "id": "773902cd",
   "metadata": {
    "vscode": {
     "languageId": "shellscript"
    }
   },
   "outputs": [
    {
     "name": "stdout",
     "output_type": "stream",
     "text": [
      "grep -r \"flutter_secure_storage\" --include=\"*.dart\" . -v \"^>\" Data/Pan_paniscus.cds.fa | awk '{print length($0)}' -v \"^>\" Data/Pan_paniscus.cds.fa | awk '{print length($0)}' -v \"^>\" Data/Pan_paniscus.cds.fa | awk '{print length($0)}' | sort -n | tail -n 1\n",
      "grep: ^>: No such file or directory\n",
      "awk: fatal: cannot open file `-v' for reading: No such file or directoryawk: \n",
      "fatal: cannot open file `-v' for reading: No such file or directory\n"
     ]
    }
   ],
   "source": [
    "# Solution:\n",
    "grep -v \"^>\" Data/Pan_paniscus.cds.fa | awk '{print length($0)}' | sort -n | tail -n 1\n",
    "\n",
    "\n",
    "# **Why?** This command filters out the headers (lines starting with `>`) and then calculates the length of each remaining line. The `sort -n` sorts the lengths numerically, and `tail -n 1` gets the longest one.\n",
    "\n"
   ]
  },
  {
   "cell_type": "markdown",
   "id": "9f41aeb6",
   "metadata": {},
   "source": [
    "### FASTQ Files (e.g., `*.fastq`, `*.fq`)\n",
    "\n",
    "FASTQ files store sequences with quality scores (4 lines per record: header, sequence, `+`, quality).\n",
    "\n",
    "#### Example: \n",
    "```\n",
    "@SRR22903825.40838091 40838091 length=101\n",
    "CCCAGCGAGAGGGCGTACTCTACCCCAGAGAGGGAAACACCATGCCCACAGTGCTTGGTTTTGCACTCAGGTGTGCGGGCAGCACAGCAGGCCTCACCTTG\n",
    "+\n",
    "FFFFFFFFFFFFFFFFFFFFFFFFFFFFFFFFFFF:FFFFFFFFFFFFFFFFFFFFFFFFFFFFFFFFFFFFFFFFFFFFFFFFFFFFFFFFFFFFFFF:F\n",
    "```"
   ]
  },
  {
   "cell_type": "markdown",
   "id": "ca27c396",
   "metadata": {},
   "source": [
    "#### Step 1: Check and Peek"
   ]
  },
  {
   "cell_type": "code",
   "execution_count": 13,
   "id": "f1958354",
   "metadata": {
    "vscode": {
     "languageId": "shellscript"
    }
   },
   "outputs": [
    {
     "name": "stdout",
     "output_type": "stream",
     "text": [
      "Data/Covid_1.fastq: ASCII text\n"
     ]
    }
   ],
   "source": [
    "file Data/Covid_1.fastq"
   ]
  },
  {
   "cell_type": "code",
   "execution_count": 14,
   "id": "ee314e29",
   "metadata": {
    "vscode": {
     "languageId": "shellscript"
    }
   },
   "outputs": [
    {
     "name": "stdout",
     "output_type": "stream",
     "text": [
      "@SRR22903825.40838091 40838091 length=101\n",
      "CCCAGCGAGAGGGCGTACTCTACCCCAGAGAGGGAAACACCATGCCCACAGTGCTTGGTTTTGCACTCAGGTGTGCGGGCAGCACAGCAGGCCTCACCTTG\n",
      "+\n",
      "FFFFFFFFFFFFFFFFFFFFFFFFFFFFFFFFFFF:FFFFFFFFFFFFFFFFFFFFFFFFFFFFFFFFFFFFFFFFFFFFFFFFFFFFFFFFFFFFFFF:F\n",
      "@SRR22903825.57624042 57624042 length=101\n",
      "GTAGCTGTGCTGTGCTAACTGCCTATTCGCTTTGTTTCTTTCAAGAACACTTTTGAAAGGACAAGAAAACGTAAAAGGCAGCAGAACAGAACAGATCGGAA\n",
      "+\n",
      "FFFFFFFFFFFFFFFFFFFFFFFFFFFFFFFFFFFFFFFFFFFFFFFFFFFFFFFFFFFFFFFFFFFFFFFFFF:FFFFFFFFFFFFFFFFFFFFFFFFFF\n"
     ]
    }
   ],
   "source": [
    "head -n 8 Data/Covid_1.fastq\n",
    "\n"
   ]
  },
  {
   "cell_type": "markdown",
   "id": "8a6eac6f",
   "metadata": {},
   "source": [
    "#### Step 2: Count Sequences\n",
    "Headers start with `@`:\n",
    "\n",
    "\n"
   ]
  },
  {
   "cell_type": "code",
   "execution_count": null,
   "id": "26d0d849",
   "metadata": {
    "vscode": {
     "languageId": "shellscript"
    }
   },
   "outputs": [],
   "source": [
    "grep -c \"^@\" Data/Covid_1.fastq\n",
    "\n"
   ]
  },
  {
   "cell_type": "markdown",
   "id": "4e756f06",
   "metadata": {},
   "source": [
    "#### Step 3: Extract Sequence Lengths\n",
    "Sequences are the 2nd line of each 4-line block:\n"
   ]
  },
  {
   "cell_type": "code",
   "execution_count": null,
   "id": "07540ac8",
   "metadata": {
    "vscode": {
     "languageId": "shellscript"
    }
   },
   "outputs": [],
   "source": [
    "awk 'NR%4==2 {print length($0)}' Data/Covid_1.fastq\n",
    "\n"
   ]
  },
  {
   "cell_type": "markdown",
   "id": "e2e9d504",
   "metadata": {},
   "source": [
    "**Task**: How would you count sequences with length > 100? Hint: Add a condition to the `awk` command.\n",
    "\n"
   ]
  },
  {
   "cell_type": "markdown",
   "id": "e370760c",
   "metadata": {},
   "source": [
    "### GFF Files (e.g., `*.gff`, `*.gff3`)\n",
    "\n",
    "GFF files store genomic features in tab-separated columns (e.g., chromosome, start, end).\n",
    "\n",
    "#### Step 1: Peek\n",
    "\n"
   ]
  },
  {
   "cell_type": "code",
   "execution_count": null,
   "id": "726d5a5c",
   "metadata": {
    "vscode": {
     "languageId": "shellscript"
    }
   },
   "outputs": [],
   "source": [
    "head -n 10 Data/example.gff\n",
    "\n"
   ]
  },
  {
   "cell_type": "markdown",
   "id": "0905a1f0",
   "metadata": {},
   "source": [
    "#### Step 2: Extract Genes\n",
    "Filter for \"gene\" features (column 3):"
   ]
  },
  {
   "cell_type": "code",
   "execution_count": null,
   "id": "4fcdeb4b",
   "metadata": {
    "vscode": {
     "languageId": "shellscript"
    }
   },
   "outputs": [],
   "source": [
    "grep -v \"^#\" Data/example.gff | awk '$3==\"gene\"'\n",
    "\n"
   ]
  },
  {
   "cell_type": "markdown",
   "id": "11e6ca5c",
   "metadata": {},
   "source": [
    "#### Step 3: Calculate Feature Lengths\n",
    "Length = end (col 5) - start (col 4) + 1:"
   ]
  },
  {
   "cell_type": "code",
   "execution_count": null,
   "id": "e660c618",
   "metadata": {
    "vscode": {
     "languageId": "shellscript"
    }
   },
   "outputs": [],
   "source": [
    "grep -v \"^#\" Data/example.gff | awk '$3==\"gene\" {print $5-$4+1}'\n",
    "\n"
   ]
  },
  {
   "cell_type": "markdown",
   "id": "dac49233",
   "metadata": {},
   "source": [
    "# **Task**: How many genes are in this file? Combine `grep` and `wc`.\n",
    "\n"
   ]
  },
  {
   "cell_type": "markdown",
   "id": "9b3517f1",
   "metadata": {},
   "source": [
    "### BED Files (e.g., `*.bed`)\n",
    "\n",
    "BED files describe genomic regions with at least 3 columns (chromosome, start, end).\n"
   ]
  },
  {
   "cell_type": "markdown",
   "id": "cbaa2b06",
   "metadata": {},
   "source": [
    "#### Step 1: Peek"
   ]
  },
  {
   "cell_type": "code",
   "execution_count": 2,
   "id": "36110030",
   "metadata": {
    "vscode": {
     "languageId": "shellscript"
    }
   },
   "outputs": [
    {
     "name": "stdout",
     "output_type": "stream",
     "text": [
      "browser position ch1r:923928-127477000\t\t\t\t\t\n",
      "browser hide all\t\t\t\t\t\n",
      "track name=\"FRA1A_chr1_gene\" description=\"FRA1A_gene_info\" visibility=2 colorByStrand=\"255,0,0 0,0,255\"\t\t\t\t\t\n",
      "chr1\t3967618\t23980294\tSRSF10\t0\t-\n",
      "chr1\t2404819\t2412571\tPEX10\t0\t-\n",
      "chr1\t1915108\t1917294\tCALML6\t0\t+\n",
      "chr1\t6448467\t6460052\tESPN\t0\t+\n",
      "chr1\t26294205\t26306636\tUBXN11\t0\t-\n",
      "chr1\t15410265\t15429081\tEFHD2\t0\t+\n",
      "chr1\t11674525\t11691477\tMAD2L2\t0\t-\n"
     ]
    }
   ],
   "source": [
    "head -n 10 Data/example.bed\n",
    "\n"
   ]
  },
  {
   "cell_type": "markdown",
   "id": "f21e37ed",
   "metadata": {},
   "source": [
    "#### Step 2: Calculate Region Lengths\n",
    " Length = end (col 3) - start (col 2):\n",
    "\n"
   ]
  },
  {
   "cell_type": "code",
   "execution_count": 3,
   "id": "0bc4679c",
   "metadata": {
    "vscode": {
     "languageId": "shellscript"
    }
   },
   "outputs": [
    {
     "name": "stdout",
     "output_type": "stream",
     "text": [
      "0\n",
      "0\n",
      "0\n",
      "20012676\n",
      "7752\n",
      "2186\n",
      "11585\n",
      "12431\n",
      "18816\n",
      "16952\n",
      "5238\n",
      "29935\n",
      "2039\n",
      "2813\n",
      "12483\n",
      "1294\n",
      "14624\n",
      "21959\n",
      "2476\n",
      "27790\n",
      "13665\n",
      "10874\n",
      "49279\n",
      "17997\n",
      "43213\n",
      "18028\n",
      "6838\n",
      "22440\n",
      "3029\n",
      "6737\n",
      "2122\n",
      "16857\n",
      "7821\n",
      "15363\n",
      "6298\n",
      "2569\n",
      "4420\n",
      "18287\n",
      "30113\n",
      "18397\n",
      "411871\n",
      "13031\n",
      "5988\n",
      "78390\n",
      "10497\n",
      "2466\n",
      "18059\n",
      "27759\n",
      "30775\n",
      "6738\n",
      "244524\n",
      "13044\n",
      "20526\n",
      "8557\n",
      "21134\n",
      "2385\n",
      "12557\n",
      "12830\n",
      "44330\n",
      "20850\n",
      "2228\n",
      "33962\n",
      "77174\n",
      "49482\n",
      "3519\n",
      "11436\n",
      "9472\n",
      "105132\n",
      "2984\n",
      "14017\n",
      "11910\n",
      "40832\n",
      "42620\n",
      "5835\n",
      "28318\n",
      "54374\n",
      "3584\n",
      "12615\n",
      "1427\n",
      "4234\n",
      "21592\n",
      "2475\n",
      "3610\n",
      "7741\n",
      "16610\n",
      "2052\n",
      "6120\n",
      "71119\n",
      "56663\n",
      "5077\n",
      "40343\n",
      "8783\n",
      "145947\n",
      "10429\n",
      "31595\n",
      "7682\n",
      "5703\n",
      "33089\n",
      "5851\n",
      "169987\n",
      "23820\n",
      "931\n",
      "1853\n",
      "6889\n",
      "61156\n",
      "7677\n",
      "3190\n",
      "15411\n",
      "51168\n",
      "10073\n",
      "46216\n",
      "80079\n",
      "1835\n",
      "14254\n",
      "21636\n",
      "12406\n",
      "4985\n",
      "84619\n",
      "24041\n",
      "202778\n",
      "2021\n",
      "24739\n",
      "7935\n",
      "17747\n",
      "3877\n",
      "21338\n",
      "46842\n",
      "9466\n",
      "7099\n",
      "5334\n",
      "4977\n",
      "2786\n",
      "12295\n",
      "142786\n",
      "1732\n",
      "5566\n",
      "25388\n",
      "25870\n",
      "6167\n",
      "2993\n",
      "5790\n",
      "3986\n",
      "1493\n",
      "61969\n",
      "4782\n",
      "19613\n",
      "20634\n",
      "1395\n",
      "509\n",
      "22942\n",
      "11906\n",
      "66769\n",
      "16171\n",
      "4408\n",
      "29885\n",
      "23356\n",
      "2607\n",
      "8485\n",
      "21878\n",
      "20976\n",
      "149437\n",
      "2345\n",
      "22226\n",
      "79552\n",
      "4395\n",
      "69556\n",
      "3752\n",
      "40404\n",
      "26601\n",
      "47107\n",
      "8382\n",
      "14744\n",
      "13403\n",
      "42787\n",
      "9576\n",
      "57173\n",
      "60523\n",
      "22553\n",
      "8767\n",
      "13736\n",
      "5242\n",
      "165741\n",
      "2230\n",
      "4693\n",
      "4204\n",
      "2181\n",
      "3327\n",
      "35752\n",
      "22997\n",
      "16421\n",
      "53766\n",
      "1328\n",
      "47358\n",
      "5884\n",
      "25949\n",
      "52939\n",
      "4378\n",
      "49147\n",
      "5238\n",
      "10951\n",
      "1836\n",
      "18308\n",
      "13234\n",
      "1691\n",
      "56002\n",
      "28148\n",
      "11331\n",
      "10544\n",
      "2967\n",
      "73576\n",
      "13507\n",
      "10621\n",
      "9661\n",
      "883\n",
      "25023\n",
      "5948\n",
      "2353\n",
      "5058\n",
      "9917\n",
      "14566\n",
      "6597\n",
      "6132\n",
      "16032\n",
      "1992\n",
      "23785\n",
      "166600\n",
      "7021\n",
      "38338\n",
      "23492\n",
      "17590\n",
      "7149\n",
      "21019\n",
      "3207\n",
      "10681\n",
      "12179\n",
      "3394\n",
      "8411\n",
      "12366\n",
      "30359\n",
      "11042\n",
      "4119\n",
      "2248\n",
      "40278\n",
      "5792\n",
      "117104\n",
      "26733\n",
      "50379\n",
      "148304\n",
      "4253\n",
      "3774\n",
      "4978\n",
      "39033\n",
      "71750\n",
      "1011\n",
      "44736\n",
      "26339\n"
     ]
    }
   ],
   "source": [
    "awk '{print $3-$2}' Data/example.bed\n",
    "\n"
   ]
  },
  {
   "cell_type": "markdown",
   "id": "8af51665",
   "metadata": {},
   "source": [
    "**Task**: Sort the regions by length (largest first). Hint: Use `sort -n`.\n",
    "\n"
   ]
  },
  {
   "cell_type": "markdown",
   "id": "b89dcb9c",
   "metadata": {},
   "source": [
    "## Wrap-Up\n",
    "\n",
    " You’ve explored FASTA, FASTQ, GFF, and BED files using standard tools Key takeaways:\n",
    " - Use `file`, `head`, and `grep` to understand file structure.\n",
    " - Chain commands with `|` to analyze data efficiently.\n",
    " - Check documentation when stuck (`man`, `--help`).\n",
    "\n",
    "**Next Steps**: Try these techniques on your own datasets\n",
    "\n"
   ]
  },
  {
   "cell_type": "markdown",
   "id": "5fcfdee5",
   "metadata": {},
   "source": [
    "## Advanced Section (Optional)\n",
    "\n",
    "For advanced users, install tools like `bioawk` or `seqtk` using a conda environment:\n",
    "\n",
    "### Set Up Conda\n",
    " ```bash\n",
    " conda env create -f environment.yml\n",
    " conda activate Bio\n",
    " ```\n",
    "\n",
    " ### Example with bioawk\n",
    " Calculate mean Phred scores for FASTQ:\n",
    " ```bash\n",
    " bioawk -c fastx '{print $name, meanqual($qual)}' Data/Covid_1.fastq\n",
    " ```\n",
    "\n",
    " This section is optional and requires installation, so it’s separate from the main exercises.\n"
   ]
  }
 ],
 "metadata": {
  "kernelspec": {
   "display_name": "Bash",
   "language": "bash",
   "name": "bash"
  },
  "language_info": {
   "codemirror_mode": "shell",
   "file_extension": ".sh",
   "mimetype": "text/x-sh",
   "name": "bash"
  }
 },
 "nbformat": 4,
 "nbformat_minor": 5
}
