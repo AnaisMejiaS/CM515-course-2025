{
 "cells": [
  {
   "cell_type": "markdown",
   "id": "00cfb0d2",
   "metadata": {},
   "source": [
    "# Command Line Bioinformatics: Exploring File Formats\n",
    "\n",
    "**Duration**: 2 hours  \n",
    "**Goals**:  \n",
    "- Learn to explore file formats without memorization.  \n",
    "- Use tools like `grep`, `awk`, `sort`, and `less`.  \n",
    "- Prioritize efficiency and documentation (e.g., `man`, `-h`).  \n",
    "\n"
   ]
  },
  {
   "cell_type": "markdown",
   "id": "67408bd7",
   "metadata": {},
   "source": [
    "## Setup  \n",
    "Ensure you have:   \n",
    "- access to the Data directory\n",
    "- Example files: `*.fasta`, `*.fastq`, `*.gff`, `*.bed`."
   ]
  },
  {
   "cell_type": "markdown",
   "id": "1aa53adb",
   "metadata": {},
   "source": [
    "## Resources \n",
    "- Tools/Commands: `Cat`, `less`, `grep`, `sort`, `uniq`, `file`, `awk`, `head/tail`, `gzip/gunzip` `wc`.\n",
    "- \n",
    "- Bed files: https://genome.ucsc.edu/FAQ/FAQformat.html\n",
    "- Github resource for learning bioinformatics: https://github.com/harvardinformatics/learning-bioinformatics-at-home"
   ]
  },
  {
   "cell_type": "markdown",
   "id": "ba75ecfe",
   "metadata": {},
   "source": [
    "Template/Workflow \n",
    "\n",
    "Show them how to use all of the command line tools to:\n",
    "- check documentation/manuals\n",
    "- navigate dirs\n",
    "- list directories \n",
    "- check file types \n",
    "- check file sizes \n",
    "Bonus Advanced material:\n",
    "- install conda.yml file\n",
    "- Download reads using sratoolkit \n",
    "- convert fastq to fasta using seqtk \n",
    "- split multiline fasta to single files using seqtk "
   ]
  },
  {
   "cell_type": "markdown",
   "id": "e7c7c103",
   "metadata": {},
   "source": [
    "## Setup"
   ]
  },
  {
   "cell_type": "code",
   "execution_count": null,
   "id": "8fe7faf5",
   "metadata": {},
   "outputs": [],
   "source": [
    "# Check your location\n",
    "!pwd"
   ]
  },
  {
   "cell_type": "code",
   "execution_count": 34,
   "id": "b0a2106f",
   "metadata": {},
   "outputs": [
    {
     "name": "stdout",
     "output_type": "stream",
     "text": [
      "/usr/bin/bash: line 1: cd: CM515-course-2025/modules/07_BioFile_Formats: No such file or directory\n",
      "/home/jake/Projects/CM515-course-2025/modules/07_BioFile_Formats\n"
     ]
    }
   ],
   "source": [
    "# Navigate to 07_BioFile_Formats directory from CM515-course-2025/\n",
    "!cd \"CM515-course-2025/modules/07_BioFile_Formats\""
   ]
  },
  {
   "cell_type": "markdown",
   "id": "43f370e3",
   "metadata": {},
   "source": [
    "## How to use Manuals/ Help flags"
   ]
  },
  {
   "cell_type": "code",
   "execution_count": 38,
   "id": "5b187fd0",
   "metadata": {},
   "outputs": [],
   "source": [
    "# 1. Option 1 to try: man {tool_name}\n",
    "!man ls "
   ]
  },
  {
   "cell_type": "code",
   "execution_count": null,
   "id": "4d8f2ff3",
   "metadata": {},
   "outputs": [],
   "source": [
    "# 2. Option 2 to try; {tool_name} --help or {tool_name} -h\n",
    "!ls --help"
   ]
  },
  {
   "cell_type": "markdown",
   "id": "c95e2274",
   "metadata": {},
   "source": [
    "## Tools commonly have arguments that can be chained together"
   ]
  },
  {
   "cell_type": "code",
   "execution_count": 39,
   "id": "cdff499d",
   "metadata": {},
   "outputs": [
    {
     "name": "stdout",
     "output_type": "stream",
     "text": [
      "Animals.fasta\n",
      "Bio_data\n",
      "Biology_protein_data.fasta\n",
      "Covid_1.fastq\n",
      "Covid_2.fastq\n",
      "fasterq.tmp.archlinux.15709\n",
      "Mystery_Data\n",
      "Pan_paniscus.panpan1.1.113.gff3\n",
      "Pan_paniscus.panpan1.1.113.gtf\n",
      "Pan_paniscus.panpan1.1.cds.all.fa\n",
      "Pan_paniscus.panpan1.1.dna.chromosome.1.fa.gz\n",
      "SARS_CoV_2_ref.fasta\n",
      "SRR22903825\n",
      "Twist_Exome_Core_Covered_Targets_hg19_liftover.bed\n",
      "Twist_Exome_Core_Covered_Targets_hg38.bed\n",
      "total 743M\n",
      "-rw-r--r-- 1 jake jake 242K Jan 29 13:41 Covid_2.fastq\n",
      "-rw-r--r-- 1 jake jake 242K Jan 29 13:41 Covid_1.fastq\n",
      "drwxr-xr-x 1 jake jake   30 Jan 29 13:28 SRR22903825\n",
      "drwxr-xr-x 1 jake jake  816 Jan 29 12:23 fasterq.tmp.archlinux.15709\n",
      "-rw-r--r-- 1 jake jake  84K Jan 29 11:30 Biology_protein_data.fasta\n",
      "-rw-r--r-- 1 jake jake  84K Jan 29 11:24 Bio_data\n",
      "-rw-r--r-- 1 jake jake  62M Jan 29 10:41 Pan_paniscus.panpan1.1.dna.chromosome.1.fa.gz\n",
      "-rw-r--r-- 1 jake jake  77M Jan 29 10:39 Pan_paniscus.panpan1.1.cds.all.fa\n",
      "-rw-r--r-- 1 jake jake 168M Jan 29 10:39 Pan_paniscus.panpan1.1.113.gff3\n",
      "-rw-r--r-- 1 jake jake 410M Jan 29 10:38 Pan_paniscus.panpan1.1.113.gtf\n",
      "-rw-r--r-- 1 jake jake 4.4M Jan 29 10:37 Twist_Exome_Core_Covered_Targets_hg38.bed\n",
      "-rw-r--r-- 1 jake jake 4.4M Jan 29 10:36 Twist_Exome_Core_Covered_Targets_hg19_liftover.bed\n",
      "-rw-r--r-- 1 jake jake  19M Jan 29 09:39 Animals.fasta\n",
      "-rw------- 1 jake jake  30K Jan 28 15:59 SARS_CoV_2_ref.fasta\n",
      "drwxr-xr-x 1 jake jake    0 Jan 28 14:04 Mystery_Data\n",
      "total 743M\n",
      "-rw-r--r-- 1 jake jake  19M Jan 29 09:39 Animals.fasta\n",
      "-rw-r--r-- 1 jake jake  84K Jan 29 11:30 Biology_protein_data.fasta\n",
      "-rw-r--r-- 1 jake jake  84K Jan 29 11:24 Bio_data\n",
      "-rw-r--r-- 1 jake jake 242K Jan 29 13:41 Covid_1.fastq\n",
      "-rw-r--r-- 1 jake jake 242K Jan 29 13:41 Covid_2.fastq\n",
      "drwxr-xr-x 1 jake jake    0 Jan 28 14:04 Mystery_Data\n",
      "-rw-r--r-- 1 jake jake  77M Jan 29 10:39 Pan_paniscus.panpan1.1.cds.all.fa\n",
      "-rw-r--r-- 1 jake jake 168M Jan 29 10:39 Pan_paniscus.panpan1.1.113.gff3\n",
      "-rw-r--r-- 1 jake jake 410M Jan 29 10:38 Pan_paniscus.panpan1.1.113.gtf\n",
      "-rw-r--r-- 1 jake jake  62M Jan 29 10:41 Pan_paniscus.panpan1.1.dna.chromosome.1.fa.gz\n",
      "-rw------- 1 jake jake  30K Jan 28 15:59 SARS_CoV_2_ref.fasta\n",
      "drwxr-xr-x 1 jake jake   30 Jan 29 13:28 SRR22903825\n",
      "-rw-r--r-- 1 jake jake 4.4M Jan 29 10:36 Twist_Exome_Core_Covered_Targets_hg19_liftover.bed\n",
      "-rw-r--r-- 1 jake jake 4.4M Jan 29 10:37 Twist_Exome_Core_Covered_Targets_hg38.bed\n",
      "drwxr-xr-x 1 jake jake  816 Jan 29 12:23 fasterq.tmp.archlinux.15709\n"
     ]
    }
   ],
   "source": [
    "# List the files in the data directory \n",
    "!ls Data/"
   ]
  },
  {
   "cell_type": "code",
   "execution_count": 1,
   "id": "f2b378a1",
   "metadata": {},
   "outputs": [
    {
     "name": "stdout",
     "output_type": "stream",
     "text": [
      "total 743M\n",
      "-rw-r--r-- 1 jake jake 242K Jan 29 13:41 Covid_2.fastq\n",
      "-rw-r--r-- 1 jake jake 242K Jan 29 13:41 Covid_1.fastq\n",
      "drwxr-xr-x 1 jake jake   30 Jan 29 13:28 SRR22903825\n",
      "drwxr-xr-x 1 jake jake  816 Jan 29 12:23 fasterq.tmp.archlinux.15709\n",
      "-rw-r--r-- 1 jake jake  84K Jan 29 11:30 Biology_protein_data.fasta\n",
      "-rw-r--r-- 1 jake jake  84K Jan 29 11:24 Bio_data\n",
      "-rw-r--r-- 1 jake jake  62M Jan 29 10:41 Pan_paniscus.panpan1.1.dna.chromosome.1.fa.gz\n",
      "-rw-r--r-- 1 jake jake  77M Jan 29 10:39 Pan_paniscus.panpan1.1.cds.all.fa\n",
      "-rw-r--r-- 1 jake jake 168M Jan 29 10:39 Pan_paniscus.panpan1.1.113.gff3\n",
      "-rw-r--r-- 1 jake jake 410M Jan 29 10:38 Pan_paniscus.panpan1.1.113.gtf\n",
      "-rw-r--r-- 1 jake jake 4.4M Jan 29 10:37 Twist_Exome_Core_Covered_Targets_hg38.bed\n",
      "-rw-r--r-- 1 jake jake 4.4M Jan 29 10:36 Twist_Exome_Core_Covered_Targets_hg19_liftover.bed\n",
      "-rw-r--r-- 1 jake jake  19M Jan 29 09:39 Animals.fasta\n",
      "-rw------- 1 jake jake  30K Jan 28 15:59 SARS_CoV_2_ref.fasta\n",
      "drwxr-xr-x 1 jake jake    0 Jan 28 14:04 Mystery_Data\n"
     ]
    }
   ],
   "source": [
    "# List the files in the data directory sorted by time modified\n",
    "!ls Data/ -lht"
   ]
  },
  {
   "cell_type": "code",
   "execution_count": 5,
   "id": "e2349e8a",
   "metadata": {},
   "outputs": [
    {
     "name": "stdout",
     "output_type": "stream",
     "text": [
      "total 743M\n",
      "drwxr-xr-x 1 jake jake  846 Feb  1 21:06 .\n",
      "drwxr-xr-x 1 jake jake  204 Feb  1 21:06 ..\n",
      "-rw-r--r-- 1 jake jake  19M Jan 29 09:39 Animals.fasta\n",
      "-rw-r--r-- 1 jake jake  84K Jan 29 11:24 Bio_data\n",
      "-rw-r--r-- 1 jake jake  84K Jan 29 11:30 Biology_protein_data.fasta\n",
      "-rw-r--r-- 1 jake jake 242K Jan 29 13:41 Covid_1.fastq\n",
      "-rw-r--r-- 1 jake jake 242K Jan 29 13:41 Covid_2.fastq\n",
      "-rw-r--r-- 1 jake jake   24 Feb  1 21:06 .Davids_secret_diary.txt\n",
      "drwxr-xr-x 1 jake jake  816 Jan 29 12:23 fasterq.tmp.archlinux.15709\n",
      "drwxr-xr-x 1 jake jake    0 Jan 28 14:04 Mystery_Data\n",
      "-rw-r--r-- 1 jake jake 168M Jan 29 10:39 Pan_paniscus.panpan1.1.113.gff3\n",
      "-rw-r--r-- 1 jake jake 410M Jan 29 10:38 Pan_paniscus.panpan1.1.113.gtf\n",
      "-rw-r--r-- 1 jake jake  77M Jan 29 10:39 Pan_paniscus.panpan1.1.cds.all.fa\n",
      "-rw-r--r-- 1 jake jake  62M Jan 29 10:41 Pan_paniscus.panpan1.1.dna.chromosome.1.fa.gz\n",
      "-rw------- 1 jake jake  30K Jan 28 15:59 SARS_CoV_2_ref.fasta\n",
      "drwxr-xr-x 1 jake jake   30 Jan 29 13:28 SRR22903825\n",
      "-rw-r--r-- 1 jake jake   37 Feb  1 21:05 .super_secret_bio_file.txt\n",
      "-rw-r--r-- 1 jake jake 4.4M Jan 29 10:36 Twist_Exome_Core_Covered_Targets_hg19_liftover.bed\n",
      "-rw-r--r-- 1 jake jake 4.4M Jan 29 10:37 Twist_Exome_Core_Covered_Targets_hg38.bed\n"
     ]
    }
   ],
   "source": [
    "# List the files and the . files in the directory\n",
    "!ls Data/ -lha"
   ]
  },
  {
   "cell_type": "code",
   "execution_count": null,
   "id": "72b57ff5",
   "metadata": {},
   "outputs": [],
   "source": [
    "# Can you list the files in the data directory sorted by reverse time modified? \n"
   ]
  },
  {
   "cell_type": "markdown",
   "id": "99f5c9b6",
   "metadata": {},
   "source": [
    "## Task 1: Write out a one word sentence to describe each of these tools using their manpage / help documentation"
   ]
  },
  {
   "cell_type": "code",
   "execution_count": null,
   "id": "008fcd69",
   "metadata": {},
   "outputs": [],
   "source": [
    "# cat - \n",
    "# grep - \n",
    "# less -\n",
    "# head -\n",
    "# tail -\n",
    "# file -\n",
    "# awk -\n",
    "# wc -\n",
    "# sort - \n",
    "# uniq -\n",
    "# gzip -\n",
    "# gunzip -"
   ]
  },
  {
   "cell_type": "markdown",
   "id": "547ccb68",
   "metadata": {},
   "source": [
    "# Tools can be piped together using '|'"
   ]
  },
  {
   "cell_type": "code",
   "execution_count": 9,
   "id": "63057fbc",
   "metadata": {},
   "outputs": [
    {
     "name": "stdout",
     "output_type": "stream",
     "text": [
      ">Gerbil\n",
      ">Lizard\n",
      ">Guinea_pig\n",
      ">Ferret\n",
      ">Ferret\n",
      ">Gerbil\n",
      ">Guinea_pig\n",
      ">Cat\n",
      ">Lizard\n",
      ">Fish\n",
      ">Snake\n",
      ">Cat\n",
      ">Fish\n",
      ">Snake\n",
      ">Dog\n",
      ">Bird\n",
      ">Dog\n",
      ">Bird\n"
     ]
    }
   ],
   "source": [
    "## Here is an example\n",
    "\n",
    "# This command will extract all of the headers from the fasta file\n",
    "!grep \"^>\" Data/Animals.fasta"
   ]
  },
  {
   "cell_type": "markdown",
   "id": "ddac5d9c",
   "metadata": {},
   "source": [
    "### Lets pipe commands together to find out more info about the dataset "
   ]
  },
  {
   "cell_type": "code",
   "execution_count": 10,
   "id": "03552812",
   "metadata": {},
   "outputs": [
    {
     "name": "stdout",
     "output_type": "stream",
     "text": [
      "18\n"
     ]
    }
   ],
   "source": [
    "# We can use the wc -l command to return the count for the number of lines\n",
    "!grep \"^>\" Data/Animals.fasta | wc -l"
   ]
  },
  {
   "cell_type": "code",
   "execution_count": 13,
   "id": "b9aae193",
   "metadata": {},
   "outputs": [
    {
     "name": "stdout",
     "output_type": "stream",
     "text": [
      ">Bird\n",
      ">Bird\n",
      ">Cat\n",
      ">Cat\n",
      ">Dog\n",
      ">Dog\n",
      ">Ferret\n",
      ">Ferret\n",
      ">Fish\n",
      ">Fish\n",
      ">Gerbil\n",
      ">Gerbil\n",
      ">Guinea_pig\n",
      ">Guinea_pig\n",
      ">Lizard\n",
      ">Lizard\n",
      ">Snake\n",
      ">Snake\n"
     ]
    }
   ],
   "source": [
    "# We can use sort to sort the headers alphabetically\n",
    "!grep \"^>\" Data/Animals.fasta | sort"
   ]
  },
  {
   "cell_type": "code",
   "execution_count": 12,
   "id": "e9f769d1",
   "metadata": {},
   "outputs": [
    {
     "name": "stdout",
     "output_type": "stream",
     "text": [
      "      2 >Bird\n",
      "      2 >Cat\n",
      "      2 >Dog\n",
      "      2 >Ferret\n",
      "      2 >Fish\n",
      "      2 >Gerbil\n",
      "      2 >Guinea_pig\n",
      "      2 >Lizard\n",
      "      2 >Snake\n"
     ]
    }
   ],
   "source": [
    "# We can use uniq -c to return the number of entries for each unique headers\n",
    "!grep \"^>\" Data/Animals.fasta | sort | uniq -c"
   ]
  },
  {
   "cell_type": "markdown",
   "id": "e26ebeeb",
   "metadata": {},
   "source": [
    "# Now that you know how to use tools and look up their documentation, lets explore some bio file formats"
   ]
  },
  {
   "cell_type": "markdown",
   "id": "cc68a1bd",
   "metadata": {},
   "source": [
    "#### Below are common fasta files and their many aliases that you may encounter in the wild\n",
    "\n",
    "- Fasta: fasta, fna, fas, fa \n",
    "- Fastq: fastq, fq \n",
    "- GFF: GFF, GFF3 \n",
    "- GTF: GTF\n",
    "- Bed: Bed"
   ]
  },
  {
   "cell_type": "markdown",
   "id": "cb87b2ac",
   "metadata": {},
   "source": [
    "##### Important note, it is common practice to compress biological files to reduce the amount of space. \n",
    "\n",
    "Two common zipped formats are gzip and zip \n",
    "\n",
    "To unzip a gzipped file you can use the command gunzip {filename}\n",
    "To zip a file you can use the command gzip {filename}\n",
    "\n",
    "To unzip a zipped file you can use the command unzip {filename}\n",
    "To zip a file you can use the command zip {filename}\n",
    "\n",
    "Gzip is the preffered and most common form of file compression in bioinformatics"
   ]
  },
  {
   "cell_type": "markdown",
   "id": "641e7b2f",
   "metadata": {},
   "source": [
    "#### To check if a file is zipped you can use the file command"
   ]
  },
  {
   "cell_type": "markdown",
   "id": "6423870e",
   "metadata": {},
   "source": [
    "## Lets explore an unkown file together.\n",
    "### We are bioinformaticians and were just sent a file called Bio_data and asked to summarize the data set. "
   ]
  },
  {
   "cell_type": "code",
   "execution_count": 23,
   "id": "9a82ddc4",
   "metadata": {},
   "outputs": [
    {
     "name": "stdout",
     "output_type": "stream",
     "text": [
      "Data/Bio_data: gzip compressed data, was \"Bio_data\", last modified: Wed Jan 29 18:24:21 2025, from Unix, original size modulo 2^32 86009\n"
     ]
    }
   ],
   "source": [
    "# We are bioinformaticians and were just sent a file called Bio_data and asked to summarize the data set. \n",
    "# step 1. Check what file type it is and if its zipped. \n",
    "!file Data/Bio_data"
   ]
  },
  {
   "cell_type": "code",
   "execution_count": 18,
   "id": "1d664db2",
   "metadata": {},
   "outputs": [
    {
     "ename": "SyntaxError",
     "evalue": "invalid syntax (1975089113.py, line 2)",
     "output_type": "error",
     "traceback": [
      "\u001b[0;36m  Cell \u001b[0;32mIn[18], line 2\u001b[0;36m\u001b[0m\n\u001b[0;31m    gunzip Data/Bio_data\u001b[0m\n\u001b[0m           ^\u001b[0m\n\u001b[0;31mSyntaxError\u001b[0m\u001b[0;31m:\u001b[0m invalid syntax\n"
     ]
    }
   ],
   "source": [
    "# Lets unzip the data\n",
    "!gunzip Data/Bio_data"
   ]
  },
  {
   "cell_type": "code",
   "execution_count": null,
   "id": "a35f2bfb",
   "metadata": {},
   "outputs": [],
   "source": [
    "# Now lets take a peek at the file structure using the head command.\n",
    "!head -n 10 Data/Bio_data"
   ]
  },
  {
   "cell_type": "markdown",
   "id": "1abeadbc",
   "metadata": {},
   "source": [
    "What do you notice about the file structure? \n",
    "\n",
    "Headers or columns? \n",
    "\n",
    "If headers is it a fastq or fasta file? \n",
    "\n",
    "What do you notice about the sequence characters? DNA or Amino Acid?\n",
    "\n",
    "Are the sequence lines wrapped at a set length or do they continue forever?"
   ]
  },
  {
   "cell_type": "code",
   "execution_count": 24,
   "id": "d269153d",
   "metadata": {},
   "outputs": [],
   "source": [
    "## Here is a handy way to remove the line wrapping characters using awk and save the output as a new file? \n",
    "!awk '/^>/ {print (NR==1?\"\":\"\\n\") $0; next} {printf \"%s\", $0}' Data/Bio_data > Data/Biology_protein_data.fasta"
   ]
  },
  {
   "cell_type": "code",
   "execution_count": null,
   "id": "8046d82c",
   "metadata": {},
   "outputs": [],
   "source": [
    "# Write a command to view the first 30 lines of the new file Data/Biology_protein_data.fasta"
   ]
  },
  {
   "cell_type": "code",
   "execution_count": null,
   "id": "e6d4cf82",
   "metadata": {},
   "outputs": [],
   "source": [
    "# Lets see how many sequences are in the file\n",
    "!grep -c \"^>\" Data/Biology_protein_data.fasta"
   ]
  },
  {
   "cell_type": "code",
   "execution_count": null,
   "id": "925be99f",
   "metadata": {},
   "outputs": [],
   "source": [
    "# Lets look at the header column pattern for this file\n",
    "!grep \"^>\" Data/Biology_protein_data.fasta"
   ]
  },
  {
   "cell_type": "code",
   "execution_count": null,
   "id": "5135846b",
   "metadata": {},
   "outputs": [],
   "source": [
    "# Lets extract the gene column\n",
    "!grep \"^>\" Data/Biology_protein_data.fasta | awk '{print $4}'"
   ]
  },
  {
   "cell_type": "code",
   "execution_count": 48,
   "id": "0b11a8f8",
   "metadata": {},
   "outputs": [
    {
     "name": "stdout",
     "output_type": "stream",
     "text": [
      "ENSPPAG00000000006.1\n",
      "ENSPPAG00000000010.1\n",
      "ENSPPAG00000000016.1\n",
      "ENSPPAG00000000019.1\n",
      "ENSPPAG00000000021.1\n",
      "ENSPPAG00000000022.1\n",
      "ENSPPAG00000000023.1\n",
      "ENSPPAG00000000025.1\n",
      "ENSPPAG00000000027.1\n",
      "ENSPPAG00000000028.1\n",
      "ENSPPAG00000000032.1\n",
      "ENSPPAG00000000033.1\n",
      "ENSPPAG00000000035.1\n",
      "ENSPPAG00000000038.1\n",
      "ENSPPAG00000000040.1\n",
      "ENSPPAG00000000040.1\n",
      "ENSPPAG00000000041.1\n",
      "ENSPPAG00000000042.1\n",
      "ENSPPAG00000000042.1\n",
      "ENSPPAG00000000043.1\n",
      "ENSPPAG00000000044.1\n",
      "ENSPPAG00000000044.1\n",
      "ENSPPAG00000000044.1\n",
      "ENSPPAG00000000044.1\n",
      "ENSPPAG00000000045.1\n",
      "ENSPPAG00000000045.1\n",
      "ENSPPAG00000000045.1\n",
      "ENSPPAG00000000046.1\n",
      "ENSPPAG00000000047.1\n",
      "ENSPPAG00000000049.1\n",
      "ENSPPAG00000000050.1\n",
      "ENSPPAG00000000050.1\n",
      "ENSPPAG00000000051.1\n",
      "ENSPPAG00000000052.1\n",
      "ENSPPAG00000000053.1\n",
      "ENSPPAG00000000054.1\n",
      "ENSPPAG00000000054.1\n",
      "ENSPPAG00000000055.1\n",
      "ENSPPAG00000000056.1\n",
      "ENSPPAG00000000056.1\n",
      "ENSPPAG00000000056.1\n",
      "ENSPPAG00000000056.1\n",
      "ENSPPAG00000000057.1\n",
      "ENSPPAG00000000061.1\n",
      "ENSPPAG00000000069.1\n",
      "ENSPPAG00000000071.1\n",
      "ENSPPAG00000000072.1\n",
      "ENSPPAG00000000072.1\n",
      "ENSPPAG00000000073.1\n",
      "ENSPPAG00000000074.1\n",
      "ENSPPAG00000000076.1\n",
      "ENSPPAG00000000087.1\n",
      "ENSPPAG00000000088.1\n",
      "ENSPPAG00000000088.1\n",
      "ENSPPAG00000000088.1\n",
      "ENSPPAG00000000088.1\n",
      "ENSPPAG00000000088.1\n",
      "ENSPPAG00000000090.1\n",
      "ENSPPAG00000000101.1\n",
      "ENSPPAG00000000106.1\n",
      "ENSPPAG00000000106.1\n",
      "ENSPPAG00000000108.1\n",
      "ENSPPAG00000000113.1\n",
      "ENSPPAG00000000125.1\n",
      "ENSPPAG00000000127.1\n",
      "ENSPPAG00000000127.1\n",
      "ENSPPAG00000000133.1\n",
      "ENSPPAG00000000133.1\n",
      "ENSPPAG00000000134.1\n",
      "ENSPPAG00000000136.1\n",
      "ENSPPAG00000000145.1\n",
      "ENSPPAG00000000147.1\n",
      "ENSPPAG00000000150.1\n",
      "ENSPPAG00000000150.1\n",
      "ENSPPAG00000000150.1\n",
      "ENSPPAG00000000152.1\n",
      "ENSPPAG00000000155.1\n",
      "ENSPPAG00000000155.1\n",
      "ENSPPAG00000000158.1\n",
      "ENSPPAG00000000159.1\n",
      "ENSPPAG00000000159.1\n",
      "ENSPPAG00000000159.1\n",
      "ENSPPAG00000000160.1\n",
      "ENSPPAG00000000163.1\n",
      "ENSPPAG00000000163.1\n",
      "ENSPPAG00000000168.1\n",
      "ENSPPAG00000000168.1\n",
      "ENSPPAG00000000168.1\n",
      "ENSPPAG00000000168.1\n",
      "ENSPPAG00000000177.1\n",
      "ENSPPAG00000000177.1\n",
      "ENSPPAG00000000177.1\n",
      "ENSPPAG00000000178.1\n",
      "ENSPPAG00000000179.1\n",
      "ENSPPAG00000000200.1\n",
      "ENSPPAG00000000202.1\n",
      "ENSPPAG00000000206.1\n",
      "ENSPPAG00000000208.1\n",
      "ENSPPAG00000000209.1\n",
      "ENSPPAG00000000210.1\n",
      "ENSPPAG00000000212.1\n",
      "ENSPPAG00000001255.1\n",
      "ENSPPAG00000005671.1\n",
      "ENSPPAG00000005763.1\n",
      "ENSPPAG00000006591.1\n",
      "ENSPPAG00000006735.1\n",
      "ENSPPAG00000009677.1\n",
      "ENSPPAG00000010307.1\n",
      "ENSPPAG00000010530.1\n",
      "ENSPPAG00000010824.1\n",
      "ENSPPAG00000011898.1\n",
      "ENSPPAG00000011963.1\n",
      "ENSPPAG00000012133.1\n",
      "ENSPPAG00000012342.1\n",
      "ENSPPAG00000012389.1\n",
      "ENSPPAG00000012737.1\n",
      "ENSPPAG00000012808.1\n",
      "ENSPPAG00000013635.1\n",
      "ENSPPAG00000013706.1\n",
      "ENSPPAG00000014046.1\n",
      "ENSPPAG00000015082.1\n",
      "ENSPPAG00000016102.1\n",
      "ENSPPAG00000017793.1\n",
      "ENSPPAG00000018258.1\n",
      "ENSPPAG00000018578.1\n",
      "ENSPPAG00000020739.1\n",
      "ENSPPAG00000021035.1\n",
      "ENSPPAG00000021842.1\n",
      "ENSPPAG00000023765.1\n",
      "ENSPPAG00000024412.1\n",
      "ENSPPAG00000024726.1\n",
      "ENSPPAG00000025317.1\n",
      "ENSPPAG00000027048.1\n",
      "ENSPPAG00000027155.1\n",
      "ENSPPAG00000027373.1\n",
      "ENSPPAG00000030011.1\n",
      "ENSPPAG00000031292.1\n",
      "ENSPPAG00000031853.1\n",
      "ENSPPAG00000031871.1\n",
      "ENSPPAG00000031879.1\n",
      "ENSPPAG00000031916.1\n",
      "ENSPPAG00000031925.1\n",
      "ENSPPAG00000031937.1\n",
      "ENSPPAG00000031949.1\n",
      "ENSPPAG00000031951.1\n",
      "ENSPPAG00000031968.1\n",
      "ENSPPAG00000031987.1\n",
      "ENSPPAG00000032000.1\n",
      "ENSPPAG00000032011.1\n",
      "ENSPPAG00000032018.1\n",
      "ENSPPAG00000032029.1\n",
      "ENSPPAG00000032034.1\n",
      "ENSPPAG00000032056.1\n",
      "ENSPPAG00000032095.1\n",
      "ENSPPAG00000032096.1\n",
      "ENSPPAG00000032135.1\n",
      "ENSPPAG00000032149.1\n",
      "ENSPPAG00000032156.1\n",
      "ENSPPAG00000032174.1\n",
      "ENSPPAG00000032198.1\n",
      "ENSPPAG00000032205.1\n",
      "ENSPPAG00000032323.1\n",
      "ENSPPAG00000032348.1\n",
      "ENSPPAG00000032389.1\n",
      "ENSPPAG00000032407.1\n",
      "ENSPPAG00000032453.1\n",
      "ENSPPAG00000032504.1\n",
      "ENSPPAG00000032541.1\n",
      "ENSPPAG00000032858.1\n",
      "ENSPPAG00000037642.1\n",
      "ENSPPAG00000037905.1\n"
     ]
    }
   ],
   "source": [
    "# Lets remove the gene: prefix and sort the list\n",
    "!grep \"^>\" Data/Biology_protein_data.fasta | awk '{print $4}'| sed 's/gene://' | sort"
   ]
  },
  {
   "cell_type": "markdown",
   "id": "911c648c",
   "metadata": {},
   "source": [
    "## Fasta file exploration"
   ]
  },
  {
   "cell_type": "code",
   "execution_count": 28,
   "id": "70596b0e",
   "metadata": {},
   "outputs": [
    {
     "name": "stdout",
     "output_type": "stream",
     "text": [
      "gzip: Data/Pan_paniscus.cds.fa.gz: No such file or directory\n"
     ]
    }
   ],
   "source": [
    "# gunzip the file /Data/Pan_paniscus.cds.fa.gz\n",
    "!gunzip Data/Pan_paniscus.cds.fa.gz"
   ]
  },
  {
   "cell_type": "code",
   "execution_count": null,
   "id": "4c55ac73",
   "metadata": {},
   "outputs": [],
   "source": [
    "# "
   ]
  },
  {
   "cell_type": "code",
   "execution_count": null,
   "id": "af9b43a7",
   "metadata": {},
   "outputs": [],
   "source": [
    "# Lets take a look at the fasta file\n",
    "\n",
    "# That wasnt very helpful, lets try and open it up.\n",
    "# !head -n 10 Data/Animals.fasta\n",
    "\n",
    "# What do you notice about the file structre? \n",
    "\n",
    "# What do you notice about the sequence characters?\n",
    "# Are the sequence lines wrapped?\n",
    "\n",
    "# Lets see how many sequences are in the file\n",
    "#!grep -c \"^>\" Data/Biology_protein_data.fasta\n",
    "\n",
    "### Bioawk further exploration \n",
    "# Print sequence lengths from FASTA\n",
    "#!bioawk -c fastx '{print $name, length($seq)}' Data/Animals.fasta\n",
    "\n",
    "\n",
    "# Get GC content\n",
    "#!bioawk -c fastx '{print $name, gc($seq)}' Data/Animals.fasta\n",
    "\n",
    "\n",
    "# Get reverse complement\n",
    "#!bioawk -c fastx '{print \">\"$name; print revcomp($seq)}' Data/Animals.fasta"
   ]
  },
  {
   "cell_type": "code",
   "execution_count": 49,
   "id": "a97099bf",
   "metadata": {},
   "outputs": [
    {
     "name": "stdout",
     "output_type": "stream",
     "text": [
      ">Gerbil\n",
      "GGACTGCAGGGGCTCCCTCCAGCGTCCGTGTCGCCAGCCCCAGGGCAGCAGTCCTTGAAAGGGGGACATCTCCAGCCCCCAAGGGTCCTCTGGAGGCGCAACTGGCCCCCCTGCTCCTTCCCAGCACAAGCATGGCATGGAAGGAAGGATACCCTGGCATGGAGAGTCCCTGAAAGGGGGGGGGGGGGGTGAGCCATTTCACAGTGCCAGTGTGCGCTGGCCAGGCTCTCCCCCACACCCCTGAAAAAAAAGATAGCATGAGGACAGCTTCTGTTTACATTCAGCACACATACACACTGCTGTCCTCCATTCGCTGCCACCAGGAGCTATACAGACCCCCGAGGTGGGAGTCAGCTCCGCATTCATCCATGAGACGCTTCCTAAAGCAGTCTCACAGGCAGGGGGACCCCTGCCCAGCCTGGCTGGTGAGCCTCCCCATCACGCATGCCCTCCCATTCCCCCAGTTGTAAAGCGGATACTTCAAGTGGGAGAGGCATGCTTCAGTGTCTGTGGTGCCTGAACACTTTGTAGTTCAGGTTCAGGGGCTGAGGTCCCTGGGACCTCCGCAGAACCAGAGTCCCTGTTCGTCACAGTCCTCCCCAGGAGATTAGGGTGATTTTCATCCCTAAGGTCCTCAAACTTCCTGGACAGGGCATCTGCGTTCTGATTCTGTTCCCCCTTCTTATGGATAACTTCCATATCCAGTTCCTGTAGTGCCAGTGACCATCGCAGTAATTTGCTGTTCTCCCCTTTGCATTGCATCAGCCATACCAGTGGGTTGTGGTCTGTGTGGACAATGAAGTGTGTCCCAAATAAATAGGGCTTCAATTTCCTCACAGCCCACACCAGGGCAAGACATTCCCGTTCCACTGTTGCATACTTTCTTTCAGCAGGAATTAACTTCCTGCTGATGTATGCTACTGGCTGTTCTGCCCCATTGGCATCCATCTGTGCAAGTACAGCACCGATGCCACTGCTGGAGGCATCGGTTTGCACAATGAATGGCTTACTGTAATCCGGTGCTCTGAGCACTGGAGCCTGG\n",
      ">Lizard\n",
      "TGTGGCGGTTAGCATCCACTGGTGGTGGGTTAATTGCCACCAACGGAGGCCACCGACCTCTAGGTCCAGGCGGTTTCGTCTTTTACTCGTGGCAGACCTGCCCTGCTTCCCAACCAGCCCCCTCTCTAAGGGGCGGCGTCCGTGGGTGCAGGCACAGTCCCTGGGGGTGAGTACCTTAATTAAAGCCCCCTTTTGGTAGCGTGGCAAGCAGTTAAGTAAGGCCCTCTTTAGGGGAGACGCTGGGGTTGGTTACAACGGAACACACAATCTATGCTCACACAAAGAAATGCAAGGGACAAGAGAGAGCTATCTCACTCGTAAACTACAGATTTATTTACACAGTACAAAAGTAAAGAAGGTTCCTCCAAGTGCTTCGCAGCGACTTGGGGTGGACAAACTACACAGGGGAATGGCAAACACAGCAGTACATTCTTAACAGGCACTCACTTCAGTTTTGATGAAGGATCCGTGGGGCTTCGCTGCAAGGCTAGGCCCCCGCTGTGCTGAGAGTTCTTTGGTGGTAAAGAAGAAGTCTTTAAAGTCTTTGGGTAAGCTTGGTGGTTGCAGTGGTGTGCTGGCAGGCACACCTCGGTCTGGAGTCTCGTGGTGATGATGCTCAGGCATGCACACCTTGGGCTGGAGTCTCGTTGTAGCACAAGGGGAACTACAATTCGGCAAAGCCGGCTCCCCTTAGTGCTGCTTCTTGGCCGGGCTTGGTAACCTGGCCCGGGTTCCAGGGCTTCTACCCTTCTGATGAGTTCTGGACTGCAGGAGATGAGTGGGCAGAGAGGGTGCTCCAAGG\n",
      ">Guinea_pig\n",
      "GAAATACAACATCCAATAGACTTAGGGTGACGAATAAATTATGCAAAATAAAGAACCCCTCGCTCCCCCTCCTGATAGAGAAAACAGGAGAAAGGAGCGAGAAGAAACTTGGAGCTCTGGGAAATGCTCCATTTAGGTGAAGAGCAGCTATAAAAGCGCATCAATCCACCAGCGTACACTCTAATTTGCCCGCTCAAATGTCTGCATTCTGGTAAAACTTTTTACCAAGAATACGTGCAACTCCTTACACGTGTTTCAGTCTACTTAGACCTCATCAGAGGAGTATAGCTTCTTGACATGGTGCAGGGCTCCCAGTCTTGTGAAATACAACATCCAATAGACTTAGGGTGACGAATAAATTATGCAAAATAAAGAACCCCTCGCTCCCCCTCCTGATAGAGAAAACAGGAGAAAGGAGCGAGAAGAAACTTGGAGCTCTGGGAAATGCTCCATTTAGGTGAAGAGCAGCTATAAAAGCGCATCAATCCACCAGCGTACACTCTAATTTGCCCGCTCAAATGTCTGCATTCTGGTAAA\n",
      ">Ferret\n",
      "CACCCAGGCAAATAAAATGTGTATGCTCACTACTGGTGCAGGCACAAGTGCTAGTGATCAGCACACACATTTCACTTTTCTTGGTGTGAATTATAATTAAAATGGCTAGGTACTCTCAACTGGCACTGGTGCATGTTGCAGTACCAATTGTAAACACATACCCATGTGAAACGTGTGAAAACAATACATGTGAAATGTGTGCTCTCAAATGCCACTTGTACTTGCATGAGGGCAGGTTGTCAGCACCTTGATGCGTAAAAATTGTGTCCACGCACCACTGCCCATGGCAACCACACATTTCACATGCCCAGCTAGTACTTTACGGGCCTTGGTGCTGCTCTCAATGGGCACCAGTGCAAGCCCCAGGGCCAGTTGTGAGCATCTAGCCACATGATATATTTATAAATTCTAGGCAAATGAAATGTGTGTGCCGTACAGTGCCACCTGCGTTTGCACTAATGCCAATAGTCAGCATCTATGCATGTGAAAATTGTGTGCTCACCAGTGGTACCAGTGGATGCAGAAGTGCCAGTGGTGACAAGACACATGATTATGTGCATACAACCTAACAGACTGTGCTAGGTGCTCAACTGACACTTGTGCATGTACCAGTGCTACTTCTATGCACTTGGCCATGTCAAATTTGTTGACATACACAAGTGATGTCATCGATGATGTTATTGGTGATGTGATATGTGATGTCATCAGTGATGTCATTGGTGATGTCATTGGTCAGGTCATATGTGATGTCATCTATGATGTCATCAATGATGTCATGAGTGATGTCACACATGATGCAAT\n",
      ">Ferret\n",
      "ACACATTTCATTTGCCTAGAATTTATAAATATATCATGTGGCTAGATGCTCACAACTTGCCCTGGGGCTTGCACTGGTGCCCATTGAGAGCAGCACCAAGGCCCGTAAAGTACTAGCTGGGCATGTGAAACGTGTGGTTGCCATGGGCAGTGGTGCGTGGACACAATTTTTACGCATCAAGGTGCTGACAACCTGCCCTCATGCAAGTACAAGTGGCATTTGAGAGCACACATTTCACATGTATTGTTTTCACACGTTTCACATGGCTATGTGTTTACAATTGGTACTGCAACATGCACCAGTGCCAGTTGAGAGTACCTAGCCATTTTAATTATAATTCGCACCAAGAAAAGTGAAATGTGTGTGCTGATCACTAGCACTTGTGCCTGCACCAGTAGTGAGCATACACATTTTATTTGCCTGGGTGGTGATAATCAGAATTGCTGCAAGCAACGGTGGCAATTTGAGCACACAAGTTTAATGTGCCTAGGACTCGCACACCTTTCATGTTCCTAGGTGCTGAGAACTGGCACTGGCAGTAGTTGATAGTACCTTGCCATGTCAACAATCACCTTGTTATGTGAAATGTGGATACTTTGCAGTGGCACTGGTGTTTGCTCCAGTGCCAGTGGTGGTCACAACACTTCTCACATGCGTAGGTGCTAACAGCTGGTATTGGTGCATGTGCCGGGGGCAGTTGTGTGGACAGCCATTTCATGTGCCTAGGTTTTACACACATTTCTGATGGCTAGGTGGTCACAAGTGATGTCATCGATGATGTTATTGGTGATGTGATATGTGATGTCATCAGTGATGTCATTGGTGATGTCATTGGTCAGGTCATATGTGATGTCATCTATGATGTCATCAATGATGTCATGAGTGATGTCACACATGATGCAATGTGAGGTGGCAATGG\n"
     ]
    }
   ],
   "source": [
    "!head -n 10 Data/Animals.fasta"
   ]
  },
  {
   "cell_type": "markdown",
   "id": "585a9ac6",
   "metadata": {},
   "source": [
    "## Fastq file exploration"
   ]
  },
  {
   "cell_type": "code",
   "execution_count": null,
   "id": "e5152920",
   "metadata": {},
   "outputs": [],
   "source": [
    "# step 1. Check what file type it is and if its zipped. \n",
    "#!file Data/Covid_1.fastq\n",
    "\n",
    "# Lets try and open it up.\n",
    "#!head -n 10 Data/Covid_1.fastq\n",
    "\n",
    "# What do you notice about the file structure? \n",
    "\n",
    "# Lets see how many sequences are in the file\n",
    "#!grep -c \"^@\" Data/Covid_1.fastq\n",
    "\n",
    "# Lets get the mean phred score for each sequence \n",
    "#!bioawk -c fastx '{print $name, meanqual($qual)}' Data/Covid_1.fastq\n",
    "\n",
    "# Lets get the mean phred score for every sequence together \n",
    "#!bioawk -c fastx '{print $name, meanqual($qual)}' Data/Covid_1.fastq | awk '{print $2}' | awk '{sum+=$1} END {print sum/NR}'\n",
    "\n",
    "# Lets see how the sequences break down categorically by phred score \n",
    "# !bioawk -c fastx '{print $name, meanqual($qual)}' Data/Covid_1.fastq | awk '{print int($2)}' | sort -n | uniq -c | sort -nr\n",
    "\n"
   ]
  },
  {
   "cell_type": "markdown",
   "id": "bb5be80a",
   "metadata": {},
   "source": [
    "## Advanced Section"
   ]
  },
  {
   "cell_type": "markdown",
   "id": "d5ad395d",
   "metadata": {},
   "source": [
    "### Set up a conda environment and activate the environment to install additional tools"
   ]
  },
  {
   "cell_type": "code",
   "execution_count": null,
   "id": "88a40bfd",
   "metadata": {},
   "outputs": [],
   "source": [
    "\n",
    "# Install the conda environment using the yml file\n",
    "!conda install -f environment.yml"
   ]
  },
  {
   "cell_type": "code",
   "execution_count": null,
   "id": "197bb4f4",
   "metadata": {},
   "outputs": [],
   "source": [
    "# Activate the conda environment\n",
    "!conda activate Bio"
   ]
  }
 ],
 "metadata": {
  "kernelspec": {
   "display_name": "Python 3",
   "language": "python",
   "name": "python3"
  },
  "language_info": {
   "codemirror_mode": {
    "name": "ipython",
    "version": 3
   },
   "file_extension": ".py",
   "mimetype": "text/x-python",
   "name": "python",
   "nbconvert_exporter": "python",
   "pygments_lexer": "ipython3",
   "version": "3.13.1"
  }
 },
 "nbformat": 4,
 "nbformat_minor": 5
}
