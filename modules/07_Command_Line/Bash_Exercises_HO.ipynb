{
 "cells": [
  {
   "cell_type": "markdown",
   "id": "70fd06db-dbf9-4555-8b7c-864eb0335cb2",
   "metadata": {},
   "source": [
    "# Using Commands with Biological Data\n",
    "\n",
    "### GFF Files\n",
    "Let us examine a General Feature Format (.gff/gff3) file. These are commonly used to describe the genomic locations and characteristics of gene bodies, exons, untranslated regions, or similar features. You can see a description of this file type here: https://genome.ucsc.edu/FAQ/FAQformat.html#format3\n",
    "\n",
    "If you have pulled the git repository, you should see a file called “Aedesaegypti.gff” inside the 07_Command_Line directory. Use the following cell to check you are in the correct directory, or navigate to that directory if needed.\n"
   ]
  },
  {
   "cell_type": "code",
   "execution_count": null,
   "id": "28905d59",
   "metadata": {},
   "outputs": [],
   "source": []
  },
  {
   "cell_type": "markdown",
   "id": "51029b28",
   "metadata": {},
   "source": [
    "This file contains information about the genome of Aedes aegypti, the yellow fever mosquito. It is a common vector of infectious diseases. Use \"head\" to look at the first five lines of the file and confirm they match the description of the file type from the link above."
   ]
  },
  {
   "cell_type": "code",
   "execution_count": null,
   "id": "1bc16748-5e29-47eb-83be-f977ccb85b69",
   "metadata": {},
   "outputs": [],
   "source": []
  },
  {
   "cell_type": "markdown",
   "id": "dd726a8c",
   "metadata": {},
   "source": [
    "\n",
    "You have some questions about AAEL029046, a cecropin peptide (these are important in insect immune response). The information regarding the gene (including exons, coding sequences, and untranslated regions) can be found from lines 295 to 302 of the file.\n",
    "\n",
    "**Using a single line, extract these lines from Aedesaegypti.gff and write them to a new file called AAEL029046.gff.**"
   ]
  },
  {
   "cell_type": "code",
   "execution_count": null,
   "id": "609e3c1f",
   "metadata": {},
   "outputs": [],
   "source": []
  },
  {
   "cell_type": "markdown",
   "id": "220c9557",
   "metadata": {},
   "source": [
    "### BED Files\n",
    "When you attempt to input your GFF into an R function for making primers against both spliced and unspliced transcripts, you discover it only accepts a sorted Browser Extendable Data (.bed) file. You can learn more about this format at the following link: \n",
    "https://genome.ucsc.edu/FAQ/FAQformat.html#format1\n",
    "\n",
    "**Using the data from AAEL029046.gff, create a bed file called AAEL029046.bed with the three mandatory columns.** The fourth column, the optional “name”, should be set to the type of feature (protein_coding_gene, three_prime_utr, etc). The remaining optional columns should not be included. The rows should be sorted based on the start coordinate of the feature.\n",
    "\n",
    "Hint: This task is a bit trickier, but can be completed with the commands you have learned. There are multiple solutions. You may want to use a single command twice or you could use the manual to learn a bit more about the sort command and the “KEYDEF”.\n"
   ]
  },
  {
   "cell_type": "code",
   "execution_count": null,
   "id": "146b30ec",
   "metadata": {},
   "outputs": [],
   "source": []
  },
  {
   "cell_type": "markdown",
   "id": "3fc953e1-bf87-4875-be16-7a2dd6bc8672",
   "metadata": {},
   "source": [
    "### The Importance of Good Organization\n",
    "\n",
    "You present your findings to your PI and they are interested in running your data on this gene through a pipeline on Alpine that will take several days. However, during your meeting a week later they cannot remember which output data file is associated with your file. When they open the directory, you see a list of thousands of files with helpful names like “mosquitogene.bed.out“, “gradstudentproject.bed.out”, or “potentialpresentationdata.bed.out”. While the names are less than optimal, they tell you the last lines of the file are the same as the bed file that was provided to the pipeline.\n",
    "\n",
    "Neither of you want to manually sift through all these files. Can you think of a way to use bash to help determine which output file corresponds to your bed file? \n",
    "\n",
    "**Write the command(s) in the code cell below, and then describe why you believe this is a good solution in the markdown cell below that.**"
   ]
  },
  {
   "cell_type": "code",
   "execution_count": null,
   "id": "b7693af8",
   "metadata": {},
   "outputs": [],
   "source": []
  },
  {
   "cell_type": "markdown",
   "id": "b88c1db6",
   "metadata": {},
   "source": []
  }
 ],
 "metadata": {
  "kernelspec": {
   "display_name": "Bash",
   "language": "bash",
   "name": "bash"
  },
  "language_info": {
   "codemirror_mode": "shell",
   "file_extension": ".sh",
   "mimetype": "text/x-sh",
   "name": "bash"
  }
 },
 "nbformat": 4,
 "nbformat_minor": 5
}
