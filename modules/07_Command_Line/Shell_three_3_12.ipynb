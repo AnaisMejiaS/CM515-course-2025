{
 "cells": [
  {
   "cell_type": "markdown",
   "id": "41b74e90-7be3-491e-b883-d982d424a376",
   "metadata": {},
   "source": [
    "# Pipes and Filters\n",
    "\n",
    "Now that we know a few basic commands, we can finally look at the shell’s most powerful feature: the ease with which it lets us combine existing programs in new ways. We’ll start with the directory **shell-lesson-data/exercise-data/alkanes** that contains six files describing some simple organic molecules. The **.pdb** extension indicates that these files are in Protein Data Bank format, a simple text format that specifies the type and position of each atom in the molecule.\n",
    "\n",
    "#### %>%  Remember me?\n"
   ]
  },
  {
   "cell_type": "code",
   "execution_count": null,
   "id": "d2e1013f-7348-40d4-9a59-1a4b9fd54664",
   "metadata": {},
   "outputs": [],
   "source": [
    "ls"
   ]
  },
  {
   "cell_type": "markdown",
   "id": "2b94e658-dd0f-436b-945b-97792775013b",
   "metadata": {},
   "source": [
    "Let’s run an example command:"
   ]
  },
  {
   "cell_type": "code",
   "execution_count": null,
   "id": "6e945337-4300-4bd1-a98f-f9568a0f9404",
   "metadata": {},
   "outputs": [],
   "source": [
    "wc cubane.pdb"
   ]
  },
  {
   "cell_type": "markdown",
   "id": "c6906f45-863e-4c72-8ed1-39ac6f790092",
   "metadata": {},
   "source": [
    "**wc** is the ‘word count’ command: it counts the number of lines, words, and characters in files (returning the values in that order from left to right).\n",
    "\n",
    "If we run the command **wc \\*.pdb**, the **\\*** in **\\*.pdb** matches zero or more characters, so the shell turns **\\*.pdb** into a list of all **.pdb** files in the current directory:"
   ]
  },
  {
   "cell_type": "code",
   "execution_count": null,
   "id": "f6989dd2-9b33-457a-bcd3-2c1c0334abfa",
   "metadata": {},
   "outputs": [],
   "source": [
    "wc *.pdb"
   ]
  },
  {
   "cell_type": "markdown",
   "id": "5ee5b3f3-8169-43db-badf-d834da20095a",
   "metadata": {},
   "source": [
    "Note that **wc \\*.pdb** also shows the total number of all lines in the last line of the output.\n",
    "\n",
    "If we run **wc -l** instead of just **wc**, the output shows only the number of lines per file:"
   ]
  },
  {
   "cell_type": "code",
   "execution_count": null,
   "id": "03902ac2-a51b-4802-bbc0-a7b19940f791",
   "metadata": {},
   "outputs": [],
   "source": [
    "wc -l *.pdb"
   ]
  },
  {
   "cell_type": "markdown",
   "id": "9c4f0bf1-9d6c-4e4a-8648-5b608c28f4c8",
   "metadata": {},
   "source": [
    "The **-m** and **-w** options can also be used with the **wc** command to show only the number of characters or the number of words, respectively.\n",
    "\n",
    "### *Why Isn’t It Doing Anything?*\n",
    "What happens if a command is supposed to process a file, but we don’t give it a filename? For example, what if we type:"
   ]
  },
  {
   "cell_type": "code",
   "execution_count": null,
   "id": "296dd821-9b5f-4b8d-bbbd-a928449e948c",
   "metadata": {},
   "outputs": [],
   "source": [
    "wc -l"
   ]
  },
  {
   "cell_type": "markdown",
   "id": "5863b4a1-2afb-461c-aa01-b9a4957694f2",
   "metadata": {},
   "source": [
    "but don’t type **\\*.pdb** (or anything else) after the command? Since it doesn’t have any filenames, **wc** assumes it is supposed to process input given at the command prompt, so it just sits there and waits for us to give it some data interactively. From the outside, though, all we see is it sitting there, and the command doesn’t appear to do anything.\n",
    "\n",
    "If you make this kind of mistake, you can escape out of this state by holding down the control key (Ctrl) and pressing the letter C once: **Ctrl+C**. Then release both keys.\n",
    "\n",
    "## Capturing Output from Commands\n",
    "\n",
    "Which of these files contains the fewest lines? It’s an easy question to answer when there are only six files, but what if there were 6000? Our first step toward a solution is to run the command:"
   ]
  },
  {
   "cell_type": "code",
   "execution_count": null,
   "id": "897a0a01-db3d-46b5-88af-a6f0ec9ef855",
   "metadata": {},
   "outputs": [],
   "source": [
    "wc -l *.pdb > lengths.txt"
   ]
  },
  {
   "cell_type": "markdown",
   "id": "691b2c0a-9f51-4464-8bf0-39c8bf5f72a8",
   "metadata": {},
   "source": [
    "The greater than symbol, **>**, tells the shell to **redirect** the command’s output to a file instead of printing it to the screen. This command prints no screen output, because everything that **wc** would have printed has gone into the file **lengths.txt** instead. If the file doesn’t exist prior to issuing the command, the shell will create the file. If the file exists already, it will be silently overwritten, which may lead to data loss. Thus, redirect commands require caution.\n",
    "\n",
    "**ls lengths.txt** confirms that the file exists:"
   ]
  },
  {
   "cell_type": "code",
   "execution_count": null,
   "id": "9cfd1166-ccac-43e9-8dec-c4c20a7535a1",
   "metadata": {},
   "outputs": [],
   "source": [
    "ls lengths.txt"
   ]
  },
  {
   "cell_type": "markdown",
   "id": "847a6ce1-61a6-4631-b2e4-edc87c18664d",
   "metadata": {},
   "source": [
    "We can now send the content of **lengths.txt** to the screen using **cat lengths.txt**. The **cat** command gets its name from ‘concatenate’ i.e. join together, and it prints the contents of files one after another. There’s only one file in this case, so **cat** just shows us what it contains:"
   ]
  },
  {
   "cell_type": "code",
   "execution_count": null,
   "id": "4033700c-253c-4609-a660-6be489debab2",
   "metadata": {},
   "outputs": [],
   "source": [
    "cat lengths.txt"
   ]
  },
  {
   "cell_type": "markdown",
   "id": "3b3919e3-e4c9-48d3-91b6-6f8b76c9cf3c",
   "metadata": {},
   "source": [
    "### *Output Page by Page*\n",
    "We’ll continue to use **cat** in this lesson, for convenience and consistency, but it has the disadvantage that it always dumps the whole file onto your screen. More useful in practice is the command **less** (e.g. less lengths.txt). This displays a screenful of the file, and then stops. You can go forward one screenful by pressing the spacebar, or back one by pressing **b**. Press **q** to quit.\n",
    "\n",
    "## Filtering output\n",
    "Next we’ll use the **sort** command to sort the contents of the **lengths.txt** file. But first we’ll do an exercise to learn a little about the sort command:\n",
    "\n",
    "### *What Does sort -n Do?*\n",
    "The file **shell-lesson-data/exercise-data/numbers.txt** contains the following lines:"
   ]
  },
  {
   "cell_type": "code",
   "execution_count": null,
   "id": "2f390518-666c-43a6-b24e-66f625eaeb1e",
   "metadata": {},
   "outputs": [],
   "source": [
    "10\n",
    "2\n",
    "19\n",
    "22\n",
    "6"
   ]
  },
  {
   "cell_type": "markdown",
   "id": "a8b7a424-99ad-4833-b602-15f489281123",
   "metadata": {},
   "source": [
    "If we run **sort** on this file, the output is:"
   ]
  },
  {
   "cell_type": "code",
   "execution_count": null,
   "id": "0d675d4c-64f1-48a8-90cc-4dcf88be059a",
   "metadata": {},
   "outputs": [],
   "source": [
    "10\n",
    "19\n",
    "2\n",
    "22\n",
    "6"
   ]
  },
  {
   "cell_type": "markdown",
   "id": "c96e57fc-be19-4669-b121-b4c1213ce94c",
   "metadata": {},
   "source": [
    "If we run **sort -n** on the same file, we get this instead:"
   ]
  },
  {
   "cell_type": "code",
   "execution_count": null,
   "id": "c245148d-6ab8-43ab-83ea-2e9439e4b67b",
   "metadata": {},
   "outputs": [],
   "source": [
    "2\n",
    "6\n",
    "10\n",
    "19\n",
    "22"
   ]
  },
  {
   "cell_type": "markdown",
   "id": "c1686d12-358e-4eef-93fd-22a6b0e28366",
   "metadata": {},
   "source": [
    "We will use the **-n** option to specify that the sort is numerical instead of alphanumerical. This does not change the file; instead, it sends the sorted result to the screen:"
   ]
  },
  {
   "cell_type": "code",
   "execution_count": null,
   "id": "e92004e0-51f4-40c8-91f0-6b104c67721c",
   "metadata": {},
   "outputs": [],
   "source": [
    "sort -n lengths.txt"
   ]
  },
  {
   "cell_type": "markdown",
   "id": "d1b59b36-428b-40ad-930a-b9b7ac69a943",
   "metadata": {},
   "source": [
    "We can put the sorted list of lines in another temporary file called **sorted-lengths.txt** by putting **> sorted-lengths.txt** after the command, just as we used **> lengths.txt** to put the output of **wc** into **lengths.txt**. Once we’ve done that, we can run another command called **head** to get the first few lines in **sorted-lengths.txt**:"
   ]
  },
  {
   "cell_type": "code",
   "execution_count": null,
   "id": "8c8ae50b-50c8-4aac-92e6-c57e674fb6d5",
   "metadata": {},
   "outputs": [],
   "source": [
    "sort -n lengths.txt > sorted-lengths.txt\n",
    "head -n 1 sorted-lengths.txt"
   ]
  },
  {
   "cell_type": "markdown",
   "id": "7115833e-1c6c-4154-b3b4-c8dcb380d2d0",
   "metadata": {},
   "source": [
    "Using **-n 1** with **head** tells it that we only want the first line of the file; **-n 20** would get the first 20, and so on. Since **sorted-lengths.txt** contains the lengths of our files ordered from least to greatest, the output of head must be the file with the fewest lines.\n",
    "\n",
    "### *Redirecting to the same file*\n",
    "It’s a very bad idea to try redirecting the output of a command that operates on a file to the same file. For example:\n",
    "\n",
    "sort -n lengths.txt > lengths.txt\n",
    "\n",
    "Doing something like this may give you incorrect results and/or delete the contents of lengths.txt\n",
    "\n",
    "### *What Does >> Mean?*\n",
    "We have seen the use of **>**, but there is a similar operator **>>** which works slightly differently. We’ll learn about the differences between these two operators by printing some strings. We can use the **echo** command to print strings e.g."
   ]
  },
  {
   "cell_type": "code",
   "execution_count": null,
   "id": "0d3bac95-0fbe-4623-9306-3ebf284b2db1",
   "metadata": {},
   "outputs": [],
   "source": [
    "echo The echo command prints text"
   ]
  },
  {
   "cell_type": "markdown",
   "id": "eb6c22d3-2d0c-4db2-92f4-825d814cc3a8",
   "metadata": {},
   "source": [
    "Now test the commands below to reveal the difference between the two operators:"
   ]
  },
  {
   "cell_type": "code",
   "execution_count": null,
   "id": "046ddfe0-0cb0-41b6-ba73-9f3ebc1b1af2",
   "metadata": {},
   "outputs": [],
   "source": [
    "echo hello > testfile01.txt"
   ]
  },
  {
   "cell_type": "code",
   "execution_count": null,
   "id": "0f837738-f81b-434d-81ff-5f69a5af72a5",
   "metadata": {},
   "outputs": [],
   "source": [
    "echo hello >> testfile02.txt"
   ]
  },
  {
   "cell_type": "markdown",
   "id": "72db9e6f-f4c0-4eac-b14a-26cb9566714e",
   "metadata": {},
   "source": [
    "Hint: Try executing each command twice in a row and then examining the output files.\n",
    "\n",
    "In the first example with **>**, the string ‘hello’ is written to **testfile01.txt**, but the file gets overwritten each time we run the command.\n",
    "\n",
    "We see from the second example that the **>>** operator also writes ‘hello’ to a file (in this case **testfile02.txt**), but appends the string to the file if it already exists (i.e. when we run it for the second time).\n",
    "\n",
    "### *Appending Data*\n",
    "We have already met the **head** command, which prints lines from the start of a file. **tail** is similar, but prints lines from the end of a file instead.\n",
    "\n",
    "Consider the file **shell-lesson-data/exercise-data/animal-counts/animals.csv**. After these commands, find the answer that corresponds to the file **animals-subset.csv**:"
   ]
  },
  {
   "cell_type": "code",
   "execution_count": null,
   "id": "81d7d41a-4404-47c0-a9b5-cf3b8e075026",
   "metadata": {},
   "outputs": [],
   "source": [
    "head -n 3 animals.csv > animals-subset.csv\n",
    "$ tail -n 2 animals.csv >> animals-subset.csv"
   ]
  },
  {
   "cell_type": "markdown",
   "id": "f4127b53-f20c-494f-94c1-8d623951ae15",
   "metadata": {},
   "source": [
    "1. The first three lines of **animals.csv**\n",
    "2. The last two lines of **animals.csv**\n",
    "3. The first three lines and the last two lines of **animals.csv**\n",
    "4. The second and third lines of **animals.csv**\n",
    "\n",
    "\n",
    "\n",
    "Option 3 is correct. For option 1 to be correct we would only run the **head** command. For option 2 to be correct we would only run the **tail** command. For option 4 to be correct we would have to pipe the output of head into **tail -n 2** by doing **head -n 3 animals.csv | tail -n 2 > animals-subset.csv**\n",
    "\n",
    "## Passing Output to Another Command\n",
    "\n",
    "In our example of finding the file with the fewest lines, we are using two intermediate files **lengths.txt** and **sorted-lengths.txt** to store output. This is a confusing way to work because even once you understand what **wc**, **sort**, and **head** do, those intermediate files make it hard to follow what’s going on. We can make it easier to understand by running sort and head together:\n"
   ]
  },
  {
   "cell_type": "code",
   "execution_count": null,
   "id": "24fb7f41-6e53-431c-9458-a3f837cfe12e",
   "metadata": {},
   "outputs": [],
   "source": [
    "sort -n lengths.txt | head -n 1"
   ]
  },
  {
   "cell_type": "markdown",
   "id": "82cec66a-1966-4163-a03c-834f1c4b0198",
   "metadata": {},
   "source": [
    "The vertical bar, |, between the two commands is called a **pipe**. It tells the shell that we want to use the output of the command on the left as the input to the command on the right.\n",
    "\n",
    "This has removed the need for the **sorted-lengths.txt** file.\n",
    "\n",
    "![image](./images/STdOutPipe.png)\n",
    "\n",
    "## Combining Multiple Commands\n",
    "\n",
    "Nothing prevents us from chaining pipes consecutively. We can for example send the output of **wc** directly to **sort**, and then send the resulting output to **head**. This removes the need for any intermediate files.\n",
    "\n",
    "We’ll start by using a pipe to send the output of **wc** to **sort**:"
   ]
  },
  {
   "cell_type": "code",
   "execution_count": null,
   "id": "2f228d7b-230b-4147-91b5-a32cb38cb109",
   "metadata": {},
   "outputs": [],
   "source": [
    "wc -l *.pdb | sort -n"
   ]
  },
  {
   "cell_type": "markdown",
   "id": "9ff5cff4-b4cc-4f57-950b-df6ac9f57a93",
   "metadata": {},
   "source": [
    "We can then send that output through another pipe, to **head**, so that the full pipeline becomes:\n"
   ]
  },
  {
   "cell_type": "code",
   "execution_count": null,
   "id": "cc3e5c14-4ecb-43f7-ac86-6ee9782c54a6",
   "metadata": {},
   "outputs": [],
   "source": [
    "wc -l *.pdb | sort -n | head -n 1"
   ]
  },
  {
   "cell_type": "markdown",
   "id": "3faa3b2c-4905-4bf3-8475-a18d8eddf831",
   "metadata": {},
   "source": [
    "This is exactly like a mathematician nesting functions like *log(3x)* and saying ‘the log of three times x’. In our case, the algorithm is ‘head of sort of line count of **\\*.pdb**’.\n",
    "\n",
    "The redirection and pipes used in the last few commands are illustrated below:\n",
    "\n",
    "![image](./images/pipes.png)\n",
    "\n",
    "### *Piping Commands Together*\n",
    "In our current directory, we want to find the 3 files which have the least number of lines. Which command listed below would work?\n"
   ]
  },
  {
   "cell_type": "code",
   "execution_count": null,
   "id": "711b3930-2414-43dd-8c4e-2147f1d06da5",
   "metadata": {},
   "outputs": [],
   "source": [
    "wc -l \\* > sort -n > head -n 3"
   ]
  },
  {
   "cell_type": "code",
   "execution_count": null,
   "id": "6c0d5ddc-09d3-4471-a922-e78691e5cf48",
   "metadata": {},
   "outputs": [],
   "source": [
    "wc -l \\* | sort -n | head -n 1-3"
   ]
  },
  {
   "cell_type": "code",
   "execution_count": null,
   "id": "8b61cf37-55a7-445e-bfb2-25f99d33a047",
   "metadata": {},
   "outputs": [],
   "source": [
    "wc -l \\* | head -n 3 | sort -n"
   ]
  },
  {
   "cell_type": "code",
   "execution_count": null,
   "id": "13dbae42-aaaf-49ec-9253-f9e4cc08a3e1",
   "metadata": {},
   "outputs": [],
   "source": [
    "wc -l \\* | sort -n | head -n 3"
   ]
  },
  {
   "cell_type": "markdown",
   "id": "b943cf2b-0e99-46a2-bb60-56a22902b5e4",
   "metadata": {},
   "source": [
    "## Tools designed to work together\n",
    "This idea of linking programs together is why Unix has been so successful. Instead of creating enormous programs that try to do many different things, Unix programmers focus on creating lots of simple tools that each do one job well, and that work well with each other. This programming model is called ‘pipes and filters’. We’ve already seen pipes; a **filter** is a program like **wc** or **sort** that transforms a stream of input into a stream of output. Almost all of the standard Unix tools can work this way. Unless told to do otherwise, they read from standard input, do something with what they’ve read, and write to standard output.\n",
    "\n",
    "The key is that any program that reads lines of text from standard input and writes lines of text to standard output can be combined with every other program that behaves this way as well. You can *and should* write your programs this way so that you and other people can put those programs into pipes to multiply their power.\n",
    "\n",
    "### *Pipe Reading Comprehension*\n",
    "A file called animals.csv (in the shell-lesson-data/exercise-data/animal-counts folder) contains the following data:"
   ]
  },
  {
   "cell_type": "code",
   "execution_count": null,
   "id": "4e1bf3ef-110b-499b-a58a-add3f55dc969",
   "metadata": {},
   "outputs": [],
   "source": [
    "2012-11-05,deer,5\n",
    "2012-11-05,rabbit,22\n",
    "2012-11-05,raccoon,7\n",
    "2012-11-06,rabbit,19\n",
    "2012-11-06,deer,2\n",
    "2012-11-06,fox,4\n",
    "2012-11-07,rabbit,16\n",
    "2012-11-07,bear,1"
   ]
  },
  {
   "cell_type": "markdown",
   "id": "3e339a6a-a1a0-4521-837a-739aecaf2b5a",
   "metadata": {},
   "source": [
    "What text passes through each of the pipes and the final redirect in the pipeline below? Fill out the markdown cells below with each step of the process. Note, the **sort -r** command sorts in reverse order."
   ]
  },
  {
   "cell_type": "code",
   "execution_count": null,
   "id": "fca42942-9e57-4457-a6c3-d7e6b7213ade",
   "metadata": {},
   "outputs": [],
   "source": [
    "cat animals.csv | head -n 5 | tail -n 3 | sort -r > final.txt"
   ]
  },
  {
   "cell_type": "markdown",
   "id": "efac1d20",
   "metadata": {},
   "source": [
    "cat animals.csv |\n"
   ]
  },
  {
   "cell_type": "markdown",
   "id": "a1c1fa62",
   "metadata": {},
   "source": [
    "head -n 5 | "
   ]
  },
  {
   "cell_type": "markdown",
   "id": "4cce0d64",
   "metadata": {},
   "source": [
    "tail -n 3 |"
   ]
  },
  {
   "cell_type": "markdown",
   "id": "ce3317e4",
   "metadata": {},
   "source": [
    "sort -r"
   ]
  },
  {
   "cell_type": "markdown",
   "id": "053f3894",
   "metadata": {},
   "source": [
    "Don't mind me, I'm spoiler protection!\n",
    "\n",
    "<br>\n",
    "<br>\n",
    "<br>\n",
    "<br>\n",
    "<br>\n",
    "<br>\n",
    "<br>\n",
    "<br>\n",
    "<br>\n",
    "<br>\n",
    "<br>\n",
    "<br>\n",
    "<br>\n",
    "<br>\n",
    "<br>\n",
    "<br>\n",
    "<br>\n",
    "<br>\n",
    "<br>\n",
    "<br>\n",
    "<br>\n",
    "<br>\n",
    "<br>\n",
    "<br>\n",
    "<br>\n",
    "<br>\n",
    "<br>\n",
    "<br>\n",
    "<br>\n",
    "<br>\n",
    "<br>\n",
    "<br>\n",
    "<br>\n",
    "<br>\n",
    "<br>\n",
    "<br>\n",
    "\n",
    ":D"
   ]
  },
  {
   "cell_type": "markdown",
   "id": "c374b4e7-6e0e-4238-a42c-accd00769ef0",
   "metadata": {},
   "source": [
    "The **head** command extracts the first 5 lines from **animals.csv**. Then, the last 3 lines are extracted from the previous 5 by using the **tail** command. With the **sort -r** command those 3 lines are sorted in reverse order. Finally, the output is redirected to a file: **final.txt**. The content of this file can be checked by executing cat final.txt. The file should contain the following lines:"
   ]
  },
  {
   "cell_type": "code",
   "execution_count": null,
   "id": "a15f984c-4a7e-4450-95de-9a745c14ba5a",
   "metadata": {},
   "outputs": [],
   "source": [
    "2012-11-06,rabbit,19\n",
    "2012-11-06,deer,2\n",
    "2012-11-05,raccoon,7\n"
   ]
  },
  {
   "cell_type": "markdown",
   "id": "0c9299b3-a20e-4ef8-857a-a6d0c7a6ea6f",
   "metadata": {},
   "source": [
    "### *Pipe Construction*\n",
    "For the file animals.csv from the previous exercise, consider the following command:"
   ]
  },
  {
   "cell_type": "code",
   "execution_count": null,
   "id": "702adf8c-81ff-48dd-abe9-3324d6e4ca8c",
   "metadata": {},
   "outputs": [],
   "source": [
    "cut -d , -f 2 animals.csv"
   ]
  },
  {
   "cell_type": "markdown",
   "id": "f4fc69a1-a530-4f92-b88c-ec34fcee7430",
   "metadata": {},
   "source": [
    "The **cut** command is used to remove or ‘cut out’ certain sections of each line in the file, and **cut** expects the lines to be separated into columns by a **Tab** character. A character used in this way is a called a **delimiter**. In the example above we use the **-d** option to specify the comma as our delimiter character. We have also used the **-f** option to specify that we want to extract the second field (column). This gives the following output:"
   ]
  },
  {
   "cell_type": "code",
   "execution_count": null,
   "id": "e150a4c2-fd48-433a-bcfe-95c7a765799c",
   "metadata": {},
   "outputs": [],
   "source": [
    "deer\n",
    "rabbit\n",
    "raccoon\n",
    "rabbit\n",
    "deer\n",
    "fox\n",
    "rabbit\n",
    "bear"
   ]
  },
  {
   "cell_type": "markdown",
   "id": "2857a87c-58a8-49fe-b7d1-93694e5bfe9b",
   "metadata": {},
   "source": [
    "The **uniq** command filters out adjacent matching lines in a file. How could you extend this pipeline (using **uniq** and another command) to find out what animals the file contains (without any duplicates in their names)?"
   ]
  },
  {
   "cell_type": "code",
   "execution_count": null,
   "id": "967f565f-82d7-4a82-b123-34f40a7e1c68",
   "metadata": {},
   "outputs": [],
   "source": [
    "cut -d , -f 2 animals.csv | sort | uniq"
   ]
  },
  {
   "cell_type": "markdown",
   "id": "c8f5df25-fe85-47b5-9b36-8dba720e36db",
   "metadata": {},
   "source": [
    "### *Which Pipe?*\n",
    "The file **animals.csv** contains 8 lines of data formatted as follows:"
   ]
  },
  {
   "cell_type": "code",
   "execution_count": null,
   "id": "36972626-ff71-4450-9bff-968eb1e2836f",
   "metadata": {},
   "outputs": [],
   "source": [
    "2012-11-05,deer,5\n",
    "2012-11-05,rabbit,22\n",
    "2012-11-05,raccoon,7\n",
    "2012-11-06,rabbit,19\n",
    "..."
   ]
  },
  {
   "cell_type": "markdown",
   "id": "a9283ec1-9b48-46a3-a35b-0931cfa5b1ad",
   "metadata": {},
   "source": [
    "The **uniq** command has a **-c** option which gives a count of the number of times a line occurs in its input. Assuming your current directory is **shell-lesson-data/exercise-data/animal-counts**, what command would you use to produce a table that shows the total count of each type of animal in the file?"
   ]
  },
  {
   "cell_type": "code",
   "execution_count": null,
   "id": "17b81882-d114-436a-80c7-e5a19c8cb0c5",
   "metadata": {},
   "outputs": [],
   "source": [
    "sort animals.csv | uniq -c\n",
    "sort -t, -k2,2 animals.csv | uniq -c\n",
    "cut -d, -f 2 animals.csv | uniq -c\n",
    "cut -d, -f 2 animals.csv | sort | uniq -c\n",
    "cut -d, -f 2 animals.csv | sort | uniq -c | wc -l"
   ]
  },
  {
   "cell_type": "markdown",
   "id": "a3a3afe0-e83d-4412-853b-399e3c8af9c3",
   "metadata": {},
   "source": [
    "The fourth option is the correct answer. If you have difficulty understanding why, try running the commands, or sub-sections of the pipelines (make sure you are in the **shell-lesson-data/exercise-data/animal-counts** directory).\n",
    "\n",
    "## Nelle’s Pipeline: Checking Files\n",
    "Nelle has run her samples through the assay machines and created 17 files in the **north-pacific-gyre** directory described earlier. As a quick check, starting from the **shell-lesson-data directory**, Nelle types:"
   ]
  },
  {
   "cell_type": "code",
   "execution_count": null,
   "id": "a8706014-3ea5-435b-a886-f8c41bd9a9ba",
   "metadata": {},
   "outputs": [],
   "source": [
    "cd north-pacific-gyre\n",
    "wc -l *.txt"
   ]
  },
  {
   "cell_type": "markdown",
   "id": "98461ed7-82c2-48df-a156-7c39b0df682e",
   "metadata": {},
   "source": [
    "The output is 18 lines that look like this:"
   ]
  },
  {
   "cell_type": "code",
   "execution_count": null,
   "id": "0639b3dc-a6ea-4d3d-a9e1-64ce21bdd396",
   "metadata": {},
   "outputs": [],
   "source": [
    "300 NENE01729A.txt\n",
    "300 NENE01729B.txt\n",
    "300 NENE01736A.txt\n",
    "300 NENE01751A.txt\n",
    "300 NENE01751B.txt\n",
    "300 NENE01812A.txt\n",
    "... ..."
   ]
  },
  {
   "cell_type": "markdown",
   "id": "6631768c-d3d4-4439-885a-74d631e8f9ed",
   "metadata": {},
   "source": [
    "Now she types this:"
   ]
  },
  {
   "cell_type": "code",
   "execution_count": null,
   "id": "fceec58f-c6be-403b-9e02-b1baa784d318",
   "metadata": {},
   "outputs": [],
   "source": [
    "wc -l *.txt | sort -n | head -n 5"
   ]
  },
  {
   "cell_type": "code",
   "execution_count": null,
   "id": "5993e304-fe00-406d-96e0-5c5cbf4cb1e6",
   "metadata": {},
   "outputs": [],
   "source": [
    "240 NENE02018B.txt\n",
    " 300 NENE01729A.txt\n",
    " 300 NENE01729B.txt\n",
    " 300 NENE01736A.txt\n",
    " 300 NENE01751A.txt"
   ]
  },
  {
   "cell_type": "markdown",
   "id": "c0d57ace-036b-467e-bce9-8413a8dcf9d3",
   "metadata": {},
   "source": [
    "Whoops: one of the files is 60 lines shorter than the others. When she goes back and checks it, she sees that she did that assay at 8:00 on a Monday morning — someone was probably in using the machine on the weekend, and she forgot to reset it. Before re-running that sample, she checks to see if any files have too much data:"
   ]
  },
  {
   "cell_type": "code",
   "execution_count": null,
   "id": "78fa6e25-b6c3-4f8b-819d-565887c5b9ec",
   "metadata": {},
   "outputs": [],
   "source": [
    "wc -l *.txt | sort -n | tail -n 5"
   ]
  },
  {
   "cell_type": "code",
   "execution_count": null,
   "id": "97322976-9372-49cb-bef9-068a22d87316",
   "metadata": {},
   "outputs": [],
   "source": [
    "300 NENE02040B.txt\n",
    " 300 NENE02040Z.txt\n",
    " 300 NENE02043A.txt\n",
    " 300 NENE02043B.txt\n",
    "5040 total"
   ]
  },
  {
   "cell_type": "markdown",
   "id": "0c46ef0d-4b7d-4bea-aacb-a7b4b9fda50a",
   "metadata": {},
   "source": [
    "Those numbers look good — but what’s that ‘Z’ doing there in the third-to-last line? All of her samples should be marked ‘A’ or ‘B’; by convention, her lab uses ‘Z’ to indicate samples with missing information. To find others like it, she does this:"
   ]
  },
  {
   "cell_type": "code",
   "execution_count": null,
   "id": "a71e7b15-3c5e-4cab-bf22-6e7fbc64031c",
   "metadata": {},
   "outputs": [],
   "source": [
    "ls *Z.txt"
   ]
  },
  {
   "cell_type": "markdown",
   "id": "d4f67e15-b375-4c4e-be8b-74500427b091",
   "metadata": {},
   "source": [
    "Sure enough, when she checks the log on her laptop, there’s no depth recorded for either of those samples. Since it’s too late to get the information any other way, she must exclude those two files from her analysis. She could delete them using **rm**, but there are actually some analyses she might do later where depth doesn’t matter, so instead, she’ll have to be careful later on to select files using the wildcard expressions **NENE\\*A.txt** **NENE\\*B.txt**.\n",
    "\n",
    "## Key Points\n",
    "* **wc** counts lines, words, and characters in its inputs.\n",
    "* **cat** displays the contents of its inputs.\n",
    "* **sort** sorts its inputs.\n",
    "* **head** displays the first 10 lines of its input.\n",
    "* **tail** displays the last 10 lines of its input.\n",
    "* command **> \\[file]** redirects a command’s output to a file (overwriting any existing content).\n",
    "* command **>> \\[file]** appends a command’s output to a file.\n",
    "* **\\[first] | \\[second]** is a pipeline: the output of the first command is used as the input to the second.\n",
    "* The best way to use the shell is to use pipes to combine simple single-purpose programs (filters)."
   ]
  },
  {
   "cell_type": "markdown",
   "id": "de7b56b0",
   "metadata": {},
   "source": [
    "## The Future\n",
    "\n",
    "Bash has a few strengths compared to programming languages like R. \n",
    "\n",
    "- Easy file manipulation\n",
    "- Incredible commands for writing to and extracting information from text files\n",
    "- Calling other programs from the command line. For many, this is the only way to access them.\n",
    "\n",
    "Even if you prefer R, Python, or C++, these languages will include tools that allow you to execute bash commands from them! **One language is not better than another, they are different tools for different tasks**"
   ]
  },
  {
   "cell_type": "markdown",
   "id": "9d1b5bfe",
   "metadata": {},
   "source": [
    "There are many tools we do not have the time to talk about. You can find similar tutorials to the ones we used today here:\n",
    "https://colorado-state-university-cmb.github.io/shell-novice/\n",
    "\n",
    "If you have questions about Alpine specifically, they have extensive documentation and a helpful support team.\n",
    "https://curc.readthedocs.io/en/latest/getting_started/navigating_docs.html\n",
    "\n",
    "Most importantly, the most important tool for virtually every software developer regardless of experience: google\n",
    "\n",
    "**A good programmer does not know everything, but they are able to use their resources to find what they need!**"
   ]
  },
  {
   "cell_type": "markdown",
   "id": "d5499e40",
   "metadata": {},
   "source": [
    "Alpine will be a very powerful tool in the future if you require it. A few advantages are as follows.\n",
    "\n",
    "- Access to numerous CPUs and GPUs, allowing hundreds or thousands of GB of RAM or VRAM.\n",
    "- Large \"scratch\" directory with 10 TB of storage for processes with large intermediate files.\n",
    "- Preinstalled bioinformatics tools such as sra-toolkit or AlphaFold.\n",
    "- Ability to easily create dozens or hundreds of parallel jobs."
   ]
  }
 ],
 "metadata": {
  "kernelspec": {
   "display_name": "Bash",
   "language": "bash",
   "name": "bash"
  },
  "language_info": {
   "codemirror_mode": "shell",
   "file_extension": ".sh",
   "mimetype": "text/x-sh",
   "name": "bash"
  }
 },
 "nbformat": 4,
 "nbformat_minor": 5
}
