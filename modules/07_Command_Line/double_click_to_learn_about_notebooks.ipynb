{
 "cells": [
  {
   "cell_type": "markdown",
   "metadata": {},
   "source": [
    "# This is a jupyter notebook!\n",
    "\n",
    " - Formerly \"interactive python notebook.\"\n",
    " - Not just python (we'll run BASH)\n",
    " - Like RMarkdown - mixes markdown with code you can run"
   ]
  },
  {
   "cell_type": "markdown",
   "metadata": {},
   "source": [
    "## How is this similar to or different from R/RMarkdown?\n",
    "\n",
    "* Same: The markdown sections are formatted text.\n",
    "* *But* in jupyter notebooks everything is a **cell** (can be raw, markdown, code).\n",
    "* **cells** instead of **code chunks.** \n",
    "* Different: Code cells don't have to be *R*. For this module they are *BASH*, but almost every language is available"
   ]
  },
  {
   "cell_type": "markdown",
   "metadata": {},
   "source": [
    "## To run a code cell\n",
    "\n",
    " 1. click next to the grey rectangular area to select it. A blue bar should appear to the left of the box, indicating that it is selected.\n",
    " 2. Type SHIFT-ENTER to run the cell.\n",
    " 3. The output of the command will appear below, along with a highlighted pink rectangle indicating the error code if one is generated.\n",
    "\n",
    "Run the following cell:"
   ]
  },
  {
   "cell_type": "code",
   "execution_count": 3,
   "metadata": {
    "collapsed": true,
    "jupyter": {
     "outputs_hidden": true
    }
   },
   "outputs": [
    {
     "name": "stdout",
     "output_type": "stream",
     "text": [
      "bash: this: command not found\n"
     ]
    },
    {
     "ename": "",
     "evalue": "127",
     "output_type": "error",
     "traceback": []
    }
   ],
   "source": [
    "this is an error in BASH"
   ]
  },
  {
   "cell_type": "markdown",
   "metadata": {},
   "source": [
    "That was an error. Now run the valid cell below:"
   ]
  },
  {
   "cell_type": "code",
   "execution_count": 4,
   "metadata": {},
   "outputs": [
    {
     "name": "stdout",
     "output_type": "stream",
     "text": [
      "this is not an error because 'echo' is a command\n"
     ]
    }
   ],
   "source": [
    "echo \"this is not an error because 'echo' is a command\""
   ]
  },
  {
   "cell_type": "markdown",
   "metadata": {},
   "source": [
    "## Concepts and Terminology\n",
    "\n",
    "- **Kernel**:\n",
    "    - Underlying program: BASH, R, python\n",
    "    - Runs input from code cells, output is inserted below the cell\n",
    "- **Actions in the Kernel Menu**\n",
    "    - *Interupt kernel*: halt execution of a cell - taking too long?\n",
    "    - *Restart kernel*: clear variables from memory.\n",
    "    - *Restart kernel and Clear Outputs of all Cells...*: clear variables from memory, remove output from code cells.\n",
    "- **Types of cells**\n",
    "    - *Code*: input for the kernel to run\n",
    "    - *Markdown*: Formatted text\n",
    "    - *Raw*: Displayed as-is "
   ]
  },
  {
   "cell_type": "code",
   "execution_count": null,
   "metadata": {},
   "outputs": [],
   "source": []
  }
 ],
 "metadata": {
  "kernelspec": {
   "display_name": "Custom Bash Environment",
   "language": "bash",
   "name": "conda_bash_kernel"
  },
  "language_info": {
   "codemirror_mode": "shell",
   "file_extension": ".sh",
   "mimetype": "text/x-sh",
   "name": "bash"
  }
 },
 "nbformat": 4,
 "nbformat_minor": 4
}
