{
 "cells": [
  {
   "cell_type": "markdown",
   "metadata": {},
   "source": [
    "## Follow along and execute the cells one at a time, filling in the blanks.\n",
    "\n",
    "These exercises will show the general form of a command and ask you to modify or replace the text to complete the question being asked."
   ]
  },
  {
   "cell_type": "markdown",
   "metadata": {},
   "source": [
    "## File/folder navigation"
   ]
  },
  {
   "cell_type": "markdown",
   "metadata": {},
   "source": [
    "##### **1) In the code cell below,** replace the `___`  in the command `cd ___` to get to your home directory.\n",
    "\n",
    "There may be more than one way to do this."
   ]
  },
  {
   "cell_type": "code",
   "execution_count": 1,
   "metadata": {},
   "outputs": [],
   "source": [
    "# complete the following command\n",
    "cd ~\n",
    "cd /home/haogg@colostate.edu"
   ]
  },
  {
   "cell_type": "code",
   "execution_count": 2,
   "metadata": {},
   "outputs": [
    {
     "name": "stdout",
     "output_type": "stream",
     "text": [
      "/home/haogg@colostate.edu\n"
     ]
    }
   ],
   "source": [
    "# run this to check that you're in the right place\n",
    "pwd"
   ]
  },
  {
   "cell_type": "markdown",
   "metadata": {},
   "source": [
    "##### **2) Change to your projects directory.** It has the form: `cd /projects/your_username`. David's is `/projects/dcking@colostate.edu`."
   ]
  },
  {
   "cell_type": "code",
   "execution_count": 3,
   "metadata": {},
   "outputs": [],
   "source": [
    "cd /projects/$USER\n",
    "cd /projects/haogg@colostate.edu"
   ]
  },
  {
   "cell_type": "code",
   "execution_count": 4,
   "metadata": {},
   "outputs": [
    {
     "name": "stdout",
     "output_type": "stream",
     "text": [
      "/projects/haogg@colostate.edu\n"
     ]
    }
   ],
   "source": [
    "# run this to check that you're in the right place\n",
    "pwd"
   ]
  },
  {
   "cell_type": "markdown",
   "metadata": {},
   "source": [
    "Rerun from **2)** if `pwd` doesn't show your projects directory. "
   ]
  },
  {
   "cell_type": "markdown",
   "metadata": {},
   "source": [
    "##### **3a)** Change to the course repo\n",
    "\n",
    "Provided you are in your projects directory, the class repository directory should exist. It is called *CM515-course-2025*"
   ]
  },
  {
   "cell_type": "code",
   "execution_count": 5,
   "metadata": {},
   "outputs": [],
   "source": [
    "cd CM515-course-2025"
   ]
  },
  {
   "cell_type": "code",
   "execution_count": 6,
   "metadata": {},
   "outputs": [
    {
     "name": "stdout",
     "output_type": "stream",
     "text": [
      "/scratch/alpine/haogg@colostate.edu/CM515/CM515-course-2025\n"
     ]
    }
   ],
   "source": [
    "pwd"
   ]
  },
  {
   "cell_type": "markdown",
   "metadata": {},
   "source": [
    "##### **3b)** Change directories to the module 07_Command_Line.\n",
    "\n",
    "<mark>Hint:</mark> *there is an intervening directory!* "
   ]
  },
  {
   "cell_type": "code",
   "execution_count": null,
   "metadata": {},
   "outputs": [],
   "source": [
    "# take a look at the files in your current directory\n",
    "ls"
   ]
  },
  {
   "cell_type": "code",
   "execution_count": 7,
   "metadata": {},
   "outputs": [
    {
     "name": "stdout",
     "output_type": "stream",
     "text": [
      "/scratch/alpine/haogg@colostate.edu/CM515/CM515-course-2025/modules\n"
     ]
    }
   ],
   "source": [
    "# change to the intervening directory\n",
    "cd modules\n",
    "pwd"
   ]
  },
  {
   "cell_type": "code",
   "execution_count": 8,
   "metadata": {},
   "outputs": [
    {
     "name": "stdout",
     "output_type": "stream",
     "text": [
      "/scratch/alpine/haogg@colostate.edu/CM515/CM515-course-2025/modules/07_Command_Line\n"
     ]
    }
   ],
   "source": [
    "# change to the Command line module (07...)\n",
    "cd 07_Command_Line\n",
    "pwd"
   ]
  },
  {
   "cell_type": "markdown",
   "metadata": {},
   "source": [
    "##### **3c)** Find the directory **animal-counts** and change to it\n",
    "\n",
    "Use `cd`, `ls`, `pwd` in the empty cell below to find and navigate to \"animal-counts\". "
   ]
  },
  {
   "cell_type": "code",
   "execution_count": 10,
   "metadata": {},
   "outputs": [
    {
     "name": "stdout",
     "output_type": "stream",
     "text": [
      "animals.csv\n",
      "/scratch/alpine/haogg@colostate.edu/CM515/CM515-course-2025/modules/07_Command_Line/shell-lesson-data/exercise-data/animal-counts\n"
     ]
    }
   ],
   "source": [
    "cd shell-lesson-data/exercise-data/animal-counts\n",
    "ls\n",
    "pwd"
   ]
  },
  {
   "cell_type": "markdown",
   "metadata": {},
   "source": [
    "Check that you're in the right directory using `pwd` and `ls`. There should be a file there called *animals.csv*.\n",
    "\n",
    "<mark>Make sure you're in this directory before proceeding to the next section!</mark>"
   ]
  },
  {
   "cell_type": "markdown",
   "metadata": {},
   "source": [
    "---"
   ]
  },
  {
   "cell_type": "markdown",
   "metadata": {},
   "source": [
    "## Working with tabular files\n",
    "\n",
    "You must be in *07_Command_Line/ ... /animal-counts* to proceed. *...* means intervening directories.\n",
    "\n",
    "### File format\n",
    "\n",
    "Tabular files have a regular, columnar format and are ideally *tidy*, meaning that every column can be mapped to a variable. In this section, we will explore a *csv*, which stands for **comma-separated values.**"
   ]
  },
  {
   "cell_type": "code",
   "execution_count": 11,
   "metadata": {},
   "outputs": [
    {
     "name": "stdout",
     "output_type": "stream",
     "text": [
      "animals.csv\n"
     ]
    }
   ],
   "source": [
    "# confirm that you have animals.csv\n",
    "ls animals.csv"
   ]
  },
  {
   "cell_type": "markdown",
   "metadata": {},
   "source": [
    "If you got a pink error that says *ls: cannot access 'animals.csv': No such file or directory*, go back to 3c in the previous section."
   ]
  },
  {
   "cell_type": "markdown",
   "metadata": {},
   "source": [
    "### **1) use various commands** get information about the file\n",
    "\n",
    "To get more information about how to use a command, use `man command`. For example, to learn the usage for the word count program, do `man wc` in a terminal or code cell."
   ]
  },
  {
   "cell_type": "code",
   "execution_count": 12,
   "metadata": {},
   "outputs": [
    {
     "name": "stdout",
     "output_type": "stream",
     "text": [
      "2012-11-05,deer,5\n",
      "2012-11-05,rabbit,22\n",
      "2012-11-05,raccoon,7\n",
      "2012-11-06,rabbit,19\n",
      "2012-11-06,deer,2\n",
      "2012-11-06,fox,4\n",
      "2012-11-07,rabbit,16\n",
      "2012-11-07,bear,1\n"
     ]
    }
   ],
   "source": [
    "# get the first 10 lines of animals.csv. Hint: this command is the same as in R\n",
    "head animals.csv"
   ]
  },
  {
   "cell_type": "markdown",
   "metadata": {},
   "source": [
    "Why didn't we get 10 lines?"
   ]
  },
  {
   "cell_type": "code",
   "execution_count": 13,
   "metadata": {},
   "outputs": [
    {
     "name": "stdout",
     "output_type": "stream",
     "text": [
      "8 animals.csv\n"
     ]
    }
   ],
   "source": [
    "# get the number of lines by using an option/argument to the command 'wc'. Replace '__' with the argument.\n",
    "wc -l animals.csv"
   ]
  },
  {
   "cell_type": "markdown",
   "metadata": {},
   "source": [
    "### 2) Extracting columns\n",
    "\n",
    "This section will demonstrate how you work with columnar files on the command line. This has similarities to R, but also differs in significant ways."
   ]
  },
  {
   "cell_type": "markdown",
   "metadata": {},
   "source": [
    "#### Extract the animal name.\n",
    "\n",
    "We'll use `cut` to get a the second column of a csv, but we have to look at parameters."
   ]
  },
  {
   "cell_type": "markdown",
   "metadata": {},
   "source": [
    "##### `cut` usage message\n",
    "\n",
    "Here is some truncated output from running `cut --help`\n",
    "\n",
    "```\n",
    "Usage: cut OPTION... [FILE]...\n",
    "Print selected parts of lines from each FILE to standard output.\n",
    "\n",
    "With no FILE, or when FILE is -, read standard input.\n",
    "\n",
    "Mandatory arguments to long options are mandatory for short options too.\n",
    "  -b, --bytes=LIST        select only these bytes\n",
    "  -c, --characters=LIST   select only these characters\n",
    "  -d, --delimiter=DELIM   use DELIM instead of TAB for field delimiter\n",
    "  -f, --fields=LIST       select only these fields;  also print any line\n",
    "                            that contains no delimiter character, unless\n",
    "                            the -s option is specified\n",
    "  -n                      with -b: don't split multibyte characters\n",
    "      --complement        complement the set of selected bytes, characters\n",
    "                            or fields\n",
    "  -s, --only-delimited    do not print lines not containing delimiters\n",
    "      --output-delimiter=STRING  use STRING as the output delimiter\n",
    "                            the default is to use the input delimiter\n",
    "  -z, --zero-terminated    line delimiter is NUL, not newline\n",
    "      --help     display this help and exit\n",
    "      --version  output version information and exit\n",
    "```\n",
    "\n",
    "We need to change the deliminator (*delim*) to a comma.\n",
    "\n",
    "`-d, --delimiter=DELIM   use DELIM instead of TAB for field delimiter`"
   ]
  },
  {
   "cell_type": "markdown",
   "metadata": {},
   "source": [
    "&nbsp;\n",
    "\n",
    "Let's use the long form the the parameters, (double dashes), to make our work more explicitly readable.\n",
    "\n",
    "&nbsp;"
   ]
  },
  {
   "cell_type": "code",
   "execution_count": 14,
   "metadata": {},
   "outputs": [
    {
     "name": "stdout",
     "output_type": "stream",
     "text": [
      "deer\n",
      "rabbit\n",
      "raccoon\n",
      "rabbit\n",
      "deer\n",
      "fox\n",
      "rabbit\n",
      "bear\n"
     ]
    }
   ],
   "source": [
    "cut --delimiter=, --fields=2 animals.csv"
   ]
  },
  {
   "cell_type": "markdown",
   "metadata": {},
   "source": [
    "&nbsp;\n",
    "\n",
    "You can use the shorter form of the command for brevity. E.g. `-d` instead of `--delimiter=`\n",
    "\n",
    "&nbsp;"
   ]
  },
  {
   "cell_type": "code",
   "execution_count": 15,
   "metadata": {},
   "outputs": [
    {
     "name": "stdout",
     "output_type": "stream",
     "text": [
      "deer\n",
      "rabbit\n",
      "raccoon\n",
      "rabbit\n",
      "deer\n",
      "fox\n",
      "rabbit\n",
      "bear\n"
     ]
    }
   ],
   "source": [
    "cut -d, -f2 animals.csv"
   ]
  },
  {
   "cell_type": "markdown",
   "metadata": {},
   "source": [
    "##### What questions can we answer with pipes?\n",
    "\n",
    "Using `sort`, and `uniq`, we can see : \n",
    "- how many different days were recorded, and \n",
    "- how many different animals."
   ]
  },
  {
   "cell_type": "code",
   "execution_count": 16,
   "metadata": {},
   "outputs": [
    {
     "name": "stdout",
     "output_type": "stream",
     "text": [
      "      1 bear\n",
      "      2 deer\n",
      "      1 fox\n",
      "      3 rabbit\n",
      "      1 raccoon\n"
     ]
    }
   ],
   "source": [
    "cut -d, -f2 animals.csv | sort | uniq -c"
   ]
  },
  {
   "cell_type": "markdown",
   "metadata": {},
   "source": [
    "&nbsp;\n",
    "\n",
    "Now, complete the `fields` argument to count the number of observations taken on each day.\n",
    "\n",
    "&nbsp;"
   ]
  },
  {
   "cell_type": "code",
   "execution_count": 17,
   "metadata": {},
   "outputs": [
    {
     "name": "stdout",
     "output_type": "stream",
     "text": [
      "      3 2012-11-05\n",
      "      3 2012-11-06\n",
      "      2 2012-11-07\n"
     ]
    }
   ],
   "source": [
    "cut --delimiter=, --fields=1  animals.csv | sort | uniq -c"
   ]
  },
  {
   "cell_type": "markdown",
   "metadata": {},
   "source": [
    "##### Selecting more than one column"
   ]
  },
  {
   "cell_type": "code",
   "execution_count": 22,
   "metadata": {},
   "outputs": [
    {
     "name": "stdout",
     "output_type": "stream",
     "text": [
      "2012-11-05,5\n",
      "2012-11-05,22\n",
      "2012-11-05,7\n",
      "2012-11-06,19\n",
      "2012-11-06,2\n",
      "2012-11-06,4\n",
      "2012-11-07,16\n",
      "2012-11-07,1\n"
     ]
    }
   ],
   "source": [
    "# date and count\n",
    "cut -f1,3 -d, animals.csv"
   ]
  },
  {
   "cell_type": "code",
   "execution_count": 19,
   "metadata": {},
   "outputs": [
    {
     "name": "stdout",
     "output_type": "stream",
     "text": [
      "2012-11-05,deer\n",
      "2012-11-05,rabbit\n",
      "2012-11-05,raccoon\n",
      "2012-11-06,rabbit\n",
      "2012-11-06,deer\n",
      "2012-11-06,fox\n",
      "2012-11-07,rabbit\n",
      "2012-11-07,bear\n",
      "deer,5\n",
      "rabbit,22\n",
      "raccoon,7\n",
      "rabbit,19\n",
      "deer,2\n",
      "fox,4\n",
      "rabbit,16\n",
      "bear,1\n"
     ]
    }
   ],
   "source": [
    "# there are two more pairwise combinations: date and animal, animal and count specify them below:\n",
    "\n",
    "# date and animal\n",
    "cut --fields=1,2 --delimiter=, animals.csv\n",
    "\n",
    "# animal and count\n",
    "cut --fields=2,3 --delimiter=, animals.csv"
   ]
  },
  {
   "cell_type": "markdown",
   "metadata": {},
   "source": [
    "**Things to note.**\n",
    "\n",
    "- The order of the dash arguments doesn't matter\n",
    "- output has the same delimiter as input"
   ]
  },
  {
   "cell_type": "markdown",
   "metadata": {},
   "source": [
    "**Pitfalls, dealing with errors**\n",
    "\n",
    "What happens if you forget the input file? ***animals.csv***  <br> The kernel will hang because it's waiting for input you didn't supply *(and will not be able to in jupyter notebooks)*. \n",
    "\n",
    "Get ready to **interupt the kernel** by: \n",
    "1. going to the menu at the top, \n",
    "2. selecting *Kernel* between *Run* and *Tabs* and then \n",
    "3. selecting the first option. *Interupt Kernel*. \n",
    "\n",
    "Shortcut is just typing *i,i*."
   ]
  },
  {
   "cell_type": "code",
   "execution_count": 23,
   "metadata": {},
   "outputs": [
    {
     "name": "stdout",
     "output_type": "stream",
     "text": [
      "\n"
     ]
    }
   ],
   "source": [
    "# animals.csv is omitted on purpose to show what happens if the command is waiting for input\n",
    "# interupt the kernel to get out of it\n",
    "cut -d, -f1 | sort | uniq -c"
   ]
  },
  {
   "cell_type": "markdown",
   "metadata": {},
   "source": [
    "### 3) Find the mistake!\n",
    "\n",
    "This section will give you some practice on \n",
    "- fixing errors, \n",
    "- correcting missing or incomplete syntax/commands. \n",
    "- troubleshooting arguments to commands\n",
    "\n",
    "The objective is to get some practice troubleshooting different aspects of code."
   ]
  },
  {
   "cell_type": "code",
   "execution_count": 27,
   "metadata": {},
   "outputs": [
    {
     "name": "stdout",
     "output_type": "stream",
     "text": [
      "/scratch/alpine/haogg@colostate.edu/CM515/CM515-course-2025/modules/07_Command_Line\n"
     ]
    }
   ],
   "source": [
    "cd /projects/$USER/CM515-course/modules/07_Command_Line"
   ]
  },
  {
   "cell_type": "code",
   "execution_count": 28,
   "metadata": {},
   "outputs": [],
   "source": [
    "cd shell-lesson-data                         # Get to the data from module 07"
   ]
  },
  {
   "cell_type": "code",
   "execution_count": 33,
   "metadata": {},
   "outputs": [
    {
     "name": "stdout",
     "output_type": "stream",
     "text": [
      "==> north-pacific-gyre/NENE01971Z.txt <==\n",
      "0.0618278658331\n",
      "7.58624853182\n",
      "2.3584281401\n",
      "2.59023630985\n",
      "1.63700034981\n",
      "0.369828482931\n",
      "1.20260030361\n",
      "0.116916208855\n",
      "1.73621570441\n",
      "0.0403725346637\n",
      "\n",
      "==> north-pacific-gyre/NENE02040Z.txt <==\n",
      "0.013313093923\n",
      "0.317908185157\n",
      "0.077246965355\n",
      "1.08844951058\n",
      "0.217470543005\n",
      "0.11804743938\n",
      "0.373768771019\n",
      "0.888126185356\n",
      "0.857964712204\n",
      "1.2948587718\n"
     ]
    }
   ],
   "source": [
    "head north-pacific-gyre/NENE0*Z.txt         # Get the first 10 lines of data files that end in Z.txt "
   ]
  },
  {
   "cell_type": "code",
   "execution_count": 34,
   "metadata": {},
   "outputs": [
    {
     "name": "stdout",
     "output_type": "stream",
     "text": [
      "1.03150932862\n",
      "1.44755225695\n"
     ]
    }
   ],
   "source": [
    "head -n 2 north-pacific-gyre/NENE01729A.txt  # Go to Kernel->Interrupt Kernel if you run this unchanged"
   ]
  },
  {
   "cell_type": "code",
   "execution_count": 35,
   "metadata": {},
   "outputs": [],
   "source": [
    "touch newfile.txt                            # Make a new empty file"
   ]
  },
  {
   "cell_type": "code",
   "execution_count": 36,
   "metadata": {},
   "outputs": [],
   "source": [
    "mkdir my_directory                       # Make a new empty directory"
   ]
  },
  {
   "cell_type": "code",
   "execution_count": 37,
   "metadata": {},
   "outputs": [],
   "source": [
    "mv my_directory my_dir                  # Rename directory  "
   ]
  },
  {
   "cell_type": "code",
   "execution_count": 38,
   "metadata": {},
   "outputs": [],
   "source": [
    "mv newfile.txt my_dir                     # Move newfile.txt to my_dir"
   ]
  },
  {
   "cell_type": "code",
   "execution_count": 39,
   "metadata": {},
   "outputs": [],
   "source": [
    "mv my_dir/newfile.txt .                     # Move newfile.txt back to the current directory"
   ]
  }
 ],
 "metadata": {
  "kernelspec": {
   "display_name": "Bash",
   "language": "bash",
   "name": "bash"
  },
  "language_info": {
   "codemirror_mode": "shell",
   "file_extension": ".sh",
   "mimetype": "text/x-sh",
   "name": "bash"
  }
 },
 "nbformat": 4,
 "nbformat_minor": 4
}
