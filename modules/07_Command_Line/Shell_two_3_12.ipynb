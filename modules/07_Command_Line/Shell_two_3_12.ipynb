{
 "cells": [
  {
   "cell_type": "markdown",
   "id": "70fd06db-dbf9-4555-8b7c-864eb0335cb2",
   "metadata": {},
   "source": [
    "# Working With Files and Directories\n",
    "\n",
    "## Creating directories\n",
    "We now know how to explore files and directories, but how do we create them in the first place?\n",
    "\n",
    "In this episode we will learn about creating and moving files and directories, using the **exercise-data/writing** directory as an example.\n",
    "\n",
    "### Step one: see where we are and what we already have\n",
    "We should still be in the shell-lesson-data directory in our projects folder, which we can check using:"
   ]
  },
  {
   "cell_type": "code",
   "execution_count": null,
   "id": "249aba33-bf8e-47a1-b434-fda3e6f2ac3f",
   "metadata": {},
   "outputs": [],
   "source": [
    "pwd"
   ]
  },
  {
   "cell_type": "markdown",
   "id": "44abec1b-42fa-4ce0-be32-4cf1934e9c34",
   "metadata": {},
   "source": [
    "Next we’ll move to the **exercise-data/writing** directory and see what it contains:"
   ]
  },
  {
   "cell_type": "code",
   "execution_count": null,
   "id": "3d3aaa20-ec6f-4896-a5db-3657b4f7e11f",
   "metadata": {},
   "outputs": [],
   "source": [
    "cd exercise-data/writing/"
   ]
  },
  {
   "cell_type": "code",
   "execution_count": null,
   "id": "1bc16748-5e29-47eb-83be-f977ccb85b69",
   "metadata": {},
   "outputs": [],
   "source": [
    "ls -F"
   ]
  },
  {
   "cell_type": "markdown",
   "id": "3fc953e1-bf87-4875-be16-7a2dd6bc8672",
   "metadata": {},
   "source": [
    "### Create a directory\n",
    "\n",
    "Let’s create a new directory called thesis using the command mkdir thesis (which has no output):"
   ]
  },
  {
   "cell_type": "code",
   "execution_count": null,
   "id": "245730bc-766d-42d2-9722-226c9f380956",
   "metadata": {},
   "outputs": [],
   "source": [
    "mkdir thesis"
   ]
  },
  {
   "cell_type": "markdown",
   "id": "fadb5bcc-aa46-4499-8199-5a5166b7325e",
   "metadata": {},
   "source": [
    "As you might guess from its name, <mark>mkdir</mark> means ‘make directory’. Since **thesis** is a relative path (i.e., does not have a leading slash, like **/what/ever/thesis**), the new directory is created in the current working directory:\n"
   ]
  },
  {
   "cell_type": "code",
   "execution_count": null,
   "id": "4fc68cea-becf-4690-b553-74c36778ebc2",
   "metadata": {},
   "outputs": [],
   "source": [
    "ls -F"
   ]
  },
  {
   "cell_type": "markdown",
   "id": "5fdac545-892c-48d5-8ce9-88c159b19205",
   "metadata": {},
   "source": [
    "Since we’ve just created the **thesis** directory, there’s nothing in it yet:"
   ]
  },
  {
   "cell_type": "code",
   "execution_count": null,
   "id": "bd27a45c-db30-43a5-83bf-49f7085cd391",
   "metadata": {},
   "outputs": [],
   "source": [
    "ls -F thesis"
   ]
  },
  {
   "cell_type": "markdown",
   "id": "6c21cc81-5771-49d0-8807-17f127a4320f",
   "metadata": {},
   "source": [
    "Note that **mkdir** is not limited to creating single directories one at a time. The **-p** option allows **mkdir** to create a directory with nested subdirectories in a single operation:"
   ]
  },
  {
   "cell_type": "code",
   "execution_count": null,
   "id": "5f46d183-1be8-46ad-a4c1-43cc0202cb88",
   "metadata": {},
   "outputs": [],
   "source": [
    "mkdir -p ../project/data ../project/results"
   ]
  },
  {
   "cell_type": "markdown",
   "id": "faf170fe-d8ca-4d2f-9893-e83787d0a21c",
   "metadata": {},
   "source": [
    "The **-R** option to the **ls** command will list all nested subdirectories within a directory. Let’s use **ls -FR** to recursively list the new directory hierarchy we just created in the **project** directory:"
   ]
  },
  {
   "cell_type": "code",
   "execution_count": null,
   "id": "4a9ce44e-3e8e-4968-9a87-a3d5296c6310",
   "metadata": {},
   "outputs": [],
   "source": [
    "ls -FR ../project"
   ]
  },
  {
   "cell_type": "markdown",
   "id": "dd2db432",
   "metadata": {},
   "source": [
    "### *Starting Point 3_11_25*"
   ]
  },
  {
   "cell_type": "markdown",
   "id": "34b759ab",
   "metadata": {},
   "source": [
    "Last time, we learned a few commands and small pieces of information about the bash shell. We learned the format of bash commands\n",
    "\n",
    "![image](./images/shell_command_syntax.svg)\n",
    "\n",
    "\n",
    "We discovered a few of the most common commands.\n",
    "\n",
    "- What can we use to print the current directory?\n",
    "- What can we use to list the files in a directory?\n",
    "- How can I move into the parent directory (the directory that contains my current directory)?\n",
    "- What is the symbol used to refer to \n",
    "\n",
    "\n",
    "We also saw a symbols that refer to specific locations.\n",
    "\n",
    "- What symbol respresents our home directory?\n",
    "- What about our current directory? "
   ]
  },
  {
   "cell_type": "markdown",
   "id": "91aa5eb8",
   "metadata": {},
   "source": [
    "Let's move back into our \"writing\" directory. From 07_Command_Line, the relative path is shell-lesson-data/exercise-data/writing/. But we may be starting somewhere completely different. To move using the absolute path instead..."
   ]
  },
  {
   "cell_type": "code",
   "execution_count": null,
   "id": "c9be73f3",
   "metadata": {},
   "outputs": [],
   "source": [
    "cd /projects/$USER/CM515-course-2025/modules/07_Command_Line/shell-lesson-data/exercise-data/writing"
   ]
  },
  {
   "cell_type": "markdown",
   "id": "d1c5926f-ebbd-408f-81eb-ea43178c2013",
   "metadata": {},
   "source": [
    "### *Two ways of doing the same thing*\n",
    "\n",
    "Using the shell to create a directory is no different than using a file explorer. If you open the current directory using your operating system’s graphical file explorer, the **thesis** directory will appear there too. While the shell and the file explorer are two different ways of interacting with the files, the files and directories themselves are the same.\n",
    "\n",
    "### *Good names for files and directories*\n",
    "Complicated names of files and directories can make your life painful when working on the command line. Here we provide a few useful tips for the names of your files and directories.\n",
    "\n",
    "* **Don’t use spaces.**  &nbsp;&nbsp;&nbsp;&nbsp;Spaces can make a name more meaningful, but since spaces are used to separate arguments on the command line it is better to avoid them in names of files and directories. You can use **-** or **_** instead (e.g. **north-pacific-gyre/** rather than **north pacific gyre/**). To test this out, try typing **mkdir north pacific gyre** and see what directory (or directories!) are made when you check with **ls -F**.\n",
    "\n",
    "* Don’t begin the name with **-** (dash).\n",
    " \n",
    "* Commands treat names starting with **-** as options.\n",
    "\n",
    "* Stick with letters, numbers, **.** (period or ‘full stop’), **-** (dash) and **_** (underscore).\n",
    "\n",
    "* **No Special Characters**  &nbsp;&nbsp;&nbsp;&nbsp;Many other characters have special meanings on the command line. We will learn about some of these during this lesson. There are special characters that can cause your command to not work as expected and can even result in data loss.\n",
    "\n",
    "* If you need to refer to names of files or directories that have spaces or other special characters, you should surround the name in quotes (**\"\"**).\n",
    "\n",
    "## Create a text file\n",
    "\n",
    "### *Which Editor?*\n",
    "\n",
    "**Nano is a text editor**  &nbsp;&nbsp;&nbsp;&nbsp;\n",
    "\n",
    "When we say, ‘nano is a text editor’ we really do mean ‘text’. It can only work with plain character data, not tables, images, or any other human-friendly media. We use it in examples because it is one of the least complex text editors. However, because of this trait, it may not be powerful enough or flexible enough for the work you need to do after this workshop. On Unix systems (such as Linux and macOS), many programmers use Emacs or Vim (both of which require more time to learn), or a graphical editor such as Gedit or VScode. On Windows, you may wish to use Notepad++. Windows also has a built-in editor called notepad that can be run from the command line in the same way as nano for the purposes of this lesson. \n",
    "\n",
    "![image](./images/VIMCheat.png)\n",
    "\n",
    "\n",
    "\n",
    "**Windows and Unix Have Different End of Lines**\n",
    "\n",
    "Be aware that Windows text editors will often add a carriage return character (\\r) in addition to a newline (\\n). This means files created in Windows may not work for Unix programs!\n",
    "\n",
    "*No matter what editor you use, you will need to know where it searches for and saves files. If you start it from the shell, it will (probably) use your current working directory as its default location. If you use your computer’s start menu, it may want to save files in your Desktop or Documents directory instead. You can change this by navigating to another directory the first time you ‘Save As…’*\n",
    "\n",
    "*In Alpine, we will typically save files in a folder in either our home directory (for a smaller files) or the projects directory (once you move on to larger tasks or research projects). What symbol do we use to refer to our home directory again?*\n",
    "\n",
    "### Using Nano\n",
    "\n",
    "Let’s change our working directory to **thesis** using **cd**, then run a text editor called Nano to create a file called **draft.txt**:"
   ]
  },
  {
   "cell_type": "code",
   "execution_count": null,
   "id": "bce6bf74-3b70-4cc3-bcb8-c51c18a578ef",
   "metadata": {},
   "outputs": [],
   "source": [
    "cd thesis\n",
    "nano draft.txt"
   ]
  },
  {
   "cell_type": "markdown",
   "id": "cd329797-6764-475e-be73-8e1f36da7e3c",
   "metadata": {},
   "source": [
    "Let’s type in a few lines of text.\n",
    "\n",
    "![image](./images/nano.png)\n",
    "\n",
    "Once we’re happy with our text, we can press **Ctrl+O** (press the **Ctrl** or **Control** key and, while holding it down, press the O key) to write our data to disk. We will be asked to provide a name for the file that will contain our text. Press **Return** to accept the suggested default of draft.txt.\n",
    "\n",
    "Once our file is saved, we can use **Ctrl+X** to quit the editor and return to the shell.\n",
    "\n",
    "### *Control, Ctrl, or ^ Key*\n",
    "The Control key is also called the ‘Ctrl’ key. There are various ways in which using the Control key may be described. For example, you may see an instruction to press the **Control** key and, while holding it down, press the **X** key, described as any of:\n",
    "\n",
    "* Control-X\n",
    "* Control+X\n",
    "* Ctrl-X\n",
    "* Ctrl+X\n",
    "* ^X\n",
    "* C-x\n",
    "  \n",
    "In nano, along the bottom of the screen you’ll see **^G Get Help ^O WriteOut**. This means that you can use **Control-G** to get help and **Control-O** to save your file.\n",
    "\n",
    "**nano** doesn’t leave any output on the screen after it exits, but **ls** now shows that we have created a file called **draft.txt**:"
   ]
  },
  {
   "cell_type": "code",
   "execution_count": null,
   "id": "0553906e-3efa-4cba-a40d-250e9ff239f9",
   "metadata": {},
   "outputs": [],
   "source": [
    "ls"
   ]
  },
  {
   "cell_type": "markdown",
   "id": "d3a031b9-4f5a-4bc6-bc44-df3d1f413057",
   "metadata": {},
   "source": [
    "### *Creating Files a Different Way*\n",
    "\n",
    "We have seen how to create text files using the nano editor. Now, try the following command:"
   ]
  },
  {
   "cell_type": "code",
   "execution_count": null,
   "id": "0e4821c7-6aa5-4947-b97e-48e68ee0fa9d",
   "metadata": {},
   "outputs": [],
   "source": [
    "touch my_file.txt\n",
    "ls"
   ]
  },
  {
   "cell_type": "code",
   "execution_count": null,
   "id": "4694b8b2",
   "metadata": {},
   "outputs": [],
   "source": [
    "head my_file.txt"
   ]
  },
  {
   "cell_type": "markdown",
   "id": "05b678ee-ecea-4775-a45f-d180a8259b2d",
   "metadata": {},
   "source": [
    "**TOUCH**  &nbsp;&nbsp;&nbsp;&nbsp;The <mark>touch</mark> command generates a new file called **my_file.txt** in your current directory. You can observe this newly generated file by typing ls at the command line prompt. **my_file.txt** can also be viewed in your GUI file explorer.\n",
    "\n",
    "* When you inspect the file with **ls -l**, note that the size of **my_file.txt** is 0 bytes. In other words, it contains no data. If you open **my_file.txt** using your text editor it is blank.\n",
    "\n",
    "* Some programs do not generate output files themselves, but instead require that empty files have already been generated. When the program is run, it searches for an existing file to populate with its output. The touch command allows you to efficiently generate a blank text file to be used by such programs.\n",
    "\n",
    "* To avoid confusion later on, we suggest removing the file you’ve just created before proceeding with the rest of the episode, otherwise future outputs may vary from those given in the lesson. To do this, use the following command:"
   ]
  },
  {
   "cell_type": "code",
   "execution_count": null,
   "metadata": {},
   "outputs": [],
   "source": [
    "rm my_file.txt\n",
    "ls"
   ]
  },
  {
   "cell_type": "markdown",
   "id": "afbb60ec-2a3f-486f-8f1e-c5cfbe8096a5",
   "metadata": {},
   "source": [
    "### *What's in a name?*\n",
    "\n",
    "**FILE EXTENSIONS**  &nbsp;&nbsp;&nbsp;&nbsp;You may have noticed that all of Nelle’s files are named ‘something dot something’, and in this part of the lesson, we always used the extension **.txt**. This is just a convention; we can call a file **mythesis** or almost anything else we want. However, most people use two-part names most of the time to help them (and their programs) tell different kinds of files apart. The second part of such a name is called the filename extension and indicates what type of data the file holds: **.txt** signals a plain text file, **.pdf** indicates a PDF document, **.cfg** is a configuration file full of parameters for some program or other, **.png** is a PNG image, and so on.\n",
    "\n",
    "This is just a convention, albeit an important one. Files merely contain bytes; it’s up to us and our programs to interpret those bytes according to the rules for plain text files, PDF documents, configuration files, images, and so on.\n",
    "\n",
    "Naming a PNG image of a whale as **whale.mp3** doesn’t somehow magically turn it into a recording of whale song, though it might cause the operating system to associate the file with a music player program. In this case, if someone double-clicked **whale.mp3** in a file explorer program,the music player will automatically (and erroneously) attempt to open the **whale.mp3** file.\n",
    "\n",
    "As you may have learned at this point, there are two types of files: binary files and text files. We can work with both, but bash has a lot of tools that allow text file manipulation. **This is why many bioinformatic file types are plain text!**\n",
    "\n",
    "## Moving Files and Directories\n",
    "Let us returning to the **shell-lesson-data/exercise-data/writing** directory, the parent directory. How do we get there again?"
   ]
  },
  {
   "cell_type": "code",
   "execution_count": null,
   "id": "bc2123e2-c3c5-4c45-9cb6-1ac7a3a4b00d",
   "metadata": {},
   "outputs": [],
   "source": [
    "cd "
   ]
  },
  {
   "cell_type": "markdown",
   "id": "f0c82457-d7f0-4556-80bf-d145accc54fd",
   "metadata": {},
   "source": [
    "In our **thesis** directory we have a file **draft.txt** which isn’t a particularly informative name, so let’s change the file’s name using <mark>mv</mark>, which is short for ‘move’:"
   ]
  },
  {
   "cell_type": "code",
   "execution_count": null,
   "id": "25b4d4c7-5ba9-4235-815e-e11a93c9aa2d",
   "metadata": {},
   "outputs": [],
   "source": [
    "mv thesis/draft.txt thesis/quotes.txt"
   ]
  },
  {
   "cell_type": "markdown",
   "id": "bef5f71b-2dd4-4263-8f22-73e2c26992e8",
   "metadata": {},
   "source": [
    "The first argument tells **mv** what we’re ‘moving’, while the second is where it’s to go. In this case, we’re moving **thesis/draft.txt** to **thesis/quotes.txt**, which has the same effect as renaming the file. Sure enough, **ls** shows us that thesis now contains one file called **quotes.txt**:"
   ]
  },
  {
   "cell_type": "code",
   "execution_count": null,
   "id": "8da03dea-2f53-4b12-965d-aa7c8a1d9555",
   "metadata": {},
   "outputs": [],
   "source": [
    "ls thesis"
   ]
  },
  {
   "cell_type": "markdown",
   "id": "a513ce03-c0c0-49ad-a47a-72c96c464758",
   "metadata": {},
   "source": [
    "One must be careful when specifying the target file name, since **mv** will silently overwrite any existing file with the same name, which could lead to data loss. By default, mv will not ask for confirmation before overwriting files. However, an additional option, **mv -i** (or **mv --interactive**), will cause **mv** to request such confirmation.\n",
    "\n",
    "Note that **mv** also works on directories.\n",
    "\n",
    "Let’s move **quotes.txt** into the current working directory. We use **mv** once again, but this time we’ll use just the name of a directory as the second argument to tell **mv** that we want to keep the filename but put the file somewhere new. (This is why the command is called ‘move’.) In this case, the directory name we use is the special directory name **.** that we mentioned earlier."
   ]
  },
  {
   "cell_type": "code",
   "execution_count": null,
   "id": "f502101c-1b43-4353-acff-9f84c5212a70",
   "metadata": {},
   "outputs": [],
   "source": [
    "mv thesis/quotes.txt ."
   ]
  },
  {
   "cell_type": "markdown",
   "id": "4615247a-1b91-4671-abda-5c1ed0ef0578",
   "metadata": {},
   "source": [
    "The effect is to move the file from the directory it was in to the current working directory. **ls** now shows us that **thesis** is empty:"
   ]
  },
  {
   "cell_type": "code",
   "execution_count": null,
   "id": "6adeebf7-def7-4cc3-ac96-48f7c2bcfb63",
   "metadata": {},
   "outputs": [],
   "source": [
    "ls thesis"
   ]
  },
  {
   "cell_type": "markdown",
   "id": "a4d99567-3aac-4f91-b224-6ddc471af94f",
   "metadata": {},
   "source": [
    "Alternatively, we can confirm the file **quotes.txt** is no longer present in the **thesis** directory by explicitly trying to list it:"
   ]
  },
  {
   "cell_type": "code",
   "execution_count": null,
   "id": "3aa35e79-a650-4f05-a30e-8cc07ba4888e",
   "metadata": {},
   "outputs": [],
   "source": [
    "ls thesis/quotes.txt"
   ]
  },
  {
   "cell_type": "markdown",
   "id": "c45016ad-e91c-495a-97de-561344e9accb",
   "metadata": {},
   "source": [
    "**ls** with a filename or directory as an argument only lists the requested file or directory. If the file given as the argument doesn’t exist, the shell returns an error as we saw above. We can use this to see that **quotes.txt** is now present in our current directory:"
   ]
  },
  {
   "cell_type": "code",
   "execution_count": null,
   "id": "58cf2d4d-46f8-4829-b998-4baacea5a67b",
   "metadata": {},
   "outputs": [],
   "source": [
    "ls quotes.txt"
   ]
  },
  {
   "cell_type": "markdown",
   "id": "458d4bb9-b1e8-4b68-82c7-747262309bc3",
   "metadata": {},
   "source": [
    "## Copying files and directories\n",
    "\n",
    "The <mark>cp</mark> command works very much like **mv**, except it copies a file instead of moving it. We can check that it did the right thing using **ls** with two paths as arguments — like most Unix commands, **ls** can be given multiple paths at once:\n"
   ]
  },
  {
   "cell_type": "code",
   "execution_count": null,
   "id": "27ae1c48-c51a-4b26-9455-04af41066fb8",
   "metadata": {},
   "outputs": [],
   "source": [
    "cp quotes.txt thesis/quotations.txt\n",
    "ls quotes.txt thesis/quotations.txt"
   ]
  },
  {
   "cell_type": "markdown",
   "id": "187ab88f-7bb5-4f77-b72d-6f889a8dc07a",
   "metadata": {},
   "source": [
    "We can also copy a directory and all its contents by using the **recursive** option **-r**, e.g. to back up a directory:"
   ]
  },
  {
   "cell_type": "code",
   "execution_count": null,
   "id": "47354c93-90a0-4f7b-aad9-f033973fcdd4",
   "metadata": {},
   "outputs": [],
   "source": [
    "cp -r thesis thesis_backup"
   ]
  },
  {
   "cell_type": "markdown",
   "id": "cee663e8-2faf-4168-9cf5-841356050c3f",
   "metadata": {},
   "source": [
    "We can check the result by listing the contents of both the **thesis** and **thesis_backup** directory:"
   ]
  },
  {
   "cell_type": "code",
   "execution_count": null,
   "id": "d737536d-b745-45ab-8924-ed538375b5e4",
   "metadata": {},
   "outputs": [],
   "source": [
    "ls thesis thesis_backup"
   ]
  },
  {
   "cell_type": "markdown",
   "id": "c0b49e0e",
   "metadata": {},
   "source": [
    "Suppose that you created a plain-text file in your current directory to contain a list of the statistical tests you will need to do to analyze your data, and named it statstics.txt\n",
    "\n",
    "After creating and saving this file you realize you misspelled the filename! You want to correct the mistake, which of the following commands could you use to do so?\n",
    "\n",
    "- cp statstics.txt statistics.txt\n",
    "- mv statstics.txt statistics.txt\n",
    "- mv statstics.txt .\n",
    "- cp statstics.txt ."
   ]
  },
  {
   "cell_type": "markdown",
   "id": "982b50da-f4c4-4e9f-ac02-ef1f2045c8eb",
   "metadata": {},
   "source": [
    "## Removing files and directories\n",
    "Returning to the **shell-lesson-data/exercise-data/writing** directory, let’s tidy up this directory by removing the **quotes.txt** file we created. The Unix command we’ll use for this is <mark>rm</mark> (short for ‘remove’):"
   ]
  },
  {
   "cell_type": "code",
   "execution_count": null,
   "id": "476504be-f1a1-4673-8ecd-27414e9ecbc3",
   "metadata": {},
   "outputs": [],
   "source": [
    "rm quotes.txt"
   ]
  },
  {
   "cell_type": "markdown",
   "id": "c9530f5c-9cc6-4d66-828f-8d327d951f08",
   "metadata": {},
   "source": [
    "We can confirm the file has gone using **ls**:"
   ]
  },
  {
   "cell_type": "code",
   "execution_count": null,
   "id": "056ada63-209c-43fd-adc0-9cb3f893cee1",
   "metadata": {},
   "outputs": [],
   "source": [
    "ls quotes.txt"
   ]
  },
  {
   "cell_type": "markdown",
   "id": "d1045376-2663-4556-93a8-8a7dada85689",
   "metadata": {},
   "source": [
    "### *IMPORTANT: Deleting is Forever*\n",
    "The Unix shell doesn’t have a trash bin that we can recover deleted files from (though most graphical interfaces to Unix do). Instead, when we delete files, they are unlinked from the file system so that their storage space on disk can be recycled. Tools for finding and recovering deleted files do exist, but there’s no guarantee they’ll work in any particular situation, since the computer may recycle the file’s disk space right away.\n",
    "\n",
    "### *Using rm Safely*\n",
    "What happens when we execute **rm -i thesis_backup/quotations.txt**? Why would we want this protection when using rm?"
   ]
  },
  {
   "cell_type": "code",
   "execution_count": null,
   "id": "5ef723ea-1868-4f6e-9243-8f38f47f7a3d",
   "metadata": {},
   "outputs": [],
   "source": [
    "rm -i thesis_backup/quotations.txt"
   ]
  },
  {
   "cell_type": "markdown",
   "id": "a7d0a8d2-37b1-41db-bccc-1482286de650",
   "metadata": {},
   "source": [
    "The **-i** option will prompt before (every) removal (use **Y** to confirm deletion or **N** to keep the file). The Unix shell doesn’t have a trash bin, so all the files removed will disappear forever. By using the **-i** option, we have the chance to check that we are deleting only the files that we want to remove."
   ]
  },
  {
   "cell_type": "markdown",
   "id": "315a3b40-5574-4b9b-8c68-9ca7dd522282",
   "metadata": {},
   "source": [
    "If we try to remove the **thesis** directory using **rm thesis**, we get an error message:"
   ]
  },
  {
   "cell_type": "code",
   "execution_count": null,
   "id": "3bbd31e7-eb40-46a8-8acf-1acd41bd2f63",
   "metadata": {},
   "outputs": [],
   "source": [
    "rm thesis"
   ]
  },
  {
   "cell_type": "markdown",
   "id": "747050be-29b0-4d0b-8b52-14d9bd7f7e96",
   "metadata": {},
   "source": [
    "This happens because **rm** by default only works on files, not directories.\n",
    "\n",
    "**rm** can remove a directory and all its contents if we use the recursive option **-r**, and it will do so *without any confirmation prompts*:\n",
    "\n",
    "Given that there is no way to retrieve files deleted using the shell, **rm -r** should be used with great caution (you might consider adding the interactive option **rm -r -i**).\n",
    "\n",
    "## Operations with multiple files and directories\n",
    "\n",
    "Oftentimes one needs to copy or move several files at once. This can be done by providing a list of individual filenames, or specifying a naming pattern using wildcards. Wildcards are special characters that can be used to represent unknown characters or sets of characters when navigating the Unix file system.\n",
    "\n",
    "### *Copy with Multiple File Names*\n",
    "\n",
    "For this exercise, you can test the commands in the shell-lesson-data/exercise-data directory.\n",
    "\n",
    "In the example below, what does cp do when given several filenames and a directory name?\n"
   ]
  },
  {
   "cell_type": "code",
   "execution_count": null,
   "id": "b0738109-35a9-4761-910d-faa2f5bcde7c",
   "metadata": {},
   "outputs": [],
   "source": [
    "mkdir backup\n",
    "$ cp creatures/minotaur.dat creatures/unicorn.dat backup/"
   ]
  },
  {
   "cell_type": "markdown",
   "id": "72704fd2-d501-464b-a5c5-6d7f25a2722c",
   "metadata": {},
   "source": [
    "If given more than one file name followed by a directory name (i.e. the destination directory must be the last argument), cp copies the files to the named directory."
   ]
  },
  {
   "cell_type": "code",
   "execution_count": null,
   "id": "cbb5602f-1618-45ff-bfe9-d0249f6b72de",
   "metadata": {},
   "outputs": [],
   "source": [
    "$ cp minotaur.dat unicorn.dat basilisk.dat"
   ]
  },
  {
   "cell_type": "markdown",
   "id": "caf3987b-da7f-4d6b-9ed1-948bcf6e38b9",
   "metadata": {},
   "source": [
    "If given three file names, cp throws an error such as the one below, because it is expecting a directory name as the last argument.\n",
    "\n",
    "### Using wildcards for accessing multiple files at once\n",
    "\n",
    "### *Wildcards*\n",
    "\n",
    "**\\*** is a <mark>wildcard</mark>, which represents zero or more other characters. Let’s consider the **shell-lesson-data/exercise-data/alkanes** directory: **\\*.pdb** represents **ethane.pdb**, **propane.pdb**, and every file that ends with ‘.pdb’. On the other hand, **p\\*.pdb** only represents pentane.pdb and propane.pdb, because the ‘p’ at the front can only represent filenames that begin with the letter ‘p’.\n",
    "\n",
    "**?** is also a wildcard, but it represents exactly one character. So **?ethane.pdb** could represent **methane.pdb** whereas **\\*ethane.pdb** represents both **ethane.pdb** and **methane.pdb**.\n",
    "\n",
    "Wildcards can be used in combination with each other. For example, **???ane.pdb** indicates three characters followed by **ane.pdb**, giving **cubane.pdb** **ethane.pdb** **octane.pdb**.\n",
    "\n",
    "When the shell sees a wildcard, it expands the wildcard to create a list of matching filenames before running the preceding command. As an exception, if a wildcard expression does not match any file, Bash will pass the expression as an argument to the command as it is. For example, typing **ls \\*.pdf** in the **alkanes** directory (which contains only files with names ending with **.pdb**) results in an error message that there is no file called **\\*.pdf**. However, generally commands like **wc** and **ls** see the lists of file names matching these expressions, but not the wildcards themselves. It is the shell, not the other programs, that expands the wildcards.\n",
    "\n",
    "### *List filenames matching a pattern*\n",
    "When run in the **alkanes** directory, which **ls** command(s) will produce this output?\n",
    "\n",
    "**ethane.pdb methane.pdb**\n",
    "\n",
    "1. **ls \\*t*ane.pdb**\n",
    "2. **ls \\*t?ne.\\***\n",
    "3. **ls \\*t??ne.pdb**\n",
    "4. **ls ethane.\\***\n",
    "\n",
    "## Key Points\n",
    "* **cp \\[old] \\[new]** copies a file.\n",
    "* **mkdir \\[path]** creates a new directory.\n",
    "* **mv \\[old] \\[new]** moves (renames) a file or directory.\n",
    "* **rm \\[path]** removes (deletes) a file.\n",
    "* **\\*** matches zero or more characters in a filename, so **\\*.txt** matches all files ending in **.txt**.\n",
    "* **?** matches any single character in a filename, so **?.txt** matches **a.txt** but not **any.txt**.\n",
    "* Use of the Control key may be described in many ways, including **Ctrl-X**, **Control-X**, and **^X**.\n",
    "* The shell does not have a trash bin: once something is deleted, it’s really gone.\n",
    "* Most files’ names are **something.extension**. The extension isn’t required, and doesn’t guarantee anything, but is normally used to indicate the type of data in the file.\n",
    "* Depending on the type of work you do, you may need a more powerful text editor than Nano."
   ]
  },
  {
   "cell_type": "code",
   "execution_count": null,
   "id": "ec7e6fb0-e165-4077-85c4-1c292b9f01f5",
   "metadata": {},
   "outputs": [],
   "source": []
  }
 ],
 "metadata": {
  "kernelspec": {
   "display_name": "Bash",
   "language": "bash",
   "name": "bash"
  },
  "language_info": {
   "codemirror_mode": "shell",
   "file_extension": ".sh",
   "mimetype": "text/x-sh",
   "name": "bash"
  }
 },
 "nbformat": 4,
 "nbformat_minor": 5
}
