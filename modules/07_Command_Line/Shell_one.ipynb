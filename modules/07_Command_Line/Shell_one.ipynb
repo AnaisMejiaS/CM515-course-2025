{
 "cells": [
  {
   "cell_type": "markdown",
   "id": "3cd78c3d-a0ac-40bf-98cd-ac4a1ec2fcad",
   "metadata": {},
   "source": [
    "# Setup: Download files\n",
    "You need to download some files to follow this lesson.\n",
    "1. Download [shell-lesson-data.zip](https://colorado-state-university-cmb.github.io/shell-novice/data/shell-lesson-data.zip) and move the file to your Desktop.\n",
    "2. Unzip/extract the file. **Let your instructor know if you need help with this step.** You should end up with a new folder called shell-lesson-data on your Desktop."
   ]
  },
  {
   "cell_type": "markdown",
   "id": "83fa8b28-68fb-4f14-866c-e59c2789c927",
   "metadata": {},
   "source": [
    "## To run a code cell\n",
    "\n",
    " 1. click next to the grey rectangular area to select it. A blue bar should appear to the left of the box, indicating that it is selected.\n",
    " 2. Type SHIFT-ENTER to run the cell.\n",
    " 3. The output of the command will appear below, along with a highlighted pink rectangle indicating the error code if one is generated.\n",
    "\n",
    "Try it below:"
   ]
  },
  {
   "cell_type": "code",
   "execution_count": null,
   "id": "39fbc1fb-4518-405e-b06b-92aaf26e95a2",
   "metadata": {},
   "outputs": [],
   "source": [
    "this is an error"
   ]
  },
  {
   "cell_type": "markdown",
   "id": "605580b2-16ae-47f2-9950-68c9f28539b1",
   "metadata": {},
   "source": [
    "---"
   ]
  },
  {
   "cell_type": "markdown",
   "id": "debe0d9d-0b6c-415d-815a-969e1bbe5f7b",
   "metadata": {},
   "source": [
    "# Introducing the Shell\n",
    "\n",
    "## Background\n",
    "Humans and computers commonly interact in many different ways, such as through a keyboard and mouse, touch screen interfaces, or using speech recognition systems. The most widely used way to interact with personal computers is called a **graphical user interface (GUI)**. With a GUI, we give instructions by clicking a mouse and using menu-driven interactions.\n",
    "\n",
    "### While the visual aid of a GUI makes it intuitive to learn, this way of delivering instructions to a computer scales very poorly. \n",
    "\n",
    "**Imagine the following task:** for a literature search, you have to \n",
    "\n",
    "- copy the third line of one thousand text files...\n",
    "- in one thousand different directories...\n",
    "- and paste it into a single file.\n",
    "   \n",
    "**Using a GUI, you would have to:**\n",
    " - be clicking at your desk for several hours,\n",
    " - visually keep track of file/folder names and loations organization\n",
    " - could potentially commit an error in the process of completing this repetitive task.\n",
    "\n",
    "**Using command line tools instead:** \n",
    "- The  shell is both a **command-line interface (CLI)** and a scripting language \n",
    "- allows  repetitive tasks to be done automatically and fast.\n",
    "- the shell can repeat tasks with or without some modification as many times as we want.\n",
    "\n",
    "Using the shell, the task in the literature example can be accomplished in seconds."
   ]
  },
  {
   "cell_type": "markdown",
   "id": "2d6c560e-5874-45ee-8ea3-80a5fb48e1c7",
   "metadata": {},
   "source": [
    "## The Shell\n",
    "\n",
    "**They keyboard is key** &nbsp;&nbsp;&nbsp;&nbsp;The shell is a program where users type commands instead of clicking.  With the shell, it’s possible to invoke complicated programs like climate modeling software or simple commands that create an empty directory with only one line of code. The most popular Unix shell is Bash (the Bourne Again SHell — so-called because it’s derived from a shell written by Stephen Bourne). *Bash is the default shell on most modern implementations of Unix and in most packages that provide Unix-like tools for Windows.*\n",
    "\n",
    "**Learning to leave the mouse** &nbsp;&nbsp;&nbsp;&nbsp;Using the shell will take some effort and some time to learn. While a GUI presents you with choices to select, CLI choices are not automatically presented to you, so you must learn a few commands like new vocabulary in a language you’re studying. However, unlike a spoken language, a small number of “words” (i.e. commands) gets you a long way, and we’ll cover those essential few today."
   ]
  },
  {
   "cell_type": "markdown",
   "id": "cebdd1c0-3679-4618-a6f3-ceab70bc5188",
   "metadata": {},
   "source": [
    "#### Syntax and grammar\n",
    "\n",
    "The grammar of a shell allows you to combine existing tools into powerful pipelines and handle large volumes of data automatically. Sequences of commands can be written into a script, improving the reproducibility of workflows."
   ]
  },
  {
   "cell_type": "markdown",
   "id": "a384e50c-774e-4e7d-a501-c1b66796d62c",
   "metadata": {},
   "source": [
    "#### The shell is accessed through a special program on your computer:\n",
    "- Macs - Terminal.app\n",
    "- Windows- Cygwin or the Windows Linux Subsystem.\n",
    "- <mark>Jupyter- Kernel</mark>. The jupyter code cells send commands to the kernel and insert the output into the notebook.\n",
    "\n",
    "\n",
    "#### Accessing remote servers like Alpine, Riviera, etc.\n",
    "In addition, the command line is often the easiest way to interact with remote machines and supercomputers. Familiarity with the shell is near essential to run a variety of specialized tools and resources including high-performance computing systems. As clusters and cloud computing systems become more popular for scientific data crunching, being able to interact with the shell is becoming a necessary skill. We can build on the command-line skills covered here to tackle a wide range of scientific questions and computational challenges.\n",
    "\n"
   ]
  },
  {
   "cell_type": "markdown",
   "id": "3d724872-d9a6-4d01-b792-42a33f97567f",
   "metadata": {},
   "source": [
    "#### The shell is accessed through a special program on your computer: ####\n",
    "&nbsp;&nbsp;&nbsp;&nbsp;Macs - Terminal.app, &nbsp;&nbsp;Windows- Cygwin or the Windows Linux Subsystem. &nbsp;&nbsp;<mark>Jupyter- Kernel</mark>. The jupyter code cells send commands to the kernel and insert the output into the notebook.\n",
    "\n",
    "In addition, the command line is often the easiest way to interact with remote machines and supercomputers. Familiarity with the shell is near essential to run a variety of specialized tools and resources including high-performance computing systems. As clusters and cloud computing systems become more popular for scientific data crunching, being able to interact with the shell is becoming a necessary skill. We can build on the command-line skills covered here to tackle a wide range of scientific questions and computational challenges.\n",
    "\n",
    "Let’s get started.\n",
    "\n",
    "When the shell is first opened, you are presented with a **prompt**, indicating that the shell is waiting for input."
   ]
  },
  {
   "cell_type": "code",
   "execution_count": null,
   "id": "5c8d41ea-63e3-4c12-b88e-63187679c06a",
   "metadata": {},
   "outputs": [],
   "source": [
    "$"
   ]
  },
  {
   "cell_type": "markdown",
   "id": "9dec9b5e-a631-4988-b171-d54ce7473b95",
   "metadata": {},
   "source": [
    "**The Prompt** &nbsp;&nbsp;&nbsp;&nbsp; The shell typically uses **\\$** as the prompt, but may use a different symbol. Most importantly, do not type the prompt when typing commands. Only type the command that follows the prompt. This rule applies both in these lessons and in lessons from other sources. Also note that after you type a command, you have to press the **Enter** key to execute it.\n",
    "\n",
    "The prompt is followed by a text cursor, a character that indicates the position where your typing will appear. The cursor is usually a flashing or solid block, but it can also be an underscore or a pipe. You may have seen it in a text editor program, for example.\n",
    "\n",
    "So let’s try our first command, ls, which is short for listing. This command will list the contents of the current directory:"
   ]
  },
  {
   "cell_type": "code",
   "execution_count": 1,
   "id": "c4929ed0-a853-4ce7-9a7c-1fd427937d1e",
   "metadata": {},
   "outputs": [
    {
     "name": "stdout",
     "output_type": "stream",
     "text": [
      "README.md\n",
      "Shell_one.ipynb\n",
      "Shell_three.ipynb\n",
      "Shell_two.ipynb\n",
      "double_click_to_learn_about_notebooks.ipynb\n"
     ]
    }
   ],
   "source": [
    "ls"
   ]
  },
  {
   "cell_type": "markdown",
   "id": "5ac01663-033b-4906-90aa-6c428427abc3",
   "metadata": {
    "jp-MarkdownHeadingCollapsed": true
   },
   "source": [
    "## Nelle’s Pipeline: A Typical Problem\n",
    "Nelle Nemo, a marine biologist, has just returned from a six-month survey of the [North Pacific Gyre](https://en.wikipedia.org/wiki/North_Pacific_Gyre), where she has been sampling gelatinous marine life in the [Great Pacific Garbage Patch](https://en.wikipedia.org/wiki/Great_Pacific_Garbage_Patch). She has 1520 samples that she’s run through an assay machine to measure the relative abundance of 300 proteins. She needs to run these 1520 files through an imaginary program called **goostats.sh**. In addition to this huge task, she has to write up results by the end of the month, so her paper can appear in a special issue of Aquatic Goo Letters.\n",
    "\n",
    "If Nelle chooses to run **goostats.sh** by hand using a GUI, she’ll have to select and open a file 1520 times. If **goostats.sh** takes 30 seconds to run each file, the whole process will take more than 12 hours of Nelle’s attention. With the shell, Nelle can instead assign her computer this mundane task while she focuses her attention on writing her paper.\n",
    "\n",
    "**Automate and Save Time:** &nbsp;&nbsp;&nbsp;&nbsp;The next few lessons will explore the ways Nelle can achieve this. More specifically, the lessons explain how she can use a command shell to run the **goostats.sh** program, using loops to automate the repetitive steps of entering file names, so that her computer can work while she writes her paper.\n",
    "\n",
    "As a bonus, once she has put a processing pipeline together, she will be able to use it again whenever she collects more data.\n",
    "\n",
    "In order to achieve her task, Nelle needs to know how to:\n",
    "* navigate to a file/directory\n",
    "* create a file/directory\n",
    "* check the length of a file\n",
    "* chain commands together\n",
    "* retrieve a set of files\n",
    "* iterate over files\n",
    "* run a shell script containing her pipeline\n",
    "\n",
    "### *Key Points*\n",
    "* A shell is a program whose primary purpose is to read commands and run other programs.\n",
    "* This lesson uses Bash, the default shell in many implementations of Unix.\n",
    "* Programs can be run in Bash by entering commands at the command-line prompt.\n",
    "* The shell’s main advantages are its high action-to-keystroke ratio, its support for automating repetitive tasks, and its capacity to access networked machines.\n",
    "* The shell’s main disadvantages are its primarily textual nature and how cryptic its commands and operation can be."
   ]
  },
  {
   "cell_type": "markdown",
   "id": "a9cc3583-e535-4b0d-b468-d1a79f053ff4",
   "metadata": {},
   "source": [
    "# Navigating Files and Directories\n",
    "The part of the operating system responsible for managing files and directories is called the **file system**. It organizes our data into files, which hold information, and directories (also called ‘folders’), which hold files or other directories.\n",
    "\n",
    "Several commands are frequently used to create, inspect, rename, and delete files and directories. To start exploring them, we’ll go to our open shell window.\n",
    "\n",
    "First, let’s find out where we are by running a command called **pwd** (which stands for ‘print working directory’). Directories are like places — at any time while we are using the shell, we are in exactly one place called our **current working directory**. Commands mostly read and write files in the current working directory, i.e. ‘here’, so knowing where you are before running a command is important. **pwd** shows you where you are:"
   ]
  },
  {
   "cell_type": "code",
   "execution_count": 2,
   "id": "80dc2138-223f-46a9-8ae7-3fe64a977292",
   "metadata": {},
   "outputs": [
    {
     "name": "stdout",
     "output_type": "stream",
     "text": [
      "/Users/charligeer/Documents/2025_Spring/CM515-course-2025/modules/07_Command_Line\n"
     ]
    }
   ],
   "source": [
    "pwd"
   ]
  },
  {
   "cell_type": "markdown",
   "id": "2d6c569d-4e5a-4cdb-9e32-021dda362e9e",
   "metadata": {},
   "source": [
    "Here, the computer’s response is /Users/**Your Computer**, which is your **home directory**.\n",
    "\n",
    "### *Home Directory Validation*\n",
    "The home directory path will look different on different operating systems. Let's image Nelle's computer. On Linux, it may look like **/home/nelle**, and on Windows, it will be similar to **C:\\Documents and Settings\\nelle** or **C:\\Users\\nelle**. (Note that it may look slightly different for different versions of Windows.) In future examples, we’ve used Mac output as the default - Linux and Windows output may differ slightly but should be generally similar.\n",
    "\n",
    "We will also assume that your **pwd** command returns your user’s home directory. If pwd returns something different, you may need to navigate there using cd or some commands in this lesson will not work as written. See Exploring Other Directories for more details on the cd command.\n",
    "\n",
    "To understand what a ‘home directory’ is, let’s have a look at how the file system as a whole is organized. For the sake of this example, we’ll be illustrating the filesystem on our scientist Nelle’s computer. After this illustration, you’ll be learning commands to explore your own filesystem, which will be constructed in a similar way, but not be exactly identical.\n",
    "\n",
    "On Nelle’s computer, the filesystem looks like this:\n",
    "\n",
    "![image](./images/directories.png)\n",
    "\n",
    "At the top is the **root directory** that holds everything else. We refer to it using a slash character, **/**, on its own; this character is the leading slash in **/Users/nelle**.\n",
    "\n",
    "Inside that directory are several other directories: **bin** (which is where some built-in programs are stored), **data** (for miscellaneous data files), **Users** (where users’ personal directories are located), **tmp** (for temporary files that don’t need to be stored long-term), and so on.\n",
    "\n",
    "We know that our current working directory **/Users/nelle** is stored inside **/Users** because **/Users** is the first part of its name. Similarly, we know that **/Users** is stored inside the root directory **/** because its name begins with **/**.\n",
    "\n",
    "Notice that there are two meanings for the **/** character. When it appears at the front of a file or directory name, it refers to the root directory. When it appears *inside* a path, it’s just a separator.\n",
    "\n",
    "Underneath **/Users**, we find one directory for each user with an account on Nelle’s machine, her colleagues *imhotep* and *larry*.\n",
    "\n",
    "![image](./images/subdirectories.png)\n",
    "\n",
    "The user *imhotep*’s files are stored in **/Users/imhotep**, user *larry*’s in **/Users/larry**, and Nelle’s in **/Users/nelle**. Nelle is the user in our examples here; therefore, we get **/Users/nelle** as our home directory. Typically, when you open a new command prompt, you will be in your home directory to start.\n",
    "\n",
    "Now let’s learn the command that will let us see the contents of our own filesystem. We can see what’s in our home directory by running **ls**:\n"
   ]
  },
  {
   "cell_type": "code",
   "execution_count": null,
   "id": "e25f34cf-8e8b-4cd3-8ace-ad8ffc752ca0",
   "metadata": {},
   "outputs": [],
   "source": [
    "ls"
   ]
  },
  {
   "cell_type": "markdown",
   "id": "cb5ce0c0-f726-4245-98a6-f04a456903fc",
   "metadata": {},
   "source": [
    "(Again, your results may be slightly different depending on your operating system and how you have customized your filesystem.)\n",
    "\n",
    "**ls** prints the names of the files and directories in the current directory. We can make its output more comprehensible by using the **-F option** which tells **ls** to classify the output by adding a marker to file and directory names to indicate what they are:\n",
    "\n",
    "* a trailing **/** indicates that this is a directory\n",
    "* @ indicates a link\n",
    "* \\* indicates an executable\n",
    "* Depending on your shell’s default settings, the shell might also use colors to indicate whether each entry is a file or directory."
   ]
  },
  {
   "cell_type": "code",
   "execution_count": null,
   "id": "72f03373-d48b-46ac-87d5-98d4008e628b",
   "metadata": {},
   "outputs": [],
   "source": [
    "ls -F"
   ]
  },
  {
   "cell_type": "markdown",
   "id": "5437811e-f08a-47f9-aca3-d5298718a4ab",
   "metadata": {},
   "source": [
    "Here, we can see that the home directory contains only **sub-directories**. Any names in the output that don’t have a classification symbol are **files** in the current working directory.\n",
    "\n",
    "### *Clearing your terminal*\n",
    "If your screen gets too cluttered, you can clear your terminal using the **clear** command. You can still access previous commands using ↑ and ↓ to move line-by-line, or by scrolling in your terminal.\n",
    "\n",
    "## Getting Help\n",
    "**ls** has lots of other options. There are two common ways to find out how to use a command and what options it accepts — **depending on your environment, you might find that only one of these ways works:**\n",
    "\n",
    "1. We can pass a **--help** option to any command (available on Linux and Git Bash). Most bash commands and programs that people have written to be run from within bash, support a **--help** option that displays more information on how to use the command or program. For example:"
   ]
  },
  {
   "cell_type": "code",
   "execution_count": null,
   "id": "927408cd-faae-4aa9-a337-fb2cd26ef6c1",
   "metadata": {},
   "outputs": [],
   "source": [
    "ls --help"
   ]
  },
  {
   "cell_type": "markdown",
   "id": "71dc4fb7-94c0-4bff-804d-bf368e54772a",
   "metadata": {},
   "source": [
    "2. We can read its manual with **man** (available on Linux and macOS). This command will turn your terminal into a page with a description of the **ls** command and its options.\n",
    "\n",
    "To navigate through the man pages, you may use ↑ and ↓ to move line-by-line, or try **B** and **Spacebar** to skip up and down by a full page. To search for a character or word in the man pages, use **/** followed by the character or word you are searching for. Sometimes a search will result in multiple hits. If so, you can move between hits using **N** (for moving forward) and **Shift+N** (for moving backward).\n",
    "\n",
    "To quit the man pages, press **Q**."
   ]
  },
  {
   "cell_type": "code",
   "execution_count": null,
   "id": "bfcec853-20df-4439-9f2e-6e67c25b032a",
   "metadata": {},
   "outputs": [],
   "source": [
    "man ls"
   ]
  },
  {
   "cell_type": "markdown",
   "id": "8a1f1e5b-300c-47ca-892d-b9831ed6d8cd",
   "metadata": {},
   "source": [
    "3. Of course, there is a third way to access help for commands: searching the internet via your web browser. When using internet search, including the phrase **unix man page** in your search query will help to find relevant results.\n",
    "\n",
    "GNU provides links to its [manuals](https://www.gnu.org/manual/manual.html) including the [core GNU utilities](https://www.gnu.org/software/coreutils/manual/coreutils.html), which covers many commands introduced within this lesson.\n",
    "\n",
    "### *Exploring More* ls *Options*\n",
    "You can also use two options at the same time. What does the command **ls** do when used with the **-l** option? What about if you use both the **-l** and the **-h** option?\n",
    "\n",
    "Some of its output is about properties that we do not cover in this lesson (such as file permissions and ownership), but the rest should be useful nevertheless."
   ]
  },
  {
   "cell_type": "code",
   "execution_count": null,
   "id": "19823039-b52d-4445-9a37-f8cc2bd9ed92",
   "metadata": {},
   "outputs": [],
   "source": [
    "ls -lh"
   ]
  },
  {
   "cell_type": "markdown",
   "id": "d06ef67c-6318-4d5b-a7bc-d60c6eabdbac",
   "metadata": {},
   "source": [
    "The **-l** option makes **ls** use a long listing format, showing not only the file/directory names but also additional information, such as the file size and the time of its last modification. If you use both the **-h** option and the **-l** option, this makes the file size ‘human readable’, i.e. displaying something like **5.3K** instead of **5369**.\n",
    "\n",
    "### *Listing in Reverse Chronological Order*\n",
    "By default, **ls** lists the contents of a directory in alphabetical order by name. The command **ls -t** lists items by time of last change instead of alphabetically. The command **ls -r** lists the contents of a directory in reverse order. Which file is displayed last when you combine the **-t** and **-r** options? Hint: You may need to use the **-l** option to see the last changed dates."
   ]
  },
  {
   "cell_type": "code",
   "execution_count": null,
   "id": "993e685f-e769-4665-8bbf-23cf87d3771a",
   "metadata": {},
   "outputs": [],
   "source": []
  },
  {
   "cell_type": "markdown",
   "id": "b03ea54e-47d2-4050-a491-e4a95d01e566",
   "metadata": {},
   "source": [
    "The most recently changed file is listed last when using **-rt**. This can be very useful for finding your most recent edits or checking to see if a new output file was written.\n",
    "\n",
    "## Exploring Other Directories\n",
    "Not only can we use **ls** on the current working directory, but we can use it to list the contents of a different directory. Let’s take a look at our **Desktop** directory by running **ls -F Desktop**, i.e., the command **ls** with the **-F** option and the argument **Desktop**. The argument **Desktop** tells **ls** that we want a listing of something other than our current working directory:"
   ]
  },
  {
   "cell_type": "code",
   "execution_count": null,
   "id": "997b229d-d9f7-40c7-a8de-2c7335ae1592",
   "metadata": {},
   "outputs": [],
   "source": [
    "ls -F Desktop"
   ]
  },
  {
   "cell_type": "markdown",
   "id": "0d4952af-72af-4780-a110-085b9ab44525",
   "metadata": {},
   "source": [
    "Note that if a directory named **Desktop** does not exist in your current working directory, this command will return an error. Typically, a **Desktop** directory exists in your home directory, which we assume is the current working directory of your bash shell.\n",
    "\n",
    "Your output should be a list of all the files and sub-directories in your Desktop directory, including the **shell-lesson-data** directory you downloaded at the setup for this lesson. On many systems, the command line Desktop directory is the same as your GUI Desktop. Take a look at your Desktop to confirm that your output is accurate.\n",
    "\n",
    "As you may now see, the bash shell strongly depends on your files being organized in a hierarchical file system. Organizing things hierarchically in this way helps us keep track of our work: it’s possible to put hundreds of files in our home directory, just as it’s possible to pile hundreds of printed papers on our desk, but it’s a self-defeating strategy.\n",
    "\n",
    "Now that we know the **shell-lesson-data directory** is located in our Desktop directory, we can do two things.\n",
    "\n",
    "First, using the same strategy as before, we can look at its contents by passing a directory name to **ls**:"
   ]
  },
  {
   "cell_type": "code",
   "execution_count": null,
   "id": "acdf7d38-8b30-47c1-a68f-a0124a606907",
   "metadata": {},
   "outputs": [],
   "source": [
    "ls -F Desktop/shell-lesson-data"
   ]
  },
  {
   "cell_type": "markdown",
   "id": "1105504a-7d4a-458d-9130-042958b4cc53",
   "metadata": {},
   "source": [
    "Second, we can actually change our location to a different directory, so we are no longer located in our home directory.\n",
    "\n",
    "The command to change locations is **cd** followed by a directory name to change our working directory. **cd** stands for ‘change directory’, which is a bit misleading. The command doesn’t change the directory; it changes the shell’s current working directory. In other words it changes the shell’s settings for what directory we are in. The **cd** command is akin to double-clicking a folder in a graphical interface to get into that folder.\n",
    "\n",
    "Let’s say we want to move into the **exercise-data** directory we saw above. We can use the following series of commands to get there:"
   ]
  },
  {
   "cell_type": "code",
   "execution_count": null,
   "id": "c4345187-0f2c-4cdc-a3f6-283c99f386b6",
   "metadata": {},
   "outputs": [],
   "source": [
    "cd Desktop\n",
    "cd shell-lesson-data\n",
    "cd exercise-data"
   ]
  },
  {
   "cell_type": "markdown",
   "id": "6788995d-c3a8-416b-bb85-3ff98f800065",
   "metadata": {},
   "source": [
    "These commands will move us from our home directory into our Desktop directory, then into the **shell-lesson-data directory**, then into the **exercise-data** directory. You will notice that **cd** doesn’t print anything. This is normal. Many shell commands will not output anything to the screen when successfully executed. But if we run **pwd** after it, we can see that we are now in **/Users/nelle/Desktop/shell-lesson-data/exercise-data**.\n",
    "\n",
    "If we run **ls -F** without arguments now, it lists the contents of **/Users/nelle/Desktop/shell-lesson-data/exercise-data**, because that’s where we now are:"
   ]
  },
  {
   "cell_type": "code",
   "execution_count": null,
   "id": "5c35dc37-8123-43d3-a618-4e4ee77e2d25",
   "metadata": {},
   "outputs": [],
   "source": [
    "pwd"
   ]
  },
  {
   "cell_type": "code",
   "execution_count": null,
   "id": "cd1f964e-a62c-45ce-9d96-b9aca1aa3c43",
   "metadata": {},
   "outputs": [],
   "source": [
    "ls -F"
   ]
  },
  {
   "cell_type": "markdown",
   "id": "8d92655d-be0c-47cf-bc19-498022627743",
   "metadata": {},
   "source": [
    "We now know how to go down the directory tree (i.e. how to go into a subdirectory), but how do we go up (i.e. how do we leave a directory and go into its parent directory)? We might try the following:"
   ]
  },
  {
   "cell_type": "code",
   "execution_count": null,
   "id": "7d51f430-d572-44fd-84cc-053a1f9396ee",
   "metadata": {},
   "outputs": [],
   "source": [
    "cd shell-lesson-data"
   ]
  },
  {
   "cell_type": "markdown",
   "id": "9dace381-f9ac-43bb-bb6e-6dfd71855456",
   "metadata": {},
   "source": [
    "But we get an error! Why is this?\n",
    "\n",
    "With our methods so far, **cd** can only see sub-directories inside your current directory. There are different ways to see directories above your current location; we’ll start with the simplest.\n",
    "\n",
    "There is a shortcut in the shell to move up one directory level. It works as follows:"
   ]
  },
  {
   "cell_type": "code",
   "execution_count": null,
   "id": "c9cb8fcc-39bf-4d25-9a28-db145e156ff9",
   "metadata": {},
   "outputs": [],
   "source": [
    "cd .."
   ]
  },
  {
   "cell_type": "markdown",
   "id": "3a922df5-bd25-41d1-ba0c-0961d31c2442",
   "metadata": {},
   "source": [
    "**..** is a special directory name meaning “the directory containing this one”, or more succinctly, the **parent** of the current directory. Sure enough, if we run **pwd** after running **cd ..**, we’re back in **/Users/nelle/Desktop/shell-lesson-data**:"
   ]
  },
  {
   "cell_type": "code",
   "execution_count": null,
   "id": "592fe774-67bc-48eb-8d4b-006d0887995f",
   "metadata": {},
   "outputs": [],
   "source": [
    "pwd"
   ]
  },
  {
   "cell_type": "markdown",
   "id": "e2c42870-47da-4654-89a2-0c34e1d09e76",
   "metadata": {},
   "source": [
    "The special directory **..** doesn’t usually show up when we run **ls**. If we want to display it, we can add the **-a** option to **ls -F**:"
   ]
  },
  {
   "cell_type": "code",
   "execution_count": null,
   "id": "f0d3d719-bb05-4344-abcd-2ebf7f85945f",
   "metadata": {},
   "outputs": [],
   "source": [
    "ls -F -a"
   ]
  },
  {
   "cell_type": "markdown",
   "id": "e9ce0e4e-fc03-49ff-acae-ff013e49d645",
   "metadata": {},
   "source": [
    "**-a** stands for ‘show all’ (including hidden files); it forces **ls** to show us file and directory names that begin with **.**, such as **..** (which, if we’re in /Users/nelle, refers to the /Users directory). As you can see, it also displays another special directory that’s just called **.**, which means ‘the current working directory’. It may seem redundant to have a name for it, but we’ll see some uses for it soon.\n",
    "\n",
    "Note that in most command line tools, multiple options can be combined with a single **-** and no spaces between the options; **ls -F -a** is equivalent to **ls -Fa**.\n",
    "\n",
    "### *Other Hidden Files*\n",
    "In addition to the hidden directories **..** and **.**, you may also see a file called **.bash_profile**. This file usually contains shell configuration settings. You may also see other files and directories beginning with **..** These are usually files and directories that are used to configure different programs on your computer. The prefix **.** is used to prevent these configuration files from cluttering the terminal when a standard **ls** command is used.\n",
    "\n",
    "These three commands are the basic commands for navigating the filesystem on your computer: **pwd**, **ls**, and **cd**. Let’s explore some variations on those commands. What happens if you type **cd** on its own, without giving a directory?"
   ]
  },
  {
   "cell_type": "code",
   "execution_count": null,
   "id": "9eae94d7-7cb4-4db5-b833-55bfd11feb7f",
   "metadata": {},
   "outputs": [],
   "source": [
    "cd"
   ]
  },
  {
   "cell_type": "markdown",
   "id": "16e92dd8-443b-48d8-bcd6-263fbef6e407",
   "metadata": {},
   "source": [
    "How can you check what happened? **pwd** gives us the answer!"
   ]
  },
  {
   "cell_type": "code",
   "execution_count": null,
   "id": "83e87f93-fb87-47a5-af72-2c9b79042d4d",
   "metadata": {},
   "outputs": [],
   "source": [
    "pwd"
   ]
  },
  {
   "cell_type": "markdown",
   "id": "47ebc6a6-20b5-4893-8aca-b54de64c347f",
   "metadata": {},
   "source": [
    "It turns out that **cd** without an argument will return you to your home directory, which is great if you’ve got lost in your own filesystem.\n",
    "\n",
    "Let’s try returning to the **exercise-data** directory from before. Last time, we used three commands, but we can actually string together the list of directories to move to **exercise-data** in one step:"
   ]
  },
  {
   "cell_type": "code",
   "execution_count": null,
   "id": "a332b8e0-9566-4d37-8d7f-038cc2dea4d3",
   "metadata": {},
   "outputs": [],
   "source": [
    "cd Desktop/shell-lesson-data/exercise-data"
   ]
  },
  {
   "cell_type": "markdown",
   "id": "196b4d77-b2c5-4960-865c-ff9065e829d9",
   "metadata": {},
   "source": [
    "Check that we’ve moved to the right place by running **pwd** and **ls -F**.\n",
    "\n",
    "If we want to move up one level from the data directory, we could use **cd ..**. But there is another way to move to any directory, regardless of your current location.\n",
    "\n",
    "So far, when specifying directory names, or even a directory path (as above), we have been using **relative paths**. When you use a relative path with a command like **ls** or **cd**, it tries to find that location from where we are, rather than from the root of the file system.\n",
    "\n",
    "However, it is possible to specify the **absolute path** to a directory by including its entire path from the root directory, which is indicated by a leading slash. The leading **/** tells the computer to follow the path from the root of the file system, so it always refers to exactly one directory, no matter where we are when we run the command.\n",
    "\n",
    "This allows us to move to our **shell-lesson-data** directory from anywhere on the filesystem (including from inside **exercise-data**). To find the absolute path we’re looking for, we can use **pwd** and then extract the piece we need to move to shell-lesson-data."
   ]
  },
  {
   "cell_type": "code",
   "execution_count": null,
   "id": "f7820313-6209-41d5-b870-5b9a6fc89c94",
   "metadata": {},
   "outputs": [],
   "source": [
    "pwd"
   ]
  },
  {
   "cell_type": "code",
   "execution_count": null,
   "id": "3d7154ba-ab00-47e1-a4c7-1678eefad4d5",
   "metadata": {},
   "outputs": [],
   "source": [
    "ls -F"
   ]
  },
  {
   "cell_type": "markdown",
   "id": "fa508cb8-dadc-48a5-a686-e7dfb77fa167",
   "metadata": {},
   "source": [
    "### *Two More Shortcuts*\n",
    "\n",
    "The shell interprets a tilde (**~**) character at the start of a path to mean “the current user’s home directory”. For example, if Nelle’s home directory is **/Users/nelle**, then **~/data** is equivalent to **/Users/nelle/data**. This only works if it is the first character in the path; **here/there/~/elsewhere** is not **here/there/Users/nelle/elsewhere**.\n",
    "\n",
    "Another shortcut is the **-** (dash) character. **cd** will translate **-** into the previous directory I was in, which is faster than having to remember, then type, the full path. This is a very efficient way of moving back and forth between two directories – i.e. if you execute **cd -** twice, you end up back in the starting directory.\n",
    "\n",
    "The difference between **cd ..** and **cd -** is that the former brings you up, while the latter brings you back.\n",
    "\n",
    "Try it! First navigate to **~/Desktop/shell-lesson-data** (you should already be there)."
   ]
  },
  {
   "cell_type": "code",
   "execution_count": null,
   "id": "d4b94d17-a94c-45ee-859b-28492ae59390",
   "metadata": {},
   "outputs": [],
   "source": [
    "cd ~/Desktop/shell-lesson-data"
   ]
  },
  {
   "cell_type": "markdown",
   "id": "0e3d83c4-2dfc-4681-8972-d3ba37f2e910",
   "metadata": {},
   "source": [
    "Then **cd** into the **exercise-data/creatures** directory"
   ]
  },
  {
   "cell_type": "code",
   "execution_count": null,
   "id": "5f936d5c-6234-48fb-901c-5b1c573e425b",
   "metadata": {},
   "outputs": [],
   "source": [
    "cd exercise-data/creatures"
   ]
  },
  {
   "cell_type": "markdown",
   "id": "3cc5005e-6051-496a-8dfe-cb88546da15d",
   "metadata": {},
   "source": [
    "Now if you run"
   ]
  },
  {
   "cell_type": "code",
   "execution_count": null,
   "id": "fc39c43c-b181-4937-ae10-b1121e15ed14",
   "metadata": {},
   "outputs": [],
   "source": [
    "cd -"
   ]
  },
  {
   "cell_type": "markdown",
   "id": "42a20e19-7a19-4003-b802-3f2a1dc0fa69",
   "metadata": {},
   "source": [
    "you’ll see you’re back in **~/Desktop/shell-lesson-data**. Run **cd -** again and you’re back in **~/Desktop/shell-lesson-data/exercise-data/creatures**\n",
    "\n",
    "### *Absolute vs Relative Paths Practice*\n",
    "\n",
    "Starting from /Users/amanda/data, which of the following commands could Amanda use to navigate to her home directory, which is /Users/amanda?\n",
    "\n",
    "1. cd .\n",
    "2. cd /\n",
    "3. cd /home/amanda\n",
    "4. cd ../..\n",
    "5. cd ~\n",
    "6. cd home\n",
    "7. cd ~/data/..\n",
    "8. cd\n",
    "9. cd ..\n",
    "\n",
    "# General Syntax of a Shell Command\n",
    "\n",
    "We have now encountered commands, options, and arguments, but it is perhaps useful to formalise some terminology.\n",
    "\n",
    "Consider the command below as a general example of a command, which we will dissect into its component parts:"
   ]
  },
  {
   "cell_type": "code",
   "execution_count": null,
   "id": "2d9ef7e6-34b4-4f9f-becc-413cb9d112a8",
   "metadata": {},
   "outputs": [],
   "source": [
    "ls -F /"
   ]
  },
  {
   "cell_type": "markdown",
   "id": "bdb0c79d-ff52-47ca-a1b7-6123b78a7047",
   "metadata": {},
   "source": [
    "IMAGE OF SHELL SYNTAX\n",
    "\n",
    "**ls** is the command, with an **option -F** and an **argument /**. We’ve already encountered options which either start with a single dash (**-**) or two dashes (**--**), and they change the behavior of a command. **Arguments** tell the command what to operate on (e.g. files and directories). Sometimes options and arguments are referred to as **parameters**. A command can be called with more than one option and more than one argument, but a command doesn’t always require an argument or an option.\n",
    "\n",
    "You might sometimes see options being referred to as **switches** or **flags**, especially for options that take no argument. In this lesson we will stick with using the term option.\n",
    "\n",
    "Each part is separated by spaces. If you omit the space between **ls** and **-F** the shell will look for a command called ls-F, which doesn’t exist. Also, capitalization can be important. For example, **ls -s** will display the size of files and directories alongside the names, while **ls -S** will sort the files and directories by size, as shown below:"
   ]
  },
  {
   "cell_type": "code",
   "execution_count": null,
   "id": "930831b0-d7fe-45fb-a5f7-05f54a073c91",
   "metadata": {},
   "outputs": [],
   "source": [
    "cd ~/Desktop/shell-lesson-data\n",
    "ls -s exercise-data"
   ]
  },
  {
   "cell_type": "markdown",
   "id": "587270fa-c2b5-4228-9a54-902e91154f9b",
   "metadata": {},
   "source": [
    "Note that the sizes returned by **ls -s** are in blocks. As these are defined differently for different operating systems, you may not obtain the same figures as in the example."
   ]
  },
  {
   "cell_type": "code",
   "execution_count": null,
   "id": "92b1df78-5e6a-4de4-bdf8-6b638687b0c3",
   "metadata": {},
   "outputs": [],
   "source": [
    "ls -S exercise-data"
   ]
  },
  {
   "cell_type": "markdown",
   "id": "af8eb8d2-19b9-4b35-9e50-db8454f49e1d",
   "metadata": {},
   "source": [
    "Putting all that together, our command **ls -F /** above gives us a listing of files and directories in the root directory **/**. An example of the output you might get from the above command is given below:\n",
    "\n",
    "Applications/         System/\n",
    "Library/              Users/\n",
    "Network/              Volumes/"
   ]
  },
  {
   "cell_type": "code",
   "execution_count": null,
   "id": "3f5cb45b-5c26-4310-b9b7-74e6bb71d056",
   "metadata": {},
   "outputs": [],
   "source": [
    "ls -F /"
   ]
  },
  {
   "cell_type": "markdown",
   "id": "f2047b9e-0acf-4c0a-90eb-0ca7f053ad0b",
   "metadata": {},
   "source": [
    "## Nelle’s Pipeline: Organizing Files\n",
    "\n",
    "Knowing this much about files and directories, Nelle is ready to organize the files that the protein assay machine will create.\n",
    "\n",
    "She creates a directory called **north-pacific-gyre** (to remind herself where the data came from), which will contain the data files from the assay machine and her data processing scripts.\n",
    "\n",
    "Each of her physical samples is labelled according to her lab’s convention with a unique ten-character ID, such as ‘NENE01729A’. This ID is what she used in her collection log to record the location, time, depth, and other characteristics of the sample, so she decides to use it within the filename of each data file. Since the output of the assay machine is plain text, she will call her files **NENE01729A.txt**, **NENE01812A.txt**, and so on. All 1520 files will go into the same directory.\n",
    "\n",
    "Now in her current directory **shell-lesson-data**, Nelle can see what files she has using the command:"
   ]
  },
  {
   "cell_type": "code",
   "execution_count": null,
   "id": "13098c4f-d5fe-4bc5-a407-d851673bdc50",
   "metadata": {},
   "outputs": [],
   "source": [
    "ls north-pacific-gyre/"
   ]
  },
  {
   "cell_type": "markdown",
   "id": "1b91cbfa-4825-4333-b18a-cf24263fdb23",
   "metadata": {},
   "source": [
    "This command is a lot to type, but she can let the shell do most of the work through what is called **tab completion**. If she types:\n",
    "\n",
    "**ls nor**\n",
    "\n",
    "and then presses **Tab** (the tab key on her keyboard), the shell automatically completes the directory name for her:"
   ]
  },
  {
   "cell_type": "code",
   "execution_count": null,
   "id": "16df02b0-7058-47b9-99b6-2f207fa529b0",
   "metadata": {},
   "outputs": [],
   "source": [
    "ls nor"
   ]
  },
  {
   "cell_type": "markdown",
   "id": "a7a15aa4-5fe8-4d44-bd08-56dc133a06be",
   "metadata": {},
   "source": [
    "Pressing **Tab** again does nothing, since there are multiple possibilities; pressing **Tab** twice brings up a list of all the files.\n",
    "\n",
    "If Nelle then presses **G** and then presses **Tab** again, the shell will append ‘goo’ since all files that start with ‘g’ share the first three characters ‘goo’."
   ]
  },
  {
   "cell_type": "code",
   "execution_count": null,
   "id": "d8927c49-9a62-4c79-9cbd-f5b20ec409d3",
   "metadata": {},
   "outputs": [],
   "source": [
    "ls north-pacific-gyre/goo"
   ]
  },
  {
   "cell_type": "markdown",
   "id": "e420b8c3-bb18-43c4-95df-8f1fb67b29bf",
   "metadata": {},
   "source": [
    "To see all of those files, she can press **Tab** twice more."
   ]
  },
  {
   "cell_type": "code",
   "execution_count": null,
   "id": "cd7296cc-c0df-4d30-a079-4e3fb5b50830",
   "metadata": {},
   "outputs": [],
   "source": [
    "ls north-pacific-gyre/goo"
   ]
  },
  {
   "cell_type": "markdown",
   "id": "c1b9f898-8ed3-4e4e-b0df-b77a8ed382ce",
   "metadata": {},
   "source": [
    "This is called **tab completion**, and we will see it in many other tools as we go on.\n",
    "\n",
    "### *Key Points*\n",
    "* The file system is responsible for managing information on the disk.\n",
    "* Information is stored in files, which are stored in directories (folders).\n",
    "* Directories can also store other directories, which then form a directory tree.\n",
    "* **pwd** prints the user’s current working directory.\n",
    "* **ls** \\[path\\] prints a listing of a specific file or directory; **ls** on its own lists the current working directory.\n",
    "* **cd** \\[path\\] changes the current working directory.\n",
    "* Most commands take options that begin with a single **-**.\n",
    "* Directory names in a path are separated with / on Unix, but \\ on Windows.\n",
    "* / on its own is the root directory of the whole file system.\n",
    "* An absolute path specifies a location from the root of the file system.\n",
    "* A relative path specifies a location starting from the current location.\n",
    "* **.** on its own means ‘the current directory’; **..** means ‘the directory above the current one’."
   ]
  },
  {
   "cell_type": "code",
   "execution_count": null,
   "id": "67401577-f356-4ce2-820f-64069c0fc79c",
   "metadata": {},
   "outputs": [],
   "source": []
  }
 ],
 "metadata": {
  "kernelspec": {
   "display_name": "Bash",
   "language": "bash",
   "name": "bash"
  },
  "language_info": {
   "codemirror_mode": "shell",
   "file_extension": ".sh",
   "mimetype": "text/x-sh",
   "name": "bash"
  }
 },
 "nbformat": 4,
 "nbformat_minor": 5
}
